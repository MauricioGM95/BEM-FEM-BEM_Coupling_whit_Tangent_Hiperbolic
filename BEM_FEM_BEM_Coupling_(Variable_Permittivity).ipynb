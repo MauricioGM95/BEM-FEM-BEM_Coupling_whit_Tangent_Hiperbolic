{
 "cells": [
  {
   "cell_type": "code",
   "execution_count": 1,
   "metadata": {},
   "outputs": [],
   "source": [
    "#Importing libraries\n",
    "import bempp.api\n",
    "import numpy as np \n",
    "import dolfin\n",
    "from readoff import *\n",
    "from readpqr import *\n",
    "import trimesh\n",
    "import time\n",
    "start = time.time()"
   ]
  },
  {
   "cell_type": "code",
   "execution_count": 2,
   "metadata": {},
   "outputs": [],
   "source": [
    "#Main Data to modify.\n",
    "#Physical parameters.\n",
    "em = 4.           #[-] Interior electrical permittivity of the solute.\n",
    "es = 80.          #[-] Exterior electrical permittivity of the solvent.\n",
    "ks = 0.125        #[1/A] Inverse of the Debey-Huckel length of the fluid in the solvent.\n",
    "\n",
    "#Choice of solute.\n",
    "MeshV = 'Mallas_V/outputTetMeshSphere58R4T11.xml'  #Location of the volumetric mesh of the solute for which the energy is to be calculated. In \"xml\" format.\n",
    "PQR  =  'PQR/Sphere5Q3.pqr'              #Location of the position and charges of the solute for which the energy is to be calculated. In \"pqr\" format.\n",
    "FileA = 'Lista_A/Alfa_Sphere58R4T11.txt' #Location of the solute alpha values file to work with variable permittivities. In \"txt\" format. If not necessary, place ''.\n",
    "\n",
    "#Assembly of border operators.\n",
    "#fmm: For molecules with a greater number of vertices.\n",
    "#default_nonlocal: For molecules with a small number of vertices.    \n",
    "Assemble = 'default_nonlocal' \n",
    "\n",
    "#Important parameters of the GMRES.\n",
    "Tol =1e-6    #GMRES tolerance.\n",
    "Res =100     #Restart of the GMRES in each iteration.\n",
    "\n",
    "#Choice of variable permittivity method in the intermediate domain.\n",
    "# 'C' if it is Constant.\n",
    "# 'VL' if it is for Linear variable.\n",
    "# 'VTH' if it is by Hyperbolic Tangent variable.\n",
    "# 'VR' if it is by variable by Radius of the solute atoms.\n",
    "Va = 'VTH' \n",
    "\n",
    "#For the case of Hyperbolic Tangent.\n",
    "kp = 'N'                     #[-] Transition slope of the Hyperbolic Tangent from 0 to infinity. 'N'for kp tending to infinity.\n",
    "#For the constant and radius variable case.\n",
    "ei = 10.         #[-] Exterior electrical permittivity of the intermediate domain.\n",
    "ki = 0           #[1/A] Inverse of the Debey-Huckel length of the fluid in the intermediate domain.\n",
    "\n",
    "#Secondary parameters when working with the fmm assembly.\n",
    "bempp.api.GLOBAL_PARAMETERS.fmm.expansion_order = 5  \n",
    "bempp.api.GLOBAL_PARAMETERS.fmm.ncrit = 400          \n",
    "bempp.api.GLOBAL_PARAMETERS.quadrature.regular = 4  "
   ]
  },
  {
   "cell_type": "code",
   "execution_count": 3,
   "metadata": {},
   "outputs": [],
   "source": [
    "#Data on the position in space, charge and radii of the atoms of the molecule.\n",
    "PC,Q,R = readpqr(PQR)   "
   ]
  },
  {
   "cell_type": "code",
   "execution_count": 4,
   "metadata": {},
   "outputs": [],
   "source": [
    "#Import the volumetric mesh of the solute.\n",
    "from dolfin import Mesh\n",
    "mesh = Mesh(MeshV)  #Creation of the volumetric mesh."
   ]
  },
  {
   "cell_type": "code",
   "execution_count": 5,
   "metadata": {},
   "outputs": [],
   "source": [
    "#Generate global functional spaces of the potential in Fem and its derivative in Bem.\n",
    "from bempp.api.external import fenics\n",
    "fenics_space = dolfin.FunctionSpace(mesh, \"CG\", 1)  #Electrostatic potential at the interface and domain of the solute.\n",
    "trace_space, trace_matrix = \\\n",
    "    fenics.fenics_to_bempp_trace_data(fenics_space) #Global trace space to work in BEM and FEM simultaneously."
   ]
  },
  {
   "cell_type": "code",
   "execution_count": 6,
   "metadata": {},
   "outputs": [
    {
     "name": "stdout",
     "output_type": "stream",
     "text": [
      "Found 2 meshes\n",
      "FEM dofs: 50529\n",
      "BEM1 dofs: 4591\n",
      "BEM2 dofs: 11924\n",
      "Tra1 dofs: 4591\n",
      "Tra2 dofs: 11924\n",
      "TraL dofs: 16515\n"
     ]
    }
   ],
   "source": [
    "#Process to separate the trace_space for the case of the inner mesh and the outer mesh individually.\n",
    "#Code to identify vertices and faces of the inner and outer mesh.\n",
    "faces0 = trace_space.grid.elements\n",
    "vertices0 = trace_space.grid.vertices\n",
    "meshSP = trimesh.Trimesh(vertices = vertices0.transpose(), faces= faces0.transpose())\n",
    "mesh_split = meshSP.split()\n",
    "print(\"Found %i meshes\"%len(mesh_split))\n",
    "V1 = len(mesh_split[0].vertices)\n",
    "F1 = len(mesh_split[0].faces)\n",
    "\n",
    "#Obtaining the inner surface mesh.\n",
    "faces1 = faces0.transpose()[:F1]\n",
    "vertices1 = vertices0.transpose()[:V1]\n",
    "grid1 = bempp.api.grid.grid.Grid(vertices1.transpose(), faces1.transpose())\n",
    "bempp_space1 = bempp.api.function_space(grid1, \"P\", 1) # Derived from the electrostatic potential at the inner interface.\n",
    "trace_space1 = bempp.api.function_space(grid1, \"P\", 1) # Trace space to work at inner BEM and FEM simultaneously.\n",
    "\n",
    "#Obtaining the outer surface mesh.\n",
    "faces2 = faces0.transpose()[F1:]\n",
    "vertices2 = vertices0.transpose()[V1:]\n",
    "grid2 = bempp.api.grid.grid.Grid(vertices2.transpose(), (faces2-len(vertices1)).transpose())\n",
    "bempp_space2 = bempp.api.function_space(grid2, \"P\", 1) # Derived from the electrostatic potential at the upper interface.\n",
    "trace_space2 = bempp.api.function_space(grid2, \"P\", 1) # Trace space to work at outer BEM and FEM simultaneously.\n",
    "\n",
    "#Element visualization.\n",
    "print(\"FEM dofs: {0}\".format(mesh.num_vertices()))\n",
    "print(\"BEM1 dofs: {0}\".format(bempp_space1.global_dof_count))\n",
    "print(\"BEM2 dofs: {0}\".format(bempp_space2.global_dof_count))\n",
    "print(\"Tra1 dofs: {0}\".format(trace_space1.global_dof_count))\n",
    "print(\"Tra2 dofs: {0}\".format(trace_space2.global_dof_count))\n",
    "print(\"TraL dofs: {0}\".format(trace_space.global_dof_count))"
   ]
  },
  {
   "cell_type": "code",
   "execution_count": 7,
   "metadata": {},
   "outputs": [],
   "source": [
    "#Process to separate the trace_matrix for the case of the lower mesh and the upper mesh individually.\n",
    "Nodos = np.zeros(trace_space.global_dof_count)\n",
    "Lista_Vertices = []\n",
    "\n",
    "#Procedure to locate the vertices of the lower trace in the global trace.\n",
    "for i in range(len(trace_space1.grid.vertices.T)):\n",
    "    valores = np.linalg.norm(trace_space1.grid.vertices[:, i] - trace_space.grid.vertices.T,axis= 1)\n",
    "    index = np.argmin(valores)\n",
    "    Lista_Vertices.append(index)\n",
    "    \n",
    "Nodos[Lista_Vertices] = 1\n",
    "trace_matrix1 = trace_matrix[Nodos.astype(bool)]\n",
    "trace_matrix2 = trace_matrix[np.logical_not(Nodos)]"
   ]
  },
  {
   "cell_type": "code",
   "execution_count": 8,
   "metadata": {},
   "outputs": [],
   "source": [
    "#Generate the boundary operators.\n",
    "#Identity operators.\n",
    "I1 = bempp.api.operators.boundary.sparse.identity(trace_space1, bempp_space1, bempp_space1) # 1\n",
    "I2 = bempp.api.operators.boundary.sparse.identity(trace_space2, bempp_space2, bempp_space2) # 1\n",
    "mass1 = bempp.api.operators.boundary.sparse.identity(bempp_space1, trace_space1, trace_space1) # 1\n",
    "mass2 = bempp.api.operators.boundary.sparse.identity(bempp_space2, trace_space2, trace_space2) # 1\n",
    "\n",
    "#Domain of solute Ωm in BEM.\n",
    "K1 = bempp.api.operators.boundary.laplace.double_layer(trace_space1, bempp_space1, bempp_space1, assembler=Assemble) #K\n",
    "V1 = bempp.api.operators.boundary.laplace.single_layer(bempp_space1, bempp_space1, bempp_space1, assembler=Assemble) #V\n",
    "Z1 = bempp.api.ZeroBoundaryOperator(bempp_space2, bempp_space1, bempp_space1) #0\n",
    "\n",
    "#Domain of solvent Ωs in BEM.\n",
    "Z2 = bempp.api.ZeroBoundaryOperator(bempp_space1, bempp_space2, bempp_space2) #0\n",
    "if ks==0:\n",
    "    K2 = bempp.api.operators.boundary.laplace.double_layer(trace_space2, bempp_space2, bempp_space2, assembler=Assemble) #K\n",
    "    V2 = bempp.api.operators.boundary.laplace.single_layer(bempp_space2, bempp_space2, bempp_space2, assembler=Assemble) #V  \n",
    "else:\n",
    "    K2 = bempp.api.operators.boundary.modified_helmholtz.double_layer(trace_space2, bempp_space2, bempp_space2, ks, assembler=Assemble) #K\n",
    "    V2 = bempp.api.operators.boundary.modified_helmholtz.single_layer(bempp_space2, bempp_space2, bempp_space2, ks, assembler=Assemble) #V"
   ]
  },
  {
   "cell_type": "code",
   "execution_count": 9,
   "metadata": {},
   "outputs": [],
   "source": [
    "#Define Dolfin's functional space.\n",
    "u = dolfin.TrialFunction(fenics_space)\n",
    "v = dolfin.TestFunction(fenics_space)"
   ]
  },
  {
   "cell_type": "code",
   "execution_count": 10,
   "metadata": {},
   "outputs": [],
   "source": [
    "#Definition of the variable functions of the intermediate domain.\n",
    "def Lista_Alfa(File): #Function to obtain the alpha parameter of the text and save it in a list.\n",
    "    L_Alfa = []\n",
    "    with open(File,\"r\") as f:  \n",
    "        lines = f.readlines()\n",
    "    for line in lines:\n",
    "        line = line.split()\n",
    "        L_Alfa.append(float(line[0]))\n",
    "    return L_Alfa\n",
    "\n",
    "#Case ei by variable by Hyperbolic Tangent. \n",
    "class Fun_ei_Tangente_Hiperbolica(dolfin.UserExpression):  \n",
    "    def __init__(self,kp,L_Alfa,**kwargs):\n",
    "        super().__init__(**kwargs)\n",
    "    def eval_cell(self, v, x, ufc_cell):\n",
    "        alfa = L_Alfa[ufc_cell.index]\n",
    "        if kp=='N':  #Optional for the Hyperbolic Tangent function with kp equal to infinity.\n",
    "            if alfa<0.5:\n",
    "                v[0] = 1\n",
    "            else:\n",
    "                v[0] = 0        \n",
    "        else:\n",
    "            v[0] = 0.5-0.5*np.tanh(kp*(alfa-0.5)) #Hyperbolic tangent function for kp other than infinity.         \n",
    "    def value_shape(self):\n",
    "        return ()  \n",
    "\n",
    "#Case ei for Linear variable.\n",
    "class Fun_ei_Lineal(dolfin.UserExpression):  \n",
    "    def __init__(self,L_Alfa,**kwargs):\n",
    "        super().__init__(**kwargs)\n",
    "    def eval_cell(self, v, x, ufc_cell):\n",
    "        v[0] = L_Alfa[ufc_cell.index]  #The calculated alpha corresponds to the same linear interpolation between the two surface meshes.\n",
    "    def value_shape(self):\n",
    "        return ()  \n",
    "\n",
    "#Case ei by variable by Radius.\n",
    "class Fun_ei_Radio(dolfin.UserExpression):  \n",
    "    def __init__(self,PC,R,em,ei,**kwargs):\n",
    "        super().__init__(**kwargs)\n",
    "        self.PC = PC\n",
    "        self.R = R\n",
    "        self.em = em\n",
    "        self.ei = ei\n",
    "    def eval(self, v, x):\n",
    "        PC = self.PC\n",
    "        R = self.R\n",
    "        em = self.em\n",
    "        ei = self.ei\n",
    "        d0 = np.linalg.norm( x - PC, axis=1) #Minimum distance to the atoms of the molecule.\n",
    "        i0 = np.argsort(d0) \n",
    "        ro = (R[i0[0]]/d0[i0[0]])/(1/d0[i0[0]])+1.4 #Effective radius.\n",
    "        ef = (ei-1+55/26)-(5/13)*ro #Effective epsilon per vertex.\n",
    "        if(ef>em):\n",
    "            v[0] = ef #Radius distribution per tetrahedron.\n",
    "        else:\n",
    "            v[0] = em #In case ef is less than em, it is changed to em due to the physical sense of permittivity.\n",
    "    def value_shape(self):\n",
    "        return () \n",
    "\n",
    "if Va=='C':  #Constant Case.\n",
    "    EI = ei\n",
    "    K  = EI*ki**2\n",
    "elif Va=='VL':  #Linear variable case.\n",
    "    L_Alfa = Lista_Alfa(FileA) \n",
    "    S = Fun_ei_Lineal(L_Alfa,degree=0)\n",
    "    EI = em+(es-em)*S \n",
    "    K  = S*(es*ks**2)\n",
    "elif Va=='VTH': #Case of variable by Hyperbolic Tangent.\n",
    "    L_Alfa = Lista_Alfa(FileA) \n",
    "    S = Fun_ei_Tangente_Hiperbolica(kp,L_Alfa,degree=0)\n",
    "    EI = es+(em-es)*S\n",
    "    K = (1-S)*(es*ks**2)\n",
    "elif Va=='VR': #Variable case by Radius of the solute atoms.\n",
    "    EI =Fun_ei_Radio(PC,R,em,ei,degree=0)\n",
    "    K = EI*ki**2"
   ]
  },
  {
   "cell_type": "code",
   "execution_count": 11,
   "metadata": {},
   "outputs": [],
   "source": [
    "#Construction left 3x3 matrix.\n",
    "from bempp.api.external.fenics import FenicsOperator\n",
    "from scipy.sparse.linalg import LinearOperator\n",
    "from bempp.api.assembly.blocked_operator import BlockedDiscreteOperator\n",
    "blocks = [[None,None,None],[None,None,None],[None,None,None]]\n",
    "\n",
    "trace_op1 = LinearOperator(trace_matrix1.shape, lambda x:trace_matrix1*x)\n",
    "trace_op2 = LinearOperator(trace_matrix2.shape, lambda x:trace_matrix2*x)\n",
    "A = FenicsOperator((EI*dolfin.inner(dolfin.nabla_grad(u),dolfin.nabla_grad(v))+ K*u*v) * dolfin.dx)\n",
    "\n",
    "#Position of the 3x3 matrix.\n",
    "blocks[0][0] = V1.weak_form()                     # -V\n",
    "blocks[0][1] = (0.5*I1-K1).weak_form()*trace_op1  # 0.5+K\n",
    "blocks[0][2] = Z1.weak_form()                     # 0\n",
    "blocks[1][0] = -trace_matrix1.T*em*mass1.weak_form().A   # -Mg1\n",
    "blocks[1][1] =  A.weak_form()                      # A\n",
    "blocks[1][2] = -trace_matrix2.T*es*mass2.weak_form().A   # -Mg2\n",
    "blocks[2][0] = Z2.weak_form()                     # 0\n",
    "blocks[2][1] = (0.5*I2-K2).weak_form()*trace_op2  # 0.5-K\n",
    "blocks[2][2] = V2.weak_form()                     # V\n",
    "blocked = bempp.api.assembly.blocked_operator.BlockedDiscreteOperator(np.array(blocks))  "
   ]
  },
  {
   "cell_type": "code",
   "execution_count": 12,
   "metadata": {
    "scrolled": true
   },
   "outputs": [],
   "source": [
    "#Creation of Coulomb potential function.\n",
    "@bempp.api.complex_callable(jit=False)\n",
    "def U_c(x, n, domain_index, result):\n",
    "    global Q,PC,em\n",
    "    result[:] = (1 / (4.*np.pi*em))  * np.sum( Q / np.linalg.norm( x - PC, axis=1))\n",
    "Uca = bempp.api.GridFunction(bempp_space1, fun=U_c)\n",
    "\n",
    "#Construction of the right vector.\n",
    "# Rhs in Ωm in BEM.\n",
    "rhs_bem1 = (Uca).projections(bempp_space1)\n",
    "# Rhs in Ωi in FEM.\n",
    "rhs_fem =  np.zeros(mesh.num_vertices()) \n",
    "# Rhs in Ωs in BEM.\n",
    "rhs_bem2 = np.zeros(bempp_space2.global_dof_count) \n",
    "# The combination of rhs.\n",
    "rhs = np.concatenate([rhs_bem1, rhs_fem, rhs_bem2])"
   ]
  },
  {
   "cell_type": "code",
   "execution_count": 13,
   "metadata": {},
   "outputs": [
    {
     "name": "stderr",
     "output_type": "stream",
     "text": [
      "/home/mauricioguerrero/Software/miniconda3/envs/bempp_prod/lib/python3.8/site-packages/scipy/sparse/linalg/dsolve/linsolve.py:318: SparseEfficiencyWarning: splu requires CSC matrix format\n",
      "  warn('splu requires CSC matrix format', SparseEfficiencyWarning)\n"
     ]
    }
   ],
   "source": [
    "#Creation of the Mass Matrix preconditioner for BEM/FEM/BEM.\n",
    "from bempp.api.assembly.discrete_boundary_operator import InverseSparseDiscreteBoundaryOperator\n",
    "from scipy.sparse.linalg import LinearOperator\n",
    "from scipy.sparse import diags\n",
    "\n",
    "P2 = diags(1./(blocked[1,1].A).diagonal())\n",
    "P1 = InverseSparseDiscreteBoundaryOperator(\n",
    "    bempp.api.operators.boundary.sparse.identity(\n",
    "        bempp_space1, bempp_space1, bempp_space1).weak_form())\n",
    "P3 = InverseSparseDiscreteBoundaryOperator(\n",
    "    bempp.api.operators.boundary.sparse.identity(\n",
    "        bempp_space2, bempp_space2, bempp_space2).weak_form())\n",
    "\n",
    "def apply_prec(x):\n",
    "    \"\"\"Apply the block diagonal preconditioner\"\"\"\n",
    "    m1 = P1.shape[0]\n",
    "    m2 = P2.shape[0]\n",
    "    m3 = P3.shape[0]\n",
    "    n1 = P1.shape[1]\n",
    "    n2 = P2.shape[1]\n",
    "    n3 = P3.shape[1]\n",
    " \n",
    "    res1 = P1.dot(x[:n1])\n",
    "    res2 = P2.dot(x[n1: n1+n2])\n",
    "    res3 = P3.dot(x[n1+n2:])\n",
    "    return np.concatenate([res1, res2, res3])\n",
    "\n",
    "p_shape = (P1.shape[0] + P2.shape[0] + P3.shape[0], P1.shape[1] + P2.shape[1] + P3.shape[1])\n",
    "P = LinearOperator(p_shape, apply_prec, dtype=np.dtype('complex128'))"
   ]
  },
  {
   "cell_type": "code",
   "execution_count": 14,
   "metadata": {
    "scrolled": false
   },
   "outputs": [
    {
     "name": "stdout",
     "output_type": "stream",
     "text": [
      "100 2.0328161408022426e-06\n",
      "Number of GMRES iterations: 164\n",
      "Total time in GMRES: 128.08 [s]\n"
     ]
    }
   ],
   "source": [
    "#The solution of the matrix equation Ax=B is solved.\n",
    "#Iteration counter.\n",
    "it_count = 0\n",
    "def count_iterations(x):\n",
    "    global it_count\n",
    "    it_count += 1\n",
    "    if (it_count / 100) == (it_count // 100):\n",
    "        print(it_count,x)\n",
    "\n",
    "# Solution by GMRES.\n",
    "from scipy.sparse.linalg import gmres\n",
    "start1 = time.time()\n",
    "soln, info = gmres(blocked, rhs, M=P, callback=count_iterations,tol=Tol, restart=Res)  \n",
    "end1 = time.time() \n",
    "\n",
    "# Time to solve the equation.\n",
    "curr_time1 = (end1 - start1)\n",
    "print(\"Number of GMRES iterations: {0}\".format(it_count))\n",
    "print(\"Total time in GMRES: {:5.2f} [s]\".format(curr_time1))   "
   ]
  },
  {
   "cell_type": "code",
   "execution_count": 15,
   "metadata": {},
   "outputs": [],
   "source": [
    "#Calculate the entire global domain of the potential from the solution of the edges of both interfaces.\n",
    "soln_bem1 = soln[:bempp_space1.global_dof_count] \n",
    "soln_fem  = soln[bempp_space1.global_dof_count : bempp_space1.global_dof_count + mesh.num_vertices()]\n",
    "soln_bem2 = soln[bempp_space1.global_dof_count + mesh.num_vertices():]\n",
    "# Calculate the solution of the real potential in the FEM domain in the intermediate region.\n",
    "u = dolfin.Function(fenics_space)\n",
    "u.vector()[:] = np.ascontiguousarray(np.real(soln_fem)) \n",
    "# Solution for Dirichlet data in the inner interface.\n",
    "dirichlet_data1 = trace_matrix1 * soln_fem\n",
    "dirichlet_fun1 = bempp.api.GridFunction(trace_space1, coefficients=dirichlet_data1)\n",
    "# Solution for Neumann data in the inner interface.\n",
    "neumann_fun1 = bempp.api.GridFunction(bempp_space1, coefficients=soln_bem1)\n",
    "# Solution for Dirichlet data in the outer interface.\n",
    "dirichlet_data2 = trace_matrix2 * soln_fem\n",
    "dirichlet_fun2 = bempp.api.GridFunction(trace_space2, coefficients=dirichlet_data2)\n",
    "# Solution for Neumann data in the outer interface.\n",
    "neumann_fun2 = bempp.api.GridFunction(bempp_space2, coefficients=soln_bem2)"
   ]
  },
  {
   "cell_type": "code",
   "execution_count": 16,
   "metadata": {
    "scrolled": true
   },
   "outputs": [
    {
     "name": "stdout",
     "output_type": "stream",
     "text": [
      "Solvation Energy: -55.954595 [kCal/mol]\n",
      "Total time: 398.23 [s]\n"
     ]
    }
   ],
   "source": [
    "#Calculation of the potential in the position of the atoms of the molecule.\n",
    "VF1 = bempp.api.operators.potential.laplace.single_layer(bempp_space1, np.transpose(PC)) \n",
    "KF1 = bempp.api.operators.potential.laplace.double_layer(trace_space1, np.transpose(PC))\n",
    "uF = -VF1*neumann_fun1 + KF1*dirichlet_fun1 \n",
    "\n",
    "#Result of the total solvation energy.\n",
    "E_Solv = 0.5*4.*np.pi*332.064*np.sum(Q*uF).real \n",
    "print('Solvation Energy: {:7.6f} [kCal/mol]'.format(E_Solv) )\n",
    "\n",
    "#Total time.\n",
    "end = time.time()\n",
    "curr_time = (end - start)\n",
    "print(\"Total time: {:5.2f} [s]\".format(curr_time))"
   ]
  },
  {
   "cell_type": "code",
   "execution_count": null,
   "metadata": {},
   "outputs": [],
   "source": []
  }
 ],
 "metadata": {
  "kernelspec": {
   "display_name": "Python 3",
   "language": "python",
   "name": "python3"
  },
  "language_info": {
   "codemirror_mode": {
    "name": "ipython",
    "version": 3
   },
   "file_extension": ".py",
   "mimetype": "text/x-python",
   "name": "python",
   "nbconvert_exporter": "python",
   "pygments_lexer": "ipython3",
   "version": "3.8.6"
  }
 },
 "nbformat": 4,
 "nbformat_minor": 4
}
