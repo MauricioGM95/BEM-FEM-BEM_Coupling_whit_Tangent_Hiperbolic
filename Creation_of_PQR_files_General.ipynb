{
 "cells": [
  {
   "cell_type": "markdown",
   "metadata": {},
   "source": [
    "# Creation of PQR files"
   ]
  },
  {
   "cell_type": "markdown",
   "metadata": {},
   "source": [
    "First we import the main libraries such as Numpy, and we call the .py files to create the .pqr files."
   ]
  },
  {
   "cell_type": "code",
   "execution_count": null,
   "metadata": {},
   "outputs": [],
   "source": [
    "import numpy as np \n",
    "from Codigos_Adicionales import *\n",
    "from Codigos_BEM_y_FEM_Generalizadas import *"
   ]
  },
  {
   "cell_type": "markdown",
   "metadata": {},
   "source": [
    "### Creation of the .pqr file of the sphere in general"
   ]
  },
  {
   "cell_type": "code",
   "execution_count": null,
   "metadata": {},
   "outputs": [],
   "source": [
    "f1=open(\"Sphere/PQR/Sphere5Q3.pqr\",\"w\")\n",
    "f1.write(\"ATOM    1   O   O   1         0.000   0.000   0.000   1.000   5.000\\n\") \n",
    "f1.write(\"ATOM    2   H   H   1         0.000   0.500   0.000   1.000   1.000\\n\") \n",
    "f1.write(\"ATOM    3   H   H   1         0.000  -0.500   0.000   1.000   1.000\\n\") \n",
    "f1.close()"
   ]
  },
  {
   "cell_type": "markdown",
   "metadata": {},
   "source": [
    "### Creation of the .pqr file of the FreeSolv Database"
   ]
  },
  {
   "cell_type": "code",
   "execution_count": null,
   "metadata": {},
   "outputs": [],
   "source": [
    "#Reading the text file.\n",
    "LG =[]\n",
    "with open(\"Moleculas_Mobley.txt\",\"r\") as f:\n",
    "    lines = f.readlines()\n",
    "for line in lines:\n",
    "    line = line.split()\n",
    "    LG.append(line[0])\n",
    "\n",
    "LG1 = [0,1.5,3]\n",
    "for i in range(len(LG)):\n",
    "    file = LG[i]   # file: file name in text format.\n",
    "    for j in range(len(LG1)):\n",
    "        FP = 'Mobley/prmcrd/'            #Path where the prmcrd folder is located.\n",
    "        FC = 'Mobley/charged_mol2files/' #Path where the charged_mol2files folder is located.\n",
    "        FS = 'Mobley/PQR/'               #Path where the pqr will be saved. \n",
    "        d = LG1[j]     #additional distance for the radius to create the mesh with exclusion radius.\n",
    "        print(file,d)\n",
    "        _ = PQR_Moleculas_Pequeñas(file,d,FP,FC,FS)"
   ]
  },
  {
   "cell_type": "markdown",
   "metadata": {},
   "source": [
    "### Creation of the .pqr file of the complex and proteins for 1EMV, 1BRS, 1JTG, 1BEB and 1A3N"
   ]
  },
  {
   "cell_type": "code",
   "execution_count": null,
   "metadata": {},
   "outputs": [],
   "source": [
    "#Modification of the protein pqr that comes from PDB2PQR when using the .pdb of the Protein Bank Data.\n",
    "TG0 = ['1emvAmber','1brsAmber','1jtgAmber','1bebAmber','1a3nAmber']\n",
    "TG1 = ['','P1','P2']\n",
    "\n",
    "LG = []\n",
    "for i in range(len(TG0)):\n",
    "    for j in range(len(TG1)):\n",
    "        LG.append(TG0[i]+TG1[j])  \n",
    "        \n",
    "LG1 = [0,1.5,3]\n",
    "for i in range(len(LG)):\n",
    "    file = LG[i]   # file: file name in text format.\n",
    "    for j in range(len(LG1)):           \n",
    "        FE ='Binding_Energy/PQR/' #Path where the pqr of PDB2PQR is located. \n",
    "        FS ='Binding_Energy/PQR/' #Path where the modified pqr is saved. \n",
    "        d = LG1[j]  #additional distance for the radius to create the mesh with exclusion radius.  \n",
    "        print(file,d) \n",
    "        _ = NuevoPQR(file,d,FE,FS) "
   ]
  },
  {
   "cell_type": "markdown",
   "metadata": {},
   "source": [
    "### Creation of the .pqr file of the complex, ligand and protein for 1BBZ and 1SE0"
   ]
  },
  {
   "cell_type": "code",
   "execution_count": null,
   "metadata": {},
   "outputs": [],
   "source": [
    "#Creation of the 1BBZ, L1BBZ, 1SE0 and L1SE0 .prmtop file.\n",
    "import parmed.amber\n",
    "from pathlib import Path\n",
    "LG = ['1SE0-L','1BBZ-L','L1SE0','L1BBZ']\n",
    "for i in range(len(LG)):\n",
    "    file = LG[i]   # file: file name in text format.\n",
    "    top = parmed.load_file(\"Binding_Energy/top/\"+file+\".top\")\n",
    "    top.save('Binding_Energy/top/'+file+'.prmtop', format='amber')\n",
    "    \n",
    "#Creation of the PQR files of 1SE0-L, 1SE0, L1SE0, 1BBZ-L, 1BBZ, and L1BBZ.\n",
    "LG = ['1SE0-L','1BBZ-L']    \n",
    "LG1 = [0,1.5,3]\n",
    "for i in range(len(LG)):\n",
    "    file = LG[i]   # file: file name in text format.\n",
    "    for j in range(len(LG1)):\n",
    "        # Case for large molecules like 1SE0 and 1BBZ (ligand, protein and set)\n",
    "        FE = 'Binding_Energy/top/'  #Path where the prmtop file and the pdb are located.\n",
    "        FS = 'Binding_Energy/PQR2/' #Path where the modified pqr is saved.  \n",
    "        d = LG1[j]  #additional distance for the radius to create the mesh with exclusion radius.\n",
    "        print(file,d)\n",
    "        _ = PQR_Moleculas_de_Union(file,d,FE,FS)"
   ]
  },
  {
   "cell_type": "code",
   "execution_count": null,
   "metadata": {},
   "outputs": [],
   "source": []
  }
 ],
 "metadata": {
  "kernelspec": {
   "display_name": "Python 3",
   "language": "python",
   "name": "python3"
  },
  "language_info": {
   "codemirror_mode": {
    "name": "ipython",
    "version": 3
   },
   "file_extension": ".py",
   "mimetype": "text/x-python",
   "name": "python",
   "nbconvert_exporter": "python",
   "pygments_lexer": "ipython3",
   "version": "3.8.6"
  }
 },
 "nbformat": 4,
 "nbformat_minor": 4
}
