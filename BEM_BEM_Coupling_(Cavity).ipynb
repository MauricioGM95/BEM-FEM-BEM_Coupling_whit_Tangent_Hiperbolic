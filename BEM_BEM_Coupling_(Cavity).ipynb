{
 "cells": [
  {
   "cell_type": "markdown",
   "metadata": {},
   "source": [
    "# Coupling BEM-BEM with Cavity."
   ]
  },
  {
   "cell_type": "markdown",
   "metadata": {},
   "source": [
    "<img src=\"1_Interfaz_Cav_EG.png\" width=\"500\" height=\"250\">"
   ]
  },
  {
   "cell_type": "markdown",
   "metadata": {},
   "source": [
    "To calculate the solvation energy of a solute using the BEM-BEM with cavity, which is equivalent to the BEM-BEM-BEM coupling, the following matrix system must be solved, which comes from solving the following PDE, including its border conditions:\n",
    "\\begin{equation} \n",
    "\\left\\{\\begin{matrix} \n",
    "-\\nabla^{2}\\phi_{s_{0}}(x)+\\kappa_{s}^{2}\\phi_{s_{0}}(x) =0 \\ & x \\ \\in \\ \\Omega_{s_{0}} \\\\ \n",
    "-\\epsilon_{m}\\nabla^{2} \\phi_{m}(x)=\\sum_{i=1}^{n_{c}}Q_{i}\\delta\\left (x-x_{i} \\right ) & x \\ \\in \\ \\Omega_{m} \\\\\n",
    " -\\nabla^{2}\\phi_{s}(x)+\\kappa_{s}^{2}\\phi_{s}(x)=0 & x \\ \\in \\ \\Omega_{s} \\\\\n",
    "     \\phi_{s_{0}}(x)= \\phi_{m}(x) & x \\ \\in \\ \\Gamma_{a} \\\\\n",
    "     \\epsilon_{s}\\partial_n^a \\phi_{s_{0}}(x)= \\epsilon_{m}\\partial_n^a \\phi_{m}(x) & x \\ \\in \\ \\Gamma_{a} \\\\\n",
    "     \\phi_{m}(x)= \\phi_{s}(x) & x \\ \\in \\ \\Gamma_{b} \\\\\n",
    "     \\epsilon_{m}\\partial_n^b \\phi_{m}(x)= \\epsilon_{s}\\partial_n^b \\phi_{s}(x) & x \\ \\in \\ \\Gamma_{b}\n",
    "\\end{matrix}\\right. \n",
    "\\end{equation}"
   ]
  },
  {
   "cell_type": "markdown",
   "metadata": {},
   "source": [
    "Where $\\Omega_{m}$ is the solute domain, $\\Omega_{s_0}$ is the cavity domain, $\\Omega_{s}$ is the solvent domain, $\\Gamma_{a}$ is the cavity-solute interface and $\\Gamma_{b}$ is the solute-solvent interface. And its matrix system corresponds to:\n",
    "\\begin{equation}\n",
    "\\begin{bmatrix}\n",
    "\\frac{1}{2}I-K_{H,a}^{a} & V_{H,a}^{a}  & 0 & 0\\\\ \n",
    "\\frac{1}{2}I+K_{L,a}^{a} & -\\frac{\\epsilon_{s}}{\\epsilon_{m}}V_{L,a}^{a} &  K_{L,b}^{a} & -V_{L,b}^{a}\\\\ \n",
    "K_{L,a}^{b} & -\\frac{\\epsilon_{s}}{\\epsilon_{m}}V_{L,a}^{b} &  \\frac{1}{2}I+K_{L,b}^{b} & -V_{L,b}^{b}\\\\  \n",
    "0 & 0 &  \\frac{1}{2}I-K_{H,b}^{b} & \\frac{\\epsilon_{m}}{\\epsilon_{s}}V_{H,b}^{b} \n",
    "\\end{bmatrix} \\cdot \\begin{bmatrix}\n",
    "\\phi_{s_{0}}^{\\Gamma_{a}} \\\\\n",
    "\\partial_n \\phi_{s_{0}}^{\\Gamma_{a}}\\\\\n",
    "\\phi_{m}^{\\Gamma_{b}} \\\\\n",
    "\\partial_n \\phi_{m}^{\\Gamma_{b}}\\\\ \n",
    "\\end{bmatrix} =\n",
    "\\begin{bmatrix}\n",
    "0 \\\\\n",
    "\\frac{1}{4\\pi\\epsilon_{m}}\\sum_{n=1}^{n_{c}}\\frac{Q_{i}}{\\left \\|x_{\\Gamma_{a}}-x_{i}\\right \\|} \\\\\n",
    "\\frac{1}{4\\pi\\epsilon_{m}}\\sum_{n=1}^{n_{c}}\\frac{Q_{i}}{\\left \\|x_{\\Gamma_{b}}-x_{i}\\right \\|} \\\\\n",
    "0 \\\\ \n",
    "\\end{bmatrix} \n",
    "\\end{equation}"
   ]
  },
  {
   "cell_type": "markdown",
   "metadata": {},
   "source": [
    "And when solving the matrix system, the solvation energy is calculated as:\n",
    "\\begin{equation} \n",
    "    \\Delta G_{Sol}=\\frac{1}{2}\\sum_{i=1}^{n_{c}}Q_{i} \\left ( \\frac{\\epsilon_{s}}{\\epsilon_{m}}V_L\\partial_n \\phi_{s_{0}}^{\\Gamma_{a}}(x_{i})-K_L\\phi_{s_{0}}^{\\Gamma_{a}}(x_{i})+V_L\\partial_n \\phi_m^{\\Gamma_{b}}(x_{i})-K_L\\phi_m^{\\Gamma_{b}}(x_{i}) \\right )\n",
    "\\end{equation}   "
   ]
  },
  {
   "cell_type": "markdown",
   "metadata": {},
   "source": [
    "## Implementation"
   ]
  },
  {
   "cell_type": "markdown",
   "metadata": {},
   "source": [
    "First we import the main libraries such as Numpy, Trimesh and Bempp, as well as files in Python to read the solute files, which are in \".pqr\" and \".off\" format."
   ]
  },
  {
   "cell_type": "code",
   "execution_count": 1,
   "metadata": {},
   "outputs": [],
   "source": [
    "import bempp.api\n",
    "import numpy as np \n",
    "import time\n",
    "import trimesh\n",
    "from readoff import *\n",
    "from readpqr import *\n",
    "start = time.time()"
   ]
  },
  {
   "cell_type": "markdown",
   "metadata": {},
   "source": [
    "Next, the physical conditions of the problem in each region are defined, such as pemitivity and\n",
    "Debye-Huckel parameter."
   ]
  },
  {
   "cell_type": "code",
   "execution_count": 2,
   "metadata": {},
   "outputs": [],
   "source": [
    "em = 4.    #[-] Interior electrical permittivity of the solute.\n",
    "es = 80.   #[-] Exterior electrical permittivity of the solvent.\n",
    "ks = 0.125  #[1/A] Inverse of the Debye-Huckel length of the fluid in the solvent and cavity."
   ]
  },
  {
   "cell_type": "markdown",
   "metadata": {},
   "source": [
    "Later, we choose the solution that we want to use to calculate the energy, where we import the surface mesh and the \".pqr\" file to obtain the information on the radii, charges and position of the solute atoms."
   ]
  },
  {
   "cell_type": "code",
   "execution_count": 3,
   "metadata": {},
   "outputs": [],
   "source": [
    "Mesh1 ='Sphere/Mallas_S/Sphere65R4.off' #Path of the surface mesh of the solute for which the energy is to be calculated. In \"off\" format\n",
    "Mesh_C = 'Sphere/Mallas_S/SphereCavityR4.off' #Optional: Path of the mesh with cavities, if the main mesh has the cavities, it is left blank ''.\n",
    "PQR = 'Sphere/PQR/Sphere5Q3.pqr' #Path of the position and charges of the solute for which the energy is to be calculated. In \"pqr\" format\n",
    "PC,Q,R = readpqr(PQR)   "
   ]
  },
  {
   "cell_type": "markdown",
   "metadata": {},
   "source": [
    "In addition, we can choose the type of preconditioner to solve the matrix system, the type of assembly of the edge operators, parameters of the GMRES and the FMM if required."
   ]
  },
  {
   "cell_type": "code",
   "execution_count": 4,
   "metadata": {},
   "outputs": [],
   "source": [
    "#Choice to solve the matrix equation in BEM/BEM with cavity.\n",
    "#True: Use the Mass Matrix preconditioner.\n",
    "#False: Use the Block diagonal preconditioner.\n",
    "SF = False  #Strong form. \n",
    "    \n",
    "#Assembly of border operators.\n",
    "#fmm: For molecules with a greater number of vertices.\n",
    "#default_nonlocal: For molecules with a small number of vertices.    \n",
    "Assemble = 'default_nonlocal' \n",
    "\n",
    "#Important parameters of the GMRES.\n",
    "Tol =1e-6    #GMRES tolerance.\n",
    "Res =70      #Restart of the GMRES in each iteration.\n",
    "\n",
    "#Secondary parameters when working with the fmm assembly.\n",
    "bempp.api.GLOBAL_PARAMETERS.fmm.expansion_order = 5  \n",
    "bempp.api.GLOBAL_PARAMETERS.fmm.ncrit = 400          \n",
    "bempp.api.GLOBAL_PARAMETERS.quadrature.regular = 4   "
   ]
  },
  {
   "cell_type": "markdown",
   "metadata": {},
   "source": [
    "Next, we generate the surface mesh of the solute and the cavity."
   ]
  },
  {
   "cell_type": "code",
   "execution_count": 5,
   "metadata": {},
   "outputs": [
    {
     "name": "stdout",
     "output_type": "stream",
     "text": [
      "Found 1 meshes\n"
     ]
    }
   ],
   "source": [
    "vertices_0,faces_0 = read_off(Mesh1) \n",
    "#In case the mesh has small gaps, with trimesh the information of the original mesh without the gaps is obtained.\n",
    "meshSP = trimesh.Trimesh(vertices = vertices_0, faces= faces_0 ) \n",
    "mesh_split = meshSP.split()\n",
    "print(\"Found %i meshes\"%len(mesh_split))  #1 mesh means no cavity.\n",
    "\n",
    "vertices_2 = mesh_split[0].vertices \n",
    "faces_2  = mesh_split[0].faces \n",
    "grid2 = bempp.api.grid.grid.Grid(vertices_2.transpose(), faces_2.transpose()) #Creation of the surface mesh of the solute-solvent interface.\n",
    "\n",
    "if len(Mesh_C)==0:\n",
    "    #Sort surface meshes of the cavities by number of vertices.\n",
    "    LMS = []\n",
    "    for i in range(len(mesh_split)):\n",
    "        LMS.append(len(mesh_split[i].vertices))\n",
    "    IMS = np.argsort(LMS)[::-1]  \n",
    "    #Unite the information from the individual meshes of the cavities into a single surface mesh. \n",
    "    MS = mesh_split[IMS[1]]\n",
    "    if len(mesh_split)>2: \n",
    "        for i in range(len(mesh_split)-2):\n",
    "            MS = MS + mesh_split[IMS[i+2]]\n",
    "    vertices_1 = MS.vertices \n",
    "    faces_1 = MS.faces  \n",
    "else:    \n",
    "    vertices_1,faces_1 =read_off(Mesh_C)  #Optional cavity mesh if in an '.off' file.\n",
    "grid1 = bempp.api.grid.grid.Grid(vertices_1.transpose(), faces_1.transpose()) #Creation of the surface mesh with cavities."
   ]
  },
  {
   "cell_type": "markdown",
   "metadata": {},
   "source": [
    "We make the Bempp function spaces of the potential and its derivative."
   ]
  },
  {
   "cell_type": "code",
   "execution_count": 6,
   "metadata": {},
   "outputs": [
    {
     "name": "stdout",
     "output_type": "stream",
     "text": [
      "DS1 dofs: 180\n",
      "NS1 dofs: 180\n",
      "DS2 dofs: 7908\n",
      "NS2 dofs: 7908\n"
     ]
    }
   ],
   "source": [
    "dirichl_space1 = bempp.api.function_space(grid1, \"P\", 1)  #Electrostatic potential at the interface of cavity.\n",
    "neumann_space1 = bempp.api.function_space(grid1, \"P\", 1)  #Derived from the electrostatic potential at the interface of cavity.\n",
    "dirichl_space2 = bempp.api.function_space(grid2, \"P\", 1)  #Electrostatic potential at the solute-solvent interface.\n",
    "neumann_space2 = bempp.api.function_space(grid2, \"P\", 1)  #Derived from the electrostatic potential at the solute-solvent interface.\n",
    "\n",
    "print(\"DS1 dofs: {0}\".format(dirichl_space1.global_dof_count))\n",
    "print(\"NS1 dofs: {0}\".format(neumann_space1.global_dof_count))\n",
    "print(\"DS2 dofs: {0}\".format(dirichl_space2.global_dof_count))\n",
    "print(\"NS2 dofs: {0}\".format(neumann_space2.global_dof_count))"
   ]
  },
  {
   "cell_type": "markdown",
   "metadata": {},
   "source": [
    "We create the boundary operators that we need for each domain."
   ]
  },
  {
   "cell_type": "code",
   "execution_count": 7,
   "metadata": {},
   "outputs": [],
   "source": [
    "#Generate the boundary operators.\n",
    "#Identity operators.\n",
    "I1d = bempp.api.operators.boundary.sparse.identity(dirichl_space1, dirichl_space1, dirichl_space1) # 1\n",
    "I1n = bempp.api.operators.boundary.sparse.identity(dirichl_space1, neumann_space1, neumann_space1) # 1\n",
    "I2d = bempp.api.operators.boundary.sparse.identity(dirichl_space2, dirichl_space2, dirichl_space2) # 1\n",
    "I2n = bempp.api.operators.boundary.sparse.identity(dirichl_space2, neumann_space2, neumann_space2) # 1\n",
    "\n",
    "#Domain of the cavity.\n",
    "if ks==0:\n",
    "    KHaa = bempp.api.operators.boundary.laplace.double_layer(dirichl_space1, dirichl_space1, dirichl_space1, assembler=Assemble) #K\n",
    "    VHaa = bempp.api.operators.boundary.laplace.single_layer(neumann_space1, dirichl_space1, dirichl_space1, assembler=Assemble) #V\n",
    "else:\n",
    "    KHaa = bempp.api.operators.boundary.modified_helmholtz.double_layer(dirichl_space1, dirichl_space1, dirichl_space1, ks, assembler=Assemble) #K\n",
    "    VHaa = bempp.api.operators.boundary.modified_helmholtz.single_layer(neumann_space1, dirichl_space1, dirichl_space1, ks, assembler=Assemble) #V\n",
    "Z1ba = bempp.api.ZeroBoundaryOperator(dirichl_space2, dirichl_space1, dirichl_space1) #0\n",
    "Z2ba = bempp.api.ZeroBoundaryOperator(neumann_space2, dirichl_space1, dirichl_space1) #0\n",
    "\n",
    "#Domain of the solute Ωm at the interface of cavity.\n",
    "KLaa = bempp.api.operators.boundary.laplace.double_layer(dirichl_space1, neumann_space1, neumann_space1, assembler=Assemble) #K\n",
    "VLaa = bempp.api.operators.boundary.laplace.single_layer(neumann_space1, neumann_space1, neumann_space1, assembler=Assemble) #V\n",
    "KLba = bempp.api.operators.boundary.laplace.double_layer(dirichl_space2, neumann_space1, neumann_space1, assembler=Assemble) #K\n",
    "VLba = bempp.api.operators.boundary.laplace.single_layer(neumann_space2, neumann_space1, neumann_space1, assembler=Assemble) #V\n",
    "\n",
    "#Domain of the solute Ωm at the solute-solvent interface.\n",
    "KLab = bempp.api.operators.boundary.laplace.double_layer(dirichl_space1, dirichl_space2, dirichl_space2, assembler=Assemble) #K\n",
    "VLab = bempp.api.operators.boundary.laplace.single_layer(neumann_space1, dirichl_space2, dirichl_space2, assembler=Assemble) #V\n",
    "KLbb = bempp.api.operators.boundary.laplace.double_layer(dirichl_space2, dirichl_space2, dirichl_space2, assembler=Assemble) #K\n",
    "VLbb = bempp.api.operators.boundary.laplace.single_layer(neumann_space2, dirichl_space2, dirichl_space2, assembler=Assemble) #V\n",
    "\n",
    "#Domain of the solvent Ωs.\n",
    "Z1ab = bempp.api.ZeroBoundaryOperator(dirichl_space1, neumann_space2, neumann_space2) #0\n",
    "Z2ab = bempp.api.ZeroBoundaryOperator(neumann_space1, neumann_space2, neumann_space2) #0\n",
    "if ks==0:\n",
    "    KHbb = bempp.api.operators.boundary.laplace.double_layer(dirichl_space2, neumann_space2, neumann_space2, assembler=Assemble) #K\n",
    "    VHbb = bempp.api.operators.boundary.laplace.single_layer(neumann_space2, neumann_space2, neumann_space2, assembler=Assemble) #V\n",
    "else:\n",
    "    KHbb = bempp.api.operators.boundary.modified_helmholtz.double_layer(dirichl_space2, neumann_space2, neumann_space2, ks, assembler=Assemble) #K\n",
    "    VHbb = bempp.api.operators.boundary.modified_helmholtz.single_layer(neumann_space2, neumann_space2, neumann_space2, ks, assembler=Assemble) #V"
   ]
  },
  {
   "cell_type": "markdown",
   "metadata": {},
   "source": [
    "Later, we create the Coulomb potential function $\\phi_{c}^{\\Gamma}$ and with that, we construct the vector right head side $b$ of formulation.\n",
    "\\begin{equation}\n",
    "\\phi_{c}^{\\Gamma} =\\frac{1}{4\\pi\\epsilon_{m}}\\sum_{n=1}^{n_{c}}\\frac{Q_{i}}{\\left \\|x_{\\Gamma}-x_{i}\\right \\|} \\quad \\quad\n",
    "b=\\begin{bmatrix}\n",
    "0 \\\\\n",
    "\\phi_{c}^{\\Gamma_{a}} \\\\\n",
    "\\phi_{c}^{\\Gamma_{b}} \\\\\n",
    "0 \\\\\n",
    "\\end{bmatrix}\n",
    "\\end{equation}"
   ]
  },
  {
   "cell_type": "code",
   "execution_count": 8,
   "metadata": {},
   "outputs": [],
   "source": [
    "@bempp.api.complex_callable(jit=False)\n",
    "def U_c(x, n, domain_index, result):\n",
    "    global Q,PC,em\n",
    "    result[:] = (1 / (4.*np.pi*em))  * np.sum( Q / np.linalg.norm( x - PC, axis=1))\n",
    "Uc1 = bempp.api.GridFunction(neumann_space1, fun=U_c)  \n",
    "Uc2 = bempp.api.GridFunction(dirichl_space2, fun=U_c)  \n",
    "\n",
    "#Construction of the right vector.\n",
    "if SF==False:\n",
    "    # Rhs in cavity.\n",
    "    rhs_S0 = np.zeros(dirichl_space1.global_dof_count) #0   \n",
    "    # Rhs in Ωm at the interface of cavity.\n",
    "    rhs_M1 = (Uc1).projections(neumann_space1) # uc    \n",
    "    # Rhs in Ωm at the solute-solvent interface.\n",
    "    rhs_M2 = (Uc2).projections(dirichl_space2) # uc    \n",
    "    # Rhs in Ωs\n",
    "    rhs_S = np.zeros(neumann_space2.global_dof_count) #0\n",
    "    # The combination of Rhs.\n",
    "    rhs = np.concatenate([rhs_S0, rhs_M1, rhs_M2, rhs_S])\n",
    "else:\n",
    "    Uc0 = bempp.api.GridFunction(dirichl_space1, fun=U_c) \n",
    "    rhs = [0*I1d*Uc0, I1n*Uc0, I2d*Uc2, 0*I2n*Uc2] "
   ]
  },
  {
   "cell_type": "markdown",
   "metadata": {},
   "source": [
    "And we construct the global left 4x4 matrix $A$ of the formulation.   \n",
    "\\begin{equation}\n",
    "A=\\begin{bmatrix}\n",
    "\\frac{1}{2}I-K_{H,a}^{a} & V_{H,a}^{a}  & 0 & 0\\\\ \n",
    "\\frac{1}{2}I+K_{L,a}^{a} & -\\frac{\\epsilon_{s}}{\\epsilon_{m}}V_{L,a}^{a} &  K_{L,b}^{a} & -V_{L,b}^{a}\\\\ \n",
    "K_{L,a}^{b} & -\\frac{\\epsilon_{s}}{\\epsilon_{m}}V_{L,a}^{b} &  \\frac{1}{2}I+K_{L,b}^{b} & -V_{L,b}^{b}\\\\  \n",
    "0 & 0 &  \\frac{1}{2}I-K_{H,b}^{b} & \\frac{\\epsilon_{m}}{\\epsilon_{s}}V_{H,b}^{b} \n",
    "\\end{bmatrix}\n",
    "\\end{equation}"
   ]
  },
  {
   "cell_type": "code",
   "execution_count": 9,
   "metadata": {},
   "outputs": [],
   "source": [
    "if SF==False:\n",
    "    #Position of the 4x4 matrix.\n",
    "    blocks = [[None,None,None,None],[None,None,None,None],[None,None,None,None],[None,None,None,None]] \n",
    "    blocks[0][0] = (0.5*I1d-KHaa).weak_form()  \n",
    "    blocks[0][1] = VHaa.weak_form()            \n",
    "    blocks[0][2] = Z1ba.weak_form()            \n",
    "    blocks[0][3] = Z2ba.weak_form()       \n",
    "    \n",
    "    blocks[1][0] = (0.5*I1n+KLaa).weak_form()  \n",
    "    blocks[1][1] = -(es/em)*VLaa.weak_form()   \n",
    "    blocks[1][2] = KLba.weak_form()            \n",
    "    blocks[1][3] = -VLba.weak_form()   \n",
    "    \n",
    "    blocks[2][0] = KLab.weak_form()           \n",
    "    blocks[2][1] = -(es/em)*VLab.weak_form()   \n",
    "    blocks[2][2] = (0.5*I2d+KLbb).weak_form()  \n",
    "    blocks[2][3] = -VLbb.weak_form()   \n",
    "    \n",
    "    blocks[3][0] = Z1ab.weak_form()           \n",
    "    blocks[3][1] = Z2ab.weak_form()            \n",
    "    blocks[3][2] = (0.5*I2n-KHbb).weak_form()  \n",
    "    blocks[3][3] = (em/es)*VHbb.weak_form()    \n",
    "    blocked = bempp.api.assembly.blocked_operator.BlockedDiscreteOperator(np.array(blocks))     \n",
    "    #Block diagonal preconditioner for BEM.\n",
    "    from preconditioners import *\n",
    "    P = BlockDiagonal_4x4_Cavidad(dirichl_space1, neumann_space1, dirichl_space2, neumann_space2, blocks, es,em,ks)\n",
    "else:\n",
    "    #Position of the 4x4 matrix.\n",
    "    blocks = bempp.api.BlockedOperator(4,4)  \n",
    "    blocks[0,0] = (0.5*I1d-KHaa) \n",
    "    blocks[0,1] = VHaa           \n",
    "    blocks[0,2] = Z1ba           \n",
    "    blocks[0,3] = Z2ba         \n",
    "    \n",
    "    blocks[1,0] = (0.5*I1n+KLaa) \n",
    "    blocks[1,1] = -(es/em)*VLaa  \n",
    "    blocks[1,2] = KLba           \n",
    "    blocks[1,3] = -VLba   \n",
    "    \n",
    "    blocks[2,0] = KLab           \n",
    "    blocks[2,1] = -(es/em)*VLab \n",
    "    blocks[2,2] = (0.5*I2d+KLbb) \n",
    "    blocks[2,3] = -VLbb         \n",
    "    \n",
    "    blocks[3,0] = Z1ab           \n",
    "    blocks[3,1] = Z2ab           \n",
    "    blocks[3,2] = (0.5*I2n-KHbb) \n",
    "    blocks[3,3] = (em/es)*VHbb   "
   ]
  },
  {
   "cell_type": "markdown",
   "metadata": {},
   "source": [
    "Later, we solve the matrix system $Ax=b$ with GMRES together with its respective preconditioning an efficient solution. The solution is then divided into the parts associated with $\\phi_{s_{0}}^{\\Gamma_{a}}$, $\\partial_{n}\\phi_{s_{0}}^{\\Gamma_{a}}$, $\\phi_{m}^{\\Gamma_{b}}$ and $\\partial_{n}\\phi_{m}^{\\Gamma_{b}}$."
   ]
  },
  {
   "cell_type": "code",
   "execution_count": 10,
   "metadata": {
    "scrolled": true
   },
   "outputs": [
    {
     "name": "stdout",
     "output_type": "stream",
     "text": [
      "10 0.024783643837071753\n",
      "20 0.001657854496711443\n",
      "30 0.0002556873822083932\n",
      "40 7.743710414812609e-05\n",
      "50 2.7123286618677927e-05\n",
      "60 7.0509102609102005e-06\n",
      "Number of GMRES iterations: 66\n",
      "Total time in GMRES: 22.12 [s]\n"
     ]
    }
   ],
   "source": [
    "#Iteration counter.\n",
    "it_count = 0\n",
    "def count_iterations(x):\n",
    "    global it_count\n",
    "    it_count += 1\n",
    "    if (it_count / 10) == (it_count // 10):\n",
    "        print(it_count,x)\n",
    "          \n",
    "# Solution by GMRES.\n",
    "from scipy.sparse.linalg import gmres\n",
    "if SF==False:\n",
    "    start1 = time.time()\n",
    "    soln, info = gmres(blocked, rhs, M=P, callback=count_iterations,tol=Tol, restart=Res)  \n",
    "    end1 = time.time() \n",
    "else:\n",
    "    start1 = time.time()\n",
    "    soln, info, res, it_count = bempp.api.linalg.gmres(blocks, rhs, return_residuals=True, return_iteration_count=True, use_strong_form=True,tol=Tol, restart=Res)\n",
    "    end1 = time.time() \n",
    "    \n",
    "# Time to solve the equation.\n",
    "curr_time1 = (end1 - start1)\n",
    "print(\"Number of GMRES iterations: {0}\".format(it_count))\n",
    "print(\"Total time in GMRES: {:5.2f} [s]\".format(curr_time1))"
   ]
  },
  {
   "cell_type": "markdown",
   "metadata": {},
   "source": [
    "Next, we make Bempp functions from the solution of $\\phi_{s_{0}}^{\\Gamma_{a}}$, $\\partial_{n}\\phi_{s_{0}}^{\\Gamma_{a}}$, $\\phi_{m}^{\\Gamma_{b}}$ and $\\partial_{n}\\phi_{m}^{\\Gamma_{b}}$."
   ]
  },
  {
   "cell_type": "code",
   "execution_count": 11,
   "metadata": {},
   "outputs": [],
   "source": [
    "if SF==False:\n",
    "    soln_u1 = soln[:dirichl_space1.global_dof_count]\n",
    "    soln_du1 = soln[dirichl_space1.global_dof_count : dirichl_space1.global_dof_count + neumann_space1.global_dof_count]\n",
    "    soln_u2 =  soln[dirichl_space1.global_dof_count + neumann_space1.global_dof_count : dirichl_space1.global_dof_count + neumann_space1.global_dof_count + dirichl_space2.global_dof_count]\n",
    "    soln_du2 = soln[dirichl_space1.global_dof_count + neumann_space1.global_dof_count + dirichl_space2.global_dof_count:]\n",
    "    # Solution to the function with Dirichlet in the cavity interface.\n",
    "    dirichlet_fun1 = bempp.api.GridFunction(dirichl_space1, coefficients=soln_u1)\n",
    "    # Solution of the function with Neumann at the cavity interface.\n",
    "    neumann_fun1 = bempp.api.GridFunction(neumann_space1, coefficients=soln_du1)\n",
    "    # Solution of the function with Dirichlet at the solute-solvent interface.\n",
    "    dirichlet_fun2 = bempp.api.GridFunction(dirichl_space2, coefficients=soln_u2)\n",
    "    # Solution of the function with Neumann at the solute-solvent interface.\n",
    "    neumann_fun2 = bempp.api.GridFunction(neumann_space2, coefficients=soln_du2)\n",
    "else:\n",
    "    dirichlet_fun1 = soln[0] \n",
    "    neumann_fun1 = soln[1] \n",
    "    dirichlet_fun2 = soln[2] \n",
    "    neumann_fun2 = soln[3]  "
   ]
  },
  {
   "cell_type": "markdown",
   "metadata": {},
   "source": [
    "Finally we calculate the solvation energy for the BEM-BEM coupling with cavity, using the equation of the potential at the position of the solute atoms.\n",
    "\\begin{equation}\n",
    "\\phi_m(x) =\\frac{\\epsilon_{s}}{\\epsilon_{m}}V_L\\partial_{n}\\phi_{s_{0}}^{\\Gamma_{a}}(x)-K_L\\phi_{s_{0}}^{\\Gamma_{a}}(x)+V_L\\partial_{n}\\phi_m^{\\Gamma_{b}}(x)-K_L\\phi_m^{\\Gamma_{b}}(x)  \\quad \\quad\n",
    " \\Delta G_{Sol}=\\frac{1}{2}\\sum_{i=1}^{n_{c}}Q_{i}\\phi_{m}(x_i) \n",
    "\\end{equation} "
   ]
  },
  {
   "cell_type": "code",
   "execution_count": 12,
   "metadata": {
    "scrolled": true
   },
   "outputs": [
    {
     "name": "stdout",
     "output_type": "stream",
     "text": [
      "Solvation Energy: -92.484818 [kCal/mol]\n",
      "Total time: 194.13 [s]\n"
     ]
    }
   ],
   "source": [
    "#Result of the total solvation energy.\n",
    "VF1 = bempp.api.operators.potential.laplace.single_layer(neumann_space1, np.transpose(PC)) \n",
    "KF1 = bempp.api.operators.potential.laplace.double_layer(dirichl_space1, np.transpose(PC))\n",
    "VF2 = bempp.api.operators.potential.laplace.single_layer(neumann_space2, np.transpose(PC)) \n",
    "KF2 = bempp.api.operators.potential.laplace.double_layer(dirichl_space2, np.transpose(PC))\n",
    "uF = VF1*neumann_fun1*(es/em) - KF1*dirichlet_fun1 + VF2*neumann_fun2 - KF2*dirichlet_fun2 \n",
    "E_Solv = 0.5*4.*np.pi*332.064*np.sum(Q*uF).real \n",
    "print('Solvation Energy: {:7.6f} [kCal/mol]'.format(E_Solv) )\n",
    "\n",
    "#Total time.\n",
    "end = time.time()\n",
    "curr_time = (end - start)\n",
    "print(\"Total time: {:5.2f} [s]\".format(curr_time))"
   ]
  },
  {
   "cell_type": "code",
   "execution_count": null,
   "metadata": {},
   "outputs": [],
   "source": []
  }
 ],
 "metadata": {
  "kernelspec": {
   "display_name": "Python 3",
   "language": "python",
   "name": "python3"
  },
  "language_info": {
   "codemirror_mode": {
    "name": "ipython",
    "version": 3
   },
   "file_extension": ".py",
   "mimetype": "text/x-python",
   "name": "python",
   "nbconvert_exporter": "python",
   "pygments_lexer": "ipython3",
   "version": "3.8.6"
  }
 },
 "nbformat": 4,
 "nbformat_minor": 4
}
