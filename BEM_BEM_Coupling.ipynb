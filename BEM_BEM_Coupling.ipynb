{
 "cells": [
  {
   "cell_type": "code",
   "execution_count": 1,
   "metadata": {},
   "outputs": [],
   "source": [
    "#Importing libraries\n",
    "import bempp.api\n",
    "import numpy as np \n",
    "import time\n",
    "import trimesh\n",
    "from readoff import *\n",
    "from readpqr import *\n",
    "start = time.time()"
   ]
  },
  {
   "cell_type": "code",
   "execution_count": 2,
   "metadata": {},
   "outputs": [],
   "source": [
    "#Main Data to modify.\n",
    "#Physical parameters.\n",
    "em = 4.    #[-] Interior electrical permittivity of the solute.\n",
    "es = 80.   #[-] Exterior electrical permittivity of the solvent.\n",
    "k = 0.125  #[1/A] Inverse of the Debey-Huckel length of the fluid in the solvent.\n",
    "\n",
    "#Choice of solute.\n",
    "Mesh1 ='Sphere/Mallas_S/Sphere65R4.off'  #Location of the surface mesh of the solute for which the energy is to be calculated. In \"off\" format\n",
    "PQR = 'Sphere/PQR/Sphere5Q3.pqr'        #Location of the position and charges of the solute for which the energy is to be calculated. In \"pqr\" format\n",
    "\n",
    "#Choice to solve the matrix equation in BEM/BEM.\n",
    "#True: Use the Mass Matrix preconditioner.\n",
    "#False: No preconditioner is used.\n",
    "SF = False  #Strong form. \n",
    "    \n",
    "#Assembly of border operators.\n",
    "#fmm: For molecules with a greater number of vertices.\n",
    "#default_nonlocal: For molecules with a small number of vertices.    \n",
    "Assemble = 'default_nonlocal' \n",
    "\n",
    "#Important parameters of the GMRES.\n",
    "Tol =1e-6    #GMRES tolerance.\n",
    "Res =70      #Restart of the GMRES in each iteration.\n",
    "\n",
    "#Secondary parameters when working with the fmm assembly.\n",
    "bempp.api.GLOBAL_PARAMETERS.fmm.expansion_order = 5  \n",
    "bempp.api.GLOBAL_PARAMETERS.fmm.ncrit = 400          \n",
    "bempp.api.GLOBAL_PARAMETERS.quadrature.regular = 4   "
   ]
  },
  {
   "cell_type": "code",
   "execution_count": 3,
   "metadata": {},
   "outputs": [],
   "source": [
    "#Data on the position in space, charge and radii of the atoms of the molecule.\n",
    "PC,Q,R = readpqr(PQR)   "
   ]
  },
  {
   "cell_type": "code",
   "execution_count": 4,
   "metadata": {},
   "outputs": [
    {
     "name": "stdout",
     "output_type": "stream",
     "text": [
      "Found 1 meshes\n"
     ]
    }
   ],
   "source": [
    "#Generate the surface mesh of the molecule.\n",
    "V1,F1 = read_off(Mesh1) \n",
    "#In case the mesh has small gaps, with trimesh the information of the original mesh without the gaps is obtained.\n",
    "meshSP = trimesh.Trimesh(vertices = V1, faces= F1) \n",
    "mesh_split = meshSP.split()\n",
    "print(\"Found %i meshes\"%len(mesh_split)) #1 mesh means no cavity.\n",
    "\n",
    "vertices_split1 = mesh_split[0].vertices \n",
    "faces_split1 = mesh_split[0].faces   \n",
    "grid = bempp.api.grid.grid.Grid(vertices_split1.transpose(), faces_split1.transpose()) #Creation of the surface mesh."
   ]
  },
  {
   "cell_type": "code",
   "execution_count": 5,
   "metadata": {},
   "outputs": [
    {
     "name": "stdout",
     "output_type": "stream",
     "text": [
      "DS dofs: 7908\n",
      "NS dofs: 7908\n"
     ]
    }
   ],
   "source": [
    "#Generate functional spaces of the potential and its derivative.\n",
    "dirichl_space = bempp.api.function_space(grid, \"P\", 1)   #Electrostatic potential at the interface.\n",
    "neumann_space = bempp.api.function_space(grid, \"P\", 1)   #Derived from the electrostatic potential at the interface.\n",
    "print(\"DS dofs: {0}\".format(dirichl_space.global_dof_count))\n",
    "print(\"NS dofs: {0}\".format(neumann_space.global_dof_count))  "
   ]
  },
  {
   "cell_type": "code",
   "execution_count": 6,
   "metadata": {},
   "outputs": [],
   "source": [
    "#Generate the boundary operators.\n",
    "#Domain of the solute Ωm.\n",
    "IL = bempp.api.operators.boundary.sparse.identity(dirichl_space, dirichl_space, dirichl_space) #1\n",
    "KL = bempp.api.operators.boundary.laplace.double_layer(dirichl_space, dirichl_space, dirichl_space, assembler=Assemble) #K\n",
    "VL = bempp.api.operators.boundary.laplace.single_layer(neumann_space, dirichl_space, dirichl_space, assembler=Assemble) #V\n",
    "#Domain of the solvent Ωs.\n",
    "IH = bempp.api.operators.boundary.sparse.identity(dirichl_space, neumann_space, neumann_space) #1\n",
    "if k==0:\n",
    "    KH = bempp.api.operators.boundary.laplace.double_layer(dirichl_space, neumann_space, neumann_space, assembler=Assemble) #K\n",
    "    VH = bempp.api.operators.boundary.laplace.single_layer(neumann_space, neumann_space, neumann_space, assembler=Assemble) #V\n",
    "else:\n",
    "    KH = bempp.api.operators.boundary.modified_helmholtz.double_layer(dirichl_space, neumann_space, neumann_space, k, assembler=Assemble) #K\n",
    "    VH = bempp.api.operators.boundary.modified_helmholtz.single_layer(neumann_space, neumann_space, neumann_space, k, assembler=Assemble) #V"
   ]
  },
  {
   "cell_type": "code",
   "execution_count": 7,
   "metadata": {},
   "outputs": [],
   "source": [
    "#Creation of the Coulomb potential function.  \n",
    "@bempp.api.complex_callable(jit=False)\n",
    "def U_c(x, n, domain_index, result):\n",
    "    global Q,PC,em\n",
    "    result[:] = (1 / (4.*np.pi*em))  * np.sum( Q / np.linalg.norm( x - PC, axis=1))\n",
    "U_c = bempp.api.GridFunction(dirichl_space, fun=U_c)\n",
    "\n",
    "#Construction of the right vector.\n",
    "if SF==False:\n",
    "    # Rhs in Ωm.\n",
    "    rhs_M = (U_c).projections(dirichl_space)\n",
    "    # Rhs in Ωs.\n",
    "    rhs_S = np.zeros(neumann_space.global_dof_count)\n",
    "    # The combination of Rhs.\n",
    "    rhs = np.concatenate([rhs_M, rhs_S])\n",
    "else:    \n",
    "    rhs = [IL*U_c, 0*IH*U_c]"
   ]
  },
  {
   "cell_type": "code",
   "execution_count": 8,
   "metadata": {},
   "outputs": [],
   "source": [
    "#Construction left 2x2 matrix.\n",
    "if SF==False:\n",
    "    #Position of the 2x2 matrix.\n",
    "    blocks = [[None,None],[None,None]] \n",
    "    blocks[0][0] = (0.5*IL + KL).weak_form()  #0.5+K\n",
    "    blocks[0][1] = -VL.weak_form()            #-V\n",
    "    blocks[1][0] = (0.5*IH - KH).weak_form()  #0.5-K\n",
    "    blocks[1][1] = (em/es)*VH.weak_form()     #V(em/es)    \n",
    "    blocked = bempp.api.assembly.blocked_operator.BlockedDiscreteOperator(np.array(blocks))   \n",
    "    #Block diagonal preconditioner for BEM.\n",
    "    from preconditioners import *\n",
    "    P = BlockDiagonal_2x2(dirichl_space, neumann_space, blocks, es, em, k) \n",
    "else:   \n",
    "    #Position of the 2x2 matrix.\n",
    "    blocks = bempp.api.BlockedOperator(2,2)    \n",
    "    blocks[0,0] = (0.5*IL + KL)  #0.5+K\n",
    "    blocks[0,1] = -VL            #-V\n",
    "    blocks[1,0] = (0.5*IH - KH)  #0.5-K\n",
    "    blocks[1,1] = VH*(em/es)     #V(em/es)"
   ]
  },
  {
   "cell_type": "code",
   "execution_count": 9,
   "metadata": {
    "scrolled": true
   },
   "outputs": [
    {
     "name": "stdout",
     "output_type": "stream",
     "text": [
      "Number of GMRES iterations: 28\n",
      "Total time in GMRES: 14.47 [s]\n"
     ]
    }
   ],
   "source": [
    "#The solution of the matrix equation Ax=B is solved.\n",
    "#Iteration counter.\n",
    "it_count = 0\n",
    "def count_iterations(x):\n",
    "    global it_count\n",
    "    it_count += 1\n",
    "    if (it_count / 100) == (it_count // 100):\n",
    "        print(it_count,x)\n",
    "\n",
    "# Solution by GMRES.\n",
    "from scipy.sparse.linalg import gmres\n",
    "if SF==False:\n",
    "    start1 = time.time()\n",
    "    soln, info = gmres(blocked, rhs, M=P, callback=count_iterations,tol=Tol, restart=Res)  \n",
    "    end1 = time.time() \n",
    "else:\n",
    "    start1 = time.time()\n",
    "    soln, info, res, it_count = bempp.api.linalg.gmres(blocks, rhs, return_residuals=True, return_iteration_count=True, use_strong_form=True, tol=Tol, restart=Res)\n",
    "    end1 = time.time()\n",
    "    \n",
    "# Time to solve the equation.\n",
    "curr_time1 = (end1 - start1)\n",
    "print(\"Number of GMRES iterations: {0}\".format(it_count))\n",
    "print(\"Total time in GMRES: {:5.2f} [s]\".format(curr_time1))"
   ]
  },
  {
   "cell_type": "code",
   "execution_count": 10,
   "metadata": {},
   "outputs": [],
   "source": [
    "#Calculates the entire global domain of the potential from the solution of the calculated edge.\n",
    "if SF==False:\n",
    "    # Solution for Dirichlet data.\n",
    "    soln_u = soln[:dirichl_space.global_dof_count]\n",
    "    dirichlet_fun = bempp.api.GridFunction(dirichl_space, coefficients=soln_u)    \n",
    "    # Solution for Neumann data.\n",
    "    soln_du = soln[dirichl_space.global_dof_count:] \n",
    "    neumann_fun = bempp.api.GridFunction(neumann_space, coefficients=soln_du)\n",
    "else:\n",
    "    dirichlet_fun = soln[0]\n",
    "    neumann_fun = soln[1]"
   ]
  },
  {
   "cell_type": "code",
   "execution_count": 11,
   "metadata": {
    "scrolled": true
   },
   "outputs": [
    {
     "name": "stdout",
     "output_type": "stream",
     "text": [
      "Solvation Energy: -55.901478 [kCal/mol]\n",
      "Total time: 184.56 [s]\n"
     ]
    }
   ],
   "source": [
    "#Calculation of the potential in the position of the atoms of the molecule.\n",
    "VF = bempp.api.operators.potential.laplace.single_layer(neumann_space, np.transpose(PC)) \n",
    "KF = bempp.api.operators.potential.laplace.double_layer(dirichl_space, np.transpose(PC))\n",
    "uF = VF*neumann_fun - KF*dirichlet_fun\n",
    "\n",
    "#Result of the total solvation energy.\n",
    "E_Solv = 0.5*4.*np.pi*332.064*np.sum(Q*uF).real \n",
    "print('Solvation Energy: {:7.6f} [kCal/mol]'.format(E_Solv) )\n",
    "\n",
    "#Total time.\n",
    "end = time.time()\n",
    "curr_time = (end - start)\n",
    "print(\"Total time: {:5.2f} [s]\".format(curr_time))"
   ]
  },
  {
   "cell_type": "code",
   "execution_count": null,
   "metadata": {},
   "outputs": [],
   "source": []
  }
 ],
 "metadata": {
  "kernelspec": {
   "display_name": "Python 3",
   "language": "python",
   "name": "python3"
  },
  "language_info": {
   "codemirror_mode": {
    "name": "ipython",
    "version": 3
   },
   "file_extension": ".py",
   "mimetype": "text/x-python",
   "name": "python",
   "nbconvert_exporter": "python",
   "pygments_lexer": "ipython3",
   "version": "3.8.6"
  }
 },
 "nbformat": 4,
 "nbformat_minor": 2
}
