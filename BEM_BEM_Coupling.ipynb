{
 "cells": [
  {
   "cell_type": "markdown",
   "metadata": {},
   "source": [
    "# Coupling BEM-BEM"
   ]
  },
  {
   "cell_type": "markdown",
   "metadata": {},
   "source": [
    "<img src=\"1_Interfaz_EG.png\" width=\"500\" height=\"250\">"
   ]
  },
  {
   "cell_type": "markdown",
   "metadata": {},
   "source": [
    "To calculate the solvation energy of a solute using the BEM-BEM coupling, the following matrix system must be solved, which comes from solving the following PDE, including its border conditions:\n",
    "\\begin{equation} \n",
    "\\left\\{\\begin{matrix} \n",
    "     -\\epsilon_{m}\\nabla^{2} \\phi_{m}(x)=\\sum_{i=1}^{n_{c}}Q_{i}\\delta\\left (x-x_{i} \\right ) & x \\ \\in \\ \\Omega_{m} \\\\\n",
    "     -\\nabla^{2}\\phi_{s}(x)+\\kappa_{s}^{2}\\phi_{s}(x)=0 & x \\ \\in \\ \\Omega_{s} \\\\\n",
    "     \\phi_{m}(x)= \\phi_{s}(x) & x \\ \\in \\ \\Gamma \\\\\n",
    "     \\epsilon_{m}\\partial_n \\phi_{m}(x)= \\epsilon_{s}\\partial_n \\phi_{s}(x) & x \\ \\in \\ \\Gamma \n",
    "\\end{matrix}\\right. \n",
    "\\end{equation}"
   ]
  },
  {
   "cell_type": "markdown",
   "metadata": {},
   "source": [
    "Where $\\Omega_{m}$ is the solute domain, $\\Omega_{s}$ is the solvent domain and $\\Gamma$ is the interface. And its matrix system corresponds to:\n",
    "\n",
    "\\begin{equation}\n",
    "\\begin{bmatrix}\n",
    "\\frac{1}{2}I+K_{L} & -V_{L} \\\\\n",
    "\\frac{1}{2}I-K_{H} & \\frac{\\epsilon_{m}}{\\epsilon_{s}}V_{H} \\\\\n",
    "\\end{bmatrix}\\cdot\n",
    "\\begin{bmatrix}\n",
    "\\phi_{m}^{\\Gamma} \\\\\n",
    "\\partial_n \\phi_{m}^{\\Gamma}\\\\\n",
    "\\end{bmatrix} =\n",
    "\\begin{bmatrix}\n",
    "\\frac{1}{4\\pi\\epsilon_{m}}\\sum_{n=1}^{n_{c}}\\frac{Q_{i}}{\\left \\|x_{\\Gamma}-x_{i}\\right \\|} \\\\\n",
    "0 \\\\\n",
    "\\end{bmatrix}\n",
    "\\end{equation}"
   ]
  },
  {
   "cell_type": "markdown",
   "metadata": {},
   "source": [
    "And when solving the matrix system, the solvation energy is calculated as:\n",
    "\\begin{equation} \n",
    "    \\Delta G_{Sol}=\\frac{1}{2}\\sum_{i=1}^{n_{c}}Q_{i} \\left ( V_L\\partial_n \\phi_m^{\\Gamma}(x_{i})-K_L\\phi_m^{\\Gamma}(x_{i}) \\right )\n",
    "\\end{equation}   "
   ]
  },
  {
   "cell_type": "markdown",
   "metadata": {},
   "source": [
    "## Implementation"
   ]
  },
  {
   "cell_type": "markdown",
   "metadata": {},
   "source": [
    "First we import the main libraries such as Numpy, Trimesh and Bempp, as well as files in Python to read the solute files, which are in \".pqr\" and \".off\" format."
   ]
  },
  {
   "cell_type": "code",
   "execution_count": 1,
   "metadata": {},
   "outputs": [],
   "source": [
    "import bempp.api\n",
    "import numpy as np \n",
    "import time\n",
    "import trimesh\n",
    "from readoff import *\n",
    "from readpqr import *\n",
    "start = time.time()"
   ]
  },
  {
   "cell_type": "markdown",
   "metadata": {},
   "source": [
    "Next, the physical conditions of the problem in each region are defined, such as pemitivity and\n",
    "Debye-Huckel parameter."
   ]
  },
  {
   "cell_type": "code",
   "execution_count": 2,
   "metadata": {},
   "outputs": [],
   "source": [
    "em = 4.    #[-] Interior electrical permittivity of the solute.\n",
    "es = 80.   #[-] Exterior electrical permittivity of the solvent.\n",
    "ks = 0.125  #[1/A] Inverse of the Debye-Huckel length of the fluid in the solvent."
   ]
  },
  {
   "cell_type": "markdown",
   "metadata": {},
   "source": [
    "Later, we choose the solution that we want to use to calculate the energy, where we import the surface mesh and the \".pqr\" file to obtain the information on the radii, charges and position of the solute atoms."
   ]
  },
  {
   "cell_type": "code",
   "execution_count": 3,
   "metadata": {},
   "outputs": [],
   "source": [
    "Mesh1 ='Sphere/Mallas_S/Sphere65R4.off'  #Path of the surface mesh of the solute for which the energy is to be calculated. In \"off\" format\n",
    "PQR = 'Sphere/PQR/Sphere5Q3.pqr'        #Path of the position and charges of the solute for which the energy is to be calculated. In \"pqr\" format\n",
    "PC,Q,R = readpqr(PQR)  "
   ]
  },
  {
   "cell_type": "markdown",
   "metadata": {},
   "source": [
    "In addition, we can choose the type of preconditioner to solve the matrix system, the type of assembly of the edge operators, parameters of the GMRES and the FMM if required."
   ]
  },
  {
   "cell_type": "code",
   "execution_count": 4,
   "metadata": {},
   "outputs": [],
   "source": [
    "#Choice to solve the matrix equation in BEM/BEM.\n",
    "#True: Use the Mass Matrix preconditioner.\n",
    "#False: Use the Block diagonal preconditioner.\n",
    "SF = False  #Strong form. \n",
    "    \n",
    "#Assembly of border operators.\n",
    "#fmm: For molecules with a greater number of vertices.\n",
    "#default_nonlocal: For molecules with a small number of vertices.    \n",
    "Assemble = 'default_nonlocal' \n",
    "\n",
    "#Important parameters of the GMRES.\n",
    "Tol =1e-6    #GMRES tolerance.\n",
    "Res =70      #Restart of the GMRES in each iteration.\n",
    "\n",
    "#Secondary parameters when working with the fmm assembly.\n",
    "bempp.api.GLOBAL_PARAMETERS.fmm.expansion_order = 5  \n",
    "bempp.api.GLOBAL_PARAMETERS.fmm.ncrit = 400          \n",
    "bempp.api.GLOBAL_PARAMETERS.quadrature.regular = 4   "
   ]
  },
  {
   "cell_type": "markdown",
   "metadata": {},
   "source": [
    "Next, we generate the surface mesh of the solute."
   ]
  },
  {
   "cell_type": "code",
   "execution_count": 5,
   "metadata": {},
   "outputs": [
    {
     "name": "stdout",
     "output_type": "stream",
     "text": [
      "Found 1 meshes\n"
     ]
    }
   ],
   "source": [
    "vertices_0,faces_0 = read_off(Mesh1) \n",
    "#In case the mesh has small gaps, with trimesh the information of the original mesh without the gaps is obtained.\n",
    "meshSP = trimesh.Trimesh(vertices = vertices_0, faces= faces_0) \n",
    "mesh_split = meshSP.split()\n",
    "print(\"Found %i meshes\"%len(mesh_split)) #1 mesh means no cavity.\n",
    "\n",
    "vertices_1 = mesh_split[0].vertices \n",
    "faces_1 = mesh_split[0].faces   \n",
    "grid = bempp.api.grid.grid.Grid(vertices_1.transpose(), faces_1.transpose()) #Creation of the surface mesh."
   ]
  },
  {
   "cell_type": "markdown",
   "metadata": {},
   "source": [
    "We make the Bempp function spaces of the potential and its derivative."
   ]
  },
  {
   "cell_type": "code",
   "execution_count": 6,
   "metadata": {},
   "outputs": [
    {
     "name": "stdout",
     "output_type": "stream",
     "text": [
      "DS dofs: 7908\n",
      "NS dofs: 7908\n"
     ]
    }
   ],
   "source": [
    "dirichl_space = bempp.api.function_space(grid, \"P\", 1)   #Electrostatic potential at the interface.\n",
    "neumann_space = bempp.api.function_space(grid, \"P\", 1)   #Derived from the electrostatic potential at the interface.\n",
    "print(\"DS dofs: {0}\".format(dirichl_space.global_dof_count))\n",
    "print(\"NS dofs: {0}\".format(neumann_space.global_dof_count))  "
   ]
  },
  {
   "cell_type": "markdown",
   "metadata": {},
   "source": [
    "We create the boundary operators that we need for each domain."
   ]
  },
  {
   "cell_type": "code",
   "execution_count": 7,
   "metadata": {},
   "outputs": [],
   "source": [
    "#Domain of the solute Ωm.\n",
    "IL = bempp.api.operators.boundary.sparse.identity(dirichl_space, dirichl_space, dirichl_space) #1\n",
    "KL = bempp.api.operators.boundary.laplace.double_layer(dirichl_space, dirichl_space, dirichl_space, assembler=Assemble) #K\n",
    "VL = bempp.api.operators.boundary.laplace.single_layer(neumann_space, dirichl_space, dirichl_space, assembler=Assemble) #V\n",
    "#Domain of the solvent Ωs.\n",
    "IH = bempp.api.operators.boundary.sparse.identity(dirichl_space, neumann_space, neumann_space) #1\n",
    "if ks==0:\n",
    "    KH = bempp.api.operators.boundary.laplace.double_layer(dirichl_space, neumann_space, neumann_space, assembler=Assemble) #K\n",
    "    VH = bempp.api.operators.boundary.laplace.single_layer(neumann_space, neumann_space, neumann_space, assembler=Assemble) #V\n",
    "else:\n",
    "    KH = bempp.api.operators.boundary.modified_helmholtz.double_layer(dirichl_space, neumann_space, neumann_space, ks, assembler=Assemble) #K\n",
    "    VH = bempp.api.operators.boundary.modified_helmholtz.single_layer(neumann_space, neumann_space, neumann_space, ks, assembler=Assemble) #V"
   ]
  },
  {
   "cell_type": "markdown",
   "metadata": {},
   "source": [
    "Later, we create the Coulomb potential function $\\phi_{c}^{\\Gamma}$ and with that, we construct the vector right head side $b$ of formulation.\n",
    "\\begin{equation}\n",
    "\\phi_{c}^{\\Gamma} =\\frac{1}{4\\pi\\epsilon_{m}}\\sum_{n=1}^{n_{c}}\\frac{Q_{i}}{\\left \\|x_{\\Gamma}-x_{i}\\right \\|} \\quad \\quad\n",
    "b=\\begin{bmatrix}\n",
    "\\phi_{c}^{\\Gamma} \\\\\n",
    "0 \\\\\n",
    "\\end{bmatrix}\n",
    "\\end{equation}"
   ]
  },
  {
   "cell_type": "code",
   "execution_count": 8,
   "metadata": {},
   "outputs": [],
   "source": [
    "@bempp.api.complex_callable(jit=False)\n",
    "def U_c(x, n, domain_index, result):\n",
    "    global Q,PC,em\n",
    "    result[:] = (1 /(4*np.pi*em))  * np.sum( Q / np.linalg.norm( x - PC, axis=1))\n",
    "U_c = bempp.api.GridFunction(dirichl_space, fun=U_c)\n",
    "\n",
    "if SF==False:\n",
    "    # Rhs in Ωm.\n",
    "    rhs_M = (U_c).projections(dirichl_space)\n",
    "    # Rhs in Ωs.\n",
    "    rhs_S = np.zeros(neumann_space.global_dof_count)\n",
    "    # The combination of Rhs.\n",
    "    rhs = np.concatenate([rhs_M, rhs_S])\n",
    "else:    \n",
    "    rhs = [I1*U_c, 0*I2*U_c]"
   ]
  },
  {
   "cell_type": "markdown",
   "metadata": {},
   "source": [
    "And we construct the global left 2x2 matrix $A$ of the formulation.   \n",
    "\\begin{equation}\n",
    "A=\\begin{bmatrix}\n",
    "\\frac{1}{2}I+K_{L} & -V_{L} \\\\\n",
    "\\frac{1}{2}I-K_{H} & \\frac{\\epsilon_{m}}{\\epsilon_{s}}V_{H} \\\\\n",
    "\\end{bmatrix}\n",
    "\\end{equation}"
   ]
  },
  {
   "cell_type": "code",
   "execution_count": 9,
   "metadata": {},
   "outputs": [],
   "source": [
    "if SF==False:\n",
    "    #Position of the 2x2 matrix.\n",
    "    blocks = [[None,None],[None,None]] \n",
    "    blocks[0][0] = (0.5*IL + KL).weak_form() \n",
    "    blocks[0][1] = -VL.weak_form()            \n",
    "    blocks[1][0] = (0.5*IH - KH).weak_form()  \n",
    "    blocks[1][1] = (em/es)*VH.weak_form()        \n",
    "    blocked = bempp.api.assembly.blocked_operator.BlockedDiscreteOperator(np.array(blocks))   \n",
    "    #Block diagonal preconditioner for BEM.\n",
    "    from preconditioners import *\n",
    "    P = BlockDiagonal_2x2(dirichl_space, neumann_space, blocks, es, em, ks) \n",
    "else:   \n",
    "    #Position of the 2x2 matrix.\n",
    "    blocks = bempp.api.BlockedOperator(2,2)    \n",
    "    blocks[0,0] = (0.5*IL + KL)  \n",
    "    blocks[0,1] = -VL            \n",
    "    blocks[1,0] = (0.5*IH - KH) \n",
    "    blocks[1,1] = (em/es)*VH     "
   ]
  },
  {
   "cell_type": "markdown",
   "metadata": {},
   "source": [
    "Later, we solve the matrix system $Ax=b$ with GMRES together with its respective preconditioning an efficient solution. The solution is then divided into the parts associated with $\\phi_{m}^{\\Gamma}$ and $\\partial_{n}\\phi_{m}^{\\Gamma}$. "
   ]
  },
  {
   "cell_type": "code",
   "execution_count": 10,
   "metadata": {
    "scrolled": true
   },
   "outputs": [
    {
     "name": "stdout",
     "output_type": "stream",
     "text": [
      "Number of GMRES iterations: 28\n",
      "Total time in GMRES: 15.75 [s]\n"
     ]
    }
   ],
   "source": [
    "#Iteration counter.\n",
    "it_count = 0\n",
    "def count_iterations(x):\n",
    "    global it_count\n",
    "    it_count += 1\n",
    "    if (it_count / 100) == (it_count // 100):\n",
    "        print(it_count,x)\n",
    "\n",
    "# Solution by GMRES.\n",
    "from scipy.sparse.linalg import gmres\n",
    "if SF==False:\n",
    "    start1 = time.time()\n",
    "    soln, info = gmres(blocked, rhs, M=P, callback=count_iterations,tol=Tol, restart=Res)  \n",
    "    end1 = time.time() \n",
    "else:\n",
    "    start1 = time.time()\n",
    "    soln, info, res, it_count = bempp.api.linalg.gmres(blocks, rhs, return_residuals=True, return_iteration_count=True, use_strong_form=True, tol=Tol, restart=Res)\n",
    "    end1 = time.time()\n",
    "    \n",
    "# Time to solve the equation.\n",
    "curr_time1 = (end1 - start1)\n",
    "print(\"Number of GMRES iterations: {0}\".format(it_count))\n",
    "print(\"Total time in GMRES: {:5.2f} [s]\".format(curr_time1))"
   ]
  },
  {
   "cell_type": "markdown",
   "metadata": {},
   "source": [
    "Next, we make Bempp functions from the solution of $\\phi_{m}^{\\Gamma}$ and $\\partial_{n}\\phi_{m}^{\\Gamma}$."
   ]
  },
  {
   "cell_type": "code",
   "execution_count": 11,
   "metadata": {},
   "outputs": [],
   "source": [
    "if SF==False:\n",
    "    # Solution for Dirichlet data.\n",
    "    soln_u = soln[:dirichl_space.global_dof_count]\n",
    "    dirichlet_fun = bempp.api.GridFunction(dirichl_space, coefficients=soln_u)    \n",
    "    # Solution for Neumann data.\n",
    "    soln_du = soln[dirichl_space.global_dof_count:] \n",
    "    neumann_fun = bempp.api.GridFunction(neumann_space, coefficients=soln_du)\n",
    "else:\n",
    "    dirichlet_fun = soln[0]\n",
    "    neumann_fun = soln[1]"
   ]
  },
  {
   "cell_type": "markdown",
   "metadata": {},
   "source": [
    "Finally we calculate the solvation energy for the BEM-BEM coupling, using the equation of the potential at the position of the solute atoms.\n",
    "\\begin{equation}\n",
    "\\phi_m(x) =V_L\\partial_{n}\\phi_m^{\\Gamma}(x)-K_L\\phi_m^{\\Gamma}(x)  \\quad \\quad\n",
    " \\Delta G_{Sol}=\\frac{1}{2}\\sum_{i=1}^{n_{c}}Q_{i}\\phi_{m}(x_i) \n",
    "\\end{equation}   "
   ]
  },
  {
   "cell_type": "code",
   "execution_count": 12,
   "metadata": {
    "scrolled": true
   },
   "outputs": [
    {
     "name": "stdout",
     "output_type": "stream",
     "text": [
      "Solvation Energy: -55.901478 [kCal/mol]\n",
      "Total time: 189.62 [s]\n"
     ]
    }
   ],
   "source": [
    "#Result of the total solvation energy.\n",
    "VF = bempp.api.operators.potential.laplace.single_layer(neumann_space, np.transpose(PC)) \n",
    "KF = bempp.api.operators.potential.laplace.double_layer(dirichl_space, np.transpose(PC))\n",
    "uF = VF*neumann_fun - KF*dirichlet_fun\n",
    "E_Solv = 0.5*4.*np.pi*332.064*np.sum(Q*uF).real \n",
    "print('Solvation Energy: {:7.6f} [kCal/mol]'.format(E_Solv) )\n",
    "\n",
    "#Total time.\n",
    "end = time.time()\n",
    "curr_time = (end - start)\n",
    "print(\"Total time: {:5.2f} [s]\".format(curr_time))"
   ]
  },
  {
   "cell_type": "code",
   "execution_count": null,
   "metadata": {},
   "outputs": [],
   "source": []
  }
 ],
 "metadata": {
  "kernelspec": {
   "display_name": "Python 3",
   "language": "python",
   "name": "python3"
  },
  "language_info": {
   "codemirror_mode": {
    "name": "ipython",
    "version": 3
   },
   "file_extension": ".py",
   "mimetype": "text/x-python",
   "name": "python",
   "nbconvert_exporter": "python",
   "pygments_lexer": "ipython3",
   "version": "3.8.6"
  }
 },
 "nbformat": 4,
 "nbformat_minor": 2
}
