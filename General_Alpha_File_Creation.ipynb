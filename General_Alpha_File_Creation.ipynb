{
 "cells": [
  {
   "cell_type": "markdown",
   "metadata": {},
   "source": [
    "# Creation of the text files of the geometric parameter Alpha in .txt format"
   ]
  },
  {
   "cell_type": "markdown",
   "metadata": {},
   "source": [
    "First we import the main libraries such as Numpy, and we call the .py files to create the .xml files."
   ]
  },
  {
   "cell_type": "code",
   "execution_count": null,
   "metadata": {},
   "outputs": [],
   "source": [
    "import numpy as np \n",
    "import time\n",
    "from Codigos_Adicionales import *\n",
    "from Codigos_BEM_y_FEM_Generalizadas import *"
   ]
  },
  {
   "cell_type": "markdown",
   "metadata": {},
   "source": [
    "### Creation of the .txt file of the sphere in general"
   ]
  },
  {
   "cell_type": "code",
   "execution_count": null,
   "metadata": {},
   "outputs": [],
   "source": [
    "LG = ['R0','R1','R2','R3','R4']\n",
    "LG1 = ['','T11']\n",
    "\n",
    "#Code to create the text files for the geometric parameter Alpha.\n",
    "start = time.time()\n",
    "for i in range(len(LG)):\n",
    "    file = LG[i]\n",
    "    for j in range(len(LG1)):\n",
    "        file1 = LG1[j]  #File name \n",
    "        MVG = 'Sphere/Mallas_V/outputTetMeshSphere58'+file+file1+'.xml'   #Folder where the volumetric mesh is\n",
    "        FF =  'Sphere/Lista_A/Alfa_Sphere58'+file+file1+'.txt' #Folder to save the txt file \n",
    "        _= Alfa_BFB(MVG,FF,t)        \n",
    "end = time.time()\n",
    "curr_time = (end - start)   \n",
    "print(\"Tiempo total del programa: {:5.2f} [s]\".format(curr_time))"
   ]
  },
  {
   "cell_type": "markdown",
   "metadata": {},
   "source": [
    "### Creation of the .txt file of the FreeSolv Database"
   ]
  },
  {
   "cell_type": "code",
   "execution_count": null,
   "metadata": {},
   "outputs": [],
   "source": [
    "#Reading the text file.\n",
    "LG = []\n",
    "with open(\"Moleculas_Mobley.txt\",\"r\") as f:\n",
    "    lines = f.readlines()\n",
    "for line in lines:\n",
    "    line = line.split()\n",
    "    LG.append(line[0])\n",
    "print(LG)\n",
    "\n",
    "\n",
    "#Code to create the text files for the geometric parameter Alpha.\n",
    "start = time.time()\n",
    "for i in range(len(LG)):\n",
    "    file = LG[i]  #File name \n",
    "    MVG = 'Mobley/Mallas_V/outputTetMesh'+file+'D8.xml' #Folder where the volumetric mesh is\n",
    "    FF =  'Mobley/Lista_A/Alfa_'+file+'D8.txt'  #Folder to save the txt file \n",
    "    _= Alfa_BFB(MVG,FF,t)         \n",
    "end = time.time()\n",
    "curr_time = (end - start)   \n",
    "print(\"Tiempo total del programa: {:5.2f} [s]\".format(curr_time))"
   ]
  },
  {
   "cell_type": "markdown",
   "metadata": {},
   "source": [
    "### Creation of the .txt file of the complex and proteins for 1EMV, 1BRS, 1JTG, 1BEB and 1A3N"
   ]
  },
  {
   "cell_type": "code",
   "execution_count": null,
   "metadata": {},
   "outputs": [],
   "source": [
    "#Reading the text file.\n",
    "TG0 = ['1emvAmber','1brsAmber','1jtgAmber','1bebAmber','1a3nAmber']\n",
    "TG1 = ['','P1','P2']\n",
    "LG = []\n",
    "for i in range(len(TG0)):\n",
    "    for j in range(len(TG1)):\n",
    "        LG.append(TG0[i]+TG1[j])  \n",
    "\n",
    "#Code to create the text files for the geometric parameter Alpha.\n",
    "start = time.time()\n",
    "for i in range(len(LG)):\n",
    "    file = LG[i]  #File name \n",
    "    MVG = 'Binding_Energy/Mallas_V/outputTetMesh'+file+'D8.xml' #Folder where the volumetric mesh is\n",
    "    FF =  'Binding_Energy/Lista_A/Alfa_'+file+'D8.txt' #Folder to save the txt file \n",
    "    _= Alfa_BFB(MVG,FF,t)        \n",
    "end = time.time()\n",
    "curr_time = (end - start)   \n",
    "print(\"Tiempo total del programa: {:5.2f} [s]\".format(curr_time))"
   ]
  },
  {
   "cell_type": "markdown",
   "metadata": {},
   "source": [
    "### Creation of the .txt file of the complex, ligand and protein for 1BBZ and 1SE0"
   ]
  },
  {
   "cell_type": "code",
   "execution_count": null,
   "metadata": {},
   "outputs": [],
   "source": [
    "#Reading the text file.  \n",
    "LG = ['L1SE0','1SE0','1SE0-L','L1BBZ','1BBZ','1BBZ-L']\n",
    "\n",
    "#Code to create the text files for the geometric parameter Alpha.\n",
    "start = time.time()\n",
    "for i in range(len(LG)):\n",
    "    file = LG[i]  #File name \n",
    "    MVG = 'Binding_Energy/Mallas_V2/outputTetMesh'+file+'D8.xml' #Folder where the volumetric mesh is\n",
    "    FF =  'Binding_Energy/Lista_A2/Alfa_'+file+'D8.txt'  #Folder to save the txt file \n",
    "    _= Alfa_BFB(MVG,FF,t)        \n",
    "end = time.time()\n",
    "curr_time = (end - start)   \n",
    "print(\"Tiempo total del programa: {:5.2f} [s]\".format(curr_time))"
   ]
  },
  {
   "cell_type": "code",
   "execution_count": null,
   "metadata": {},
   "outputs": [],
   "source": []
  }
 ],
 "metadata": {
  "kernelspec": {
   "display_name": "Python 3",
   "language": "python",
   "name": "python3"
  },
  "language_info": {
   "codemirror_mode": {
    "name": "ipython",
    "version": 3
   },
   "file_extension": ".py",
   "mimetype": "text/x-python",
   "name": "python",
   "nbconvert_exporter": "python",
   "pygments_lexer": "ipython3",
   "version": "3.8.6"
  }
 },
 "nbformat": 4,
 "nbformat_minor": 4
}
