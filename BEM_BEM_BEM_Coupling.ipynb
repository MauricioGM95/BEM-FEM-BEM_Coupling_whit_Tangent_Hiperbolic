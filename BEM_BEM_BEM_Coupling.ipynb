{
 "cells": [
  {
   "cell_type": "code",
   "execution_count": 1,
   "metadata": {},
   "outputs": [],
   "source": [
    "#Importing libraries\n",
    "import bempp.api\n",
    "import numpy as np \n",
    "import time\n",
    "import trimesh\n",
    "from readoff import *\n",
    "from readpqr import *\n",
    "start = time.time()"
   ]
  },
  {
   "cell_type": "code",
   "execution_count": 2,
   "metadata": {},
   "outputs": [],
   "source": [
    "#Main Data to modify.\n",
    "#Physical parameters.\n",
    "em = 4.           #[-] Interior electrical permittivity of the solute.\n",
    "es = 80.          #[-] Exterior electrical permittivity of the solvent.\n",
    "ei = (es+em)/2    #[-] Exterior electrical permittivity of the intermediate domain.\n",
    "ks = 0.125        #[1/A] Inverse of the Debey-Huckel length of the fluid in the solvent.\n",
    "ki = ks*np.sqrt(es/(es+em))  #[1/A] Inverse of the Debey-Huckel length of the fluid in the intermediate domain.\n",
    "\n",
    "#Choice of solute.\n",
    "Mesh1 ='Mallas_S/Sphere5R4.off'  #Location of the inner surface mesh of the solute for which the energy is to be calculated. In \"off\" format\n",
    "Mesh2 ='Mallas_S/Sphere8R4.off'  #Location of the outer surface mesh of the solute for which the energy is to be calculated. In \"off\" format\n",
    "PQR = 'PQR/Sphere5Q3.pqr'        #Location of the position and charges of the solute for which the energy is to be calculated. In \"pqr\" format\n",
    "\n",
    "#Choice to solve the matrix equation in BEM/BEM.\n",
    "#True: Use the Mass Matrix preconditioner.\n",
    "#False: No preconditioner is used.\n",
    "SF = False  #Strong form. \n",
    "    \n",
    "#Assembly of border operators.\n",
    "#fmm: For molecules with a greater number of vertices.\n",
    "#default_nonlocal: For molecules with a small number of vertices.    \n",
    "Assemble = 'default_nonlocal' \n",
    "\n",
    "#Important parameters of the GMRES.\n",
    "Tol =1e-6    #GMRES tolerance.\n",
    "Res =70      #Restart of the GMRES in each iteration.\n",
    "\n",
    "#Secondary parameters when working with the fmm assembly.\n",
    "bempp.api.GLOBAL_PARAMETERS.fmm.expansion_order = 5  \n",
    "bempp.api.GLOBAL_PARAMETERS.fmm.ncrit = 400          \n",
    "bempp.api.GLOBAL_PARAMETERS.quadrature.regular = 4  "
   ]
  },
  {
   "cell_type": "code",
   "execution_count": 3,
   "metadata": {},
   "outputs": [],
   "source": [
    "#Data on the position in space, charge and radii of the atoms of the molecule.\n",
    "PC,Q,R = readpqr(PQR)   "
   ]
  },
  {
   "cell_type": "code",
   "execution_count": 4,
   "metadata": {},
   "outputs": [
    {
     "name": "stdout",
     "output_type": "stream",
     "text": [
      "Found 1 meshes\n"
     ]
    }
   ],
   "source": [
    "#Generate the surface meshes of the molecule.\n",
    "V1,F1 = read_off(Mesh1) \n",
    "#In case the mesh has small gaps, with trimesh the information of the original mesh without the gaps is obtained.\n",
    "meshSP = trimesh.Trimesh(vertices = V1, faces= F1) \n",
    "mesh_split = meshSP.split()\n",
    "print(\"Found %i meshes\"%len(mesh_split)) #1 mesh means no cavity.\n",
    "\n",
    "vertices_split1 = mesh_split[0].vertices \n",
    "faces_split1 = mesh_split[0].faces   \n",
    "grid1 = bempp.api.grid.grid.Grid(vertices_split1.transpose(), faces_split1.transpose()) #Creation of the inner surface mesh.\n",
    "\n",
    "verts2,faces2 =read_off(Mesh2) \n",
    "grid2 = bempp.api.grid.grid.Grid(verts2.transpose(), faces2.transpose()) #Creation of the outer surface mesh."
   ]
  },
  {
   "cell_type": "code",
   "execution_count": 5,
   "metadata": {},
   "outputs": [
    {
     "name": "stdout",
     "output_type": "stream",
     "text": [
      "DS1 dofs: 4591\n",
      "NS1 dofs: 4591\n",
      "DS2 dofs: 11924\n",
      "NS2 dofs: 11924\n"
     ]
    }
   ],
   "source": [
    "#Generate functional spaces of the potential and its derivative for the domain Ωm and Ωi.\n",
    "dirichl_space1 = bempp.api.function_space(grid1, \"P\", 1)  #Electrostatic potential at the inner interface.\n",
    "neumann_space1 = bempp.api.function_space(grid1, \"P\", 1)  #Derived from the electrostatic potential at the inner interface. \n",
    "dirichl_space2 = bempp.api.function_space(grid2, \"P\", 1)  #Electrostatic potential at the outer interface.\n",
    "neumann_space2 = bempp.api.function_space(grid2, \"P\", 1)  #Derived from the electrostatic potential at the outer interface. \n",
    "print(\"DS1 dofs: {0}\".format(dirichl_space1.global_dof_count))\n",
    "print(\"NS1 dofs: {0}\".format(neumann_space1.global_dof_count))\n",
    "print(\"DS2 dofs: {0}\".format(dirichl_space2.global_dof_count))\n",
    "print(\"NS2 dofs: {0}\".format(neumann_space2.global_dof_count))"
   ]
  },
  {
   "cell_type": "code",
   "execution_count": 6,
   "metadata": {},
   "outputs": [],
   "source": [
    "#Generate the boundary operators.\n",
    "#Identity operators.\n",
    "I1d = bempp.api.operators.boundary.sparse.identity(dirichl_space1, dirichl_space1, dirichl_space1) # 1\n",
    "I1n = bempp.api.operators.boundary.sparse.identity(dirichl_space1, neumann_space1, neumann_space1) # 1\n",
    "I2d = bempp.api.operators.boundary.sparse.identity(dirichl_space2, dirichl_space2, dirichl_space2) # 1\n",
    "I2n = bempp.api.operators.boundary.sparse.identity(dirichl_space2, neumann_space2, neumann_space2) # 1\n",
    "#Domain of the solute Ωm.\n",
    "K111 = bempp.api.operators.boundary.laplace.double_layer(dirichl_space1, dirichl_space1, dirichl_space1, assembler=Assemble) #K\n",
    "V111 = bempp.api.operators.boundary.laplace.single_layer(neumann_space1, dirichl_space1, dirichl_space1, assembler=Assemble) #V\n",
    "Y121 = bempp.api.ZeroBoundaryOperator(dirichl_space2, dirichl_space1, dirichl_space1) #0\n",
    "Z121 = bempp.api.ZeroBoundaryOperator(neumann_space2, dirichl_space1, dirichl_space1) #0\n",
    "#Intermediate domain Ωi at the inner interface.\n",
    "if ki==0:\n",
    "    K211 = bempp.api.operators.boundary.laplace.double_layer(dirichl_space1, neumann_space1, neumann_space1, assembler=Assemble) #K\n",
    "    V211 = bempp.api.operators.boundary.laplace.single_layer(neumann_space1, neumann_space1, neumann_space1, assembler=Assemble) #V  \n",
    "    K221 = bempp.api.operators.boundary.laplace.double_layer(dirichl_space2, neumann_space1, neumann_space1, assembler=Assemble) #K\n",
    "    V221 = bempp.api.operators.boundary.laplace.single_layer(neumann_space2, neumann_space1, neumann_space1, assembler=Assemble) #V\n",
    "else:\n",
    "    K211 = bempp.api.operators.boundary.modified_helmholtz.double_layer(dirichl_space1, neumann_space1, neumann_space1, ki, assembler=Assemble) #K\n",
    "    V211 = bempp.api.operators.boundary.modified_helmholtz.single_layer(neumann_space1, neumann_space1, neumann_space1, ki, assembler=Assemble) #V  \n",
    "    K221 = bempp.api.operators.boundary.modified_helmholtz.double_layer(dirichl_space2, neumann_space1, neumann_space1, ki, assembler=Assemble) #K\n",
    "    V221 = bempp.api.operators.boundary.modified_helmholtz.single_layer(neumann_space2, neumann_space1, neumann_space1, ki, assembler=Assemble) #V\n",
    "#Intermediate domain Ωi at the outer interface.\n",
    "if ki==0:\n",
    "    K212 = bempp.api.operators.boundary.laplace.double_layer(dirichl_space1, dirichl_space2, dirichl_space2, assembler=Assemble) #K\n",
    "    V212 = bempp.api.operators.boundary.laplace.single_layer(neumann_space1, dirichl_space2, dirichl_space2, assembler=Assemble) #V\n",
    "    K222 = bempp.api.operators.boundary.laplace.double_layer(dirichl_space2, dirichl_space2, dirichl_space2, assembler=Assemble) #K\n",
    "    V222 = bempp.api.operators.boundary.laplace.single_layer(neumann_space2, dirichl_space2, dirichl_space2, assembler=Assemble) #V\n",
    "else:\n",
    "    K212 = bempp.api.operators.boundary.modified_helmholtz.double_layer(dirichl_space1, dirichl_space2, dirichl_space2, ki,  assembler=Assemble) #K\n",
    "    V212 = bempp.api.operators.boundary.modified_helmholtz.single_layer(neumann_space1, dirichl_space2, dirichl_space2, ki, assembler=Assemble) #V\n",
    "    K222 = bempp.api.operators.boundary.modified_helmholtz.double_layer(dirichl_space2, dirichl_space2, dirichl_space2, ki, assembler=Assemble) #K\n",
    "    V222 = bempp.api.operators.boundary.modified_helmholtz.single_layer(neumann_space2, dirichl_space2, dirichl_space2, ki, assembler=Assemble) #V     \n",
    "#Domain of the solvent Ωs.\n",
    "Y312 = bempp.api.ZeroBoundaryOperator(dirichl_space1, neumann_space2, neumann_space2) #0\n",
    "Z312 = bempp.api.ZeroBoundaryOperator(neumann_space1, neumann_space2, neumann_space2) #0\n",
    "if ks==0:\n",
    "    K322 = bempp.api.operators.boundary.laplace.double_layer(dirichl_space2, neumann_space2, neumann_space2, assembler=Assemble) #K\n",
    "    V322 = bempp.api.operators.boundary.laplace.single_layer(neumann_space2, neumann_space2, neumann_space2, assembler=Assemble) #V\n",
    "else:\n",
    "    K322 = bempp.api.operators.boundary.modified_helmholtz.double_layer(dirichl_space2, neumann_space2, neumann_space2, ks, assembler=Assemble) #K\n",
    "    V322 = bempp.api.operators.boundary.modified_helmholtz.single_layer(neumann_space2, neumann_space2, neumann_space2, ks, assembler=Assemble) #V"
   ]
  },
  {
   "cell_type": "code",
   "execution_count": 7,
   "metadata": {},
   "outputs": [],
   "source": [
    "#Creation of the Coulomb potential function.  \n",
    "@bempp.api.complex_callable(jit=False)\n",
    "def U_c(x, n, domain_index, result):\n",
    "    global Q,PC,em\n",
    "    result[:] = (1 / (4.*np.pi*em))  * np.sum( Q / np.linalg.norm( x - PC, axis=1))\n",
    "Uc1 = bempp.api.GridFunction(dirichl_space1, fun=U_c)  \n",
    "\n",
    "#Construction of the right vector.\n",
    "if SF==False:\n",
    "    # Rhs in Ωm.\n",
    "    rhs_M = (Uc1).projections(dirichl_space1) # uc\n",
    "    # Rhs in Ωi at inner interface.\n",
    "    rhs_I1 = np.zeros(neumann_space1.global_dof_count) #0\n",
    "    # Rhs in Ωi at outer interface.\n",
    "    rhs_I2 = np.zeros(dirichl_space2.global_dof_count) #0\n",
    "    # Rhs in Ωs.\n",
    "    rhs_S = np.zeros(neumann_space2.global_dof_count) #0\n",
    "    # The combination of Rhs.\n",
    "    rhs = np.concatenate([rhs_M, rhs_I1, rhs_I2, rhs_S])\n",
    "else:\n",
    "    Uc2 = bempp.api.GridFunction(dirichl_space2, fun=U_c) \n",
    "    rhs = [I1d*Uc1, 0*I1n*Uc1, 0*I2d*Uc2, 0*I2n*Uc2] "
   ]
  },
  {
   "cell_type": "code",
   "execution_count": 8,
   "metadata": {},
   "outputs": [],
   "source": [
    "#Construction left 4x4 matrix.\n",
    "if SF==False:\n",
    "    #Position of the 4x4 matrix.\n",
    "    blocks = [[None,None,None,None],[None,None,None,None],[None,None,None,None],[None,None,None,None]] \n",
    "    blocks[0][0] = (0.5*I1d+K111).weak_form()  # 0.5+K  \n",
    "    blocks[0][1] = -V111.weak_form()           # -V\n",
    "    blocks[0][2] = Y121.weak_form()            # 0\n",
    "    blocks[0][3] = Z121.weak_form()            # 0\n",
    "    blocks[1][0] = (0.5*I1n-K211).weak_form()  # 0.5-K\n",
    "    blocks[1][1] = (em/ei)*V211.weak_form()    # (em/ei)V\n",
    "    blocks[1][2] = K221.weak_form()            # K\n",
    "    blocks[1][3] = -V221.weak_form()           # -V\n",
    "    blocks[2][0] = -K212.weak_form()           # -K\n",
    "    blocks[2][1] = (em/ei)*V212.weak_form()    # (em/ei)V\n",
    "    blocks[2][2] = (0.5*I2d+K222).weak_form()  # 0.5+K\n",
    "    blocks[2][3] = -V222.weak_form()           # -V\n",
    "    blocks[3][0] = Y312.weak_form()            # 0\n",
    "    blocks[3][1] = Z312.weak_form()            # 0\n",
    "    blocks[3][2] = (0.5*I2n-K322).weak_form()  # 0.5-K\n",
    "    blocks[3][3] = (ei/es)*V322.weak_form()    # (ei/es)V   \n",
    "    blocked = bempp.api.assembly.blocked_operator.BlockedDiscreteOperator(np.array(blocks)) \n",
    "    #Block diagonal preconditioner for BEM.\n",
    "    from preconditioners import *\n",
    "    P = BlockDiagonal_4x4(dirichl_space1, neumann_space1, dirichl_space2, neumann_space2, blocks, es,ei,em,ks,ki)\n",
    "else:\n",
    "    blocks = bempp.api.BlockedOperator(4,4)   \n",
    "    #Position of the 4x4 matrix.\n",
    "    blocks[0,0] = (0.5*I1d+K111) # 0.5+K \n",
    "    blocks[0,1] = -V111          # -V\n",
    "    blocks[0,2] = Y121           # 0\n",
    "    blocks[0,3] = Z121           # 0\n",
    "    blocks[1,0] = (0.5*I1n-K211) # 0.5-K\n",
    "    blocks[1,1] = (em/ei)*V211   # (em/ei)V\n",
    "    blocks[1,2] = K221           # K\n",
    "    blocks[1,3] = -V221          # -V\n",
    "    blocks[2,0] = -K212          # -K\n",
    "    blocks[2,1] = (em/ei)*V212   # (em/ei)V\n",
    "    blocks[2,2] = (0.5*I2d+K222) # 0.5+K\n",
    "    blocks[2,3] = -V222          # -V\n",
    "    blocks[3,0] = Y312           # 0\n",
    "    blocks[3,1] = Z312           # 0\n",
    "    blocks[3,2] = (0.5*I2n-K322) # 0.5-K\n",
    "    blocks[3,3] = (ei/es)*V322   # (ei/es)V"
   ]
  },
  {
   "cell_type": "code",
   "execution_count": 9,
   "metadata": {
    "scrolled": true
   },
   "outputs": [
    {
     "name": "stdout",
     "output_type": "stream",
     "text": [
      "Number of GMRES iterations: 49\n",
      "Total time in GMRES: 53.45 [s]\n"
     ]
    }
   ],
   "source": [
    "#The solution of the matrix equation Ax=B is solved.\n",
    "#Iteration counter.\n",
    "it_count = 0\n",
    "def count_iterations(x):\n",
    "    global it_count\n",
    "    it_count += 1\n",
    "    if (it_count / 100) == (it_count // 100):\n",
    "        print(it_count,x)    \n",
    "        \n",
    "# Solution by GMRES.\n",
    "from scipy.sparse.linalg import gmres\n",
    "if SF==False:\n",
    "    start1 = time.time()\n",
    "    soln, info = gmres(blocked, rhs, M=P, callback=count_iterations,tol=Tol, restart=Res)  \n",
    "    end1 = time.time() \n",
    "else:\n",
    "    start1 = time.time()\n",
    "    soln, info, res, it_count = bempp.api.linalg.gmres(blocks, rhs, return_residuals=True, return_iteration_count=True, use_strong_form=True,tol=Tol, restart=Res)  \n",
    "    end1 = time.time() \n",
    "\n",
    "# Time to solve the equation.\n",
    "curr_time1 = (end1 - start1)\n",
    "print(\"Number of GMRES iterations: {0}\".format(it_count))\n",
    "print(\"Total time in GMRES: {:5.2f} [s]\".format(curr_time1))   "
   ]
  },
  {
   "cell_type": "code",
   "execution_count": 10,
   "metadata": {},
   "outputs": [],
   "source": [
    "#Calculates the entire global domain of the potential from the solution of the calculated both edge.\n",
    "if SF==False:   \n",
    "    soln_u1  = soln[:dirichl_space1.global_dof_count]\n",
    "    soln_du1 = soln[dirichl_space1.global_dof_count : dirichl_space1.global_dof_count + neumann_space1.global_dof_count]\n",
    "    soln_u2  = soln[dirichl_space1.global_dof_count + neumann_space1.global_dof_count : dirichl_space1.global_dof_count + neumann_space1.global_dof_count + dirichl_space2.global_dof_count]\n",
    "    soln_du2 = soln[dirichl_space1.global_dof_count + neumann_space1.global_dof_count + dirichl_space2.global_dof_count:]  \n",
    "    # Solution for Dirichlet data at inner surface.\n",
    "    dirichlet_fun1 = bempp.api.GridFunction(dirichl_space1, coefficients=soln_u1)\n",
    "    # Solution for Neumann data at inner surface.\n",
    "    neumann_fun1 = bempp.api.GridFunction(neumann_space1, coefficients=soln_du1)\n",
    "    # Solution for Dirichlet data at outer surface.\n",
    "    dirichlet_fun2 = bempp.api.GridFunction(dirichl_space2, coefficients=soln_u2)\n",
    "    # Solution for Neumann data at outer surface.\n",
    "    neumann_fun2 = bempp.api.GridFunction(neumann_space2, coefficients=soln_du2)\n",
    "else:\n",
    "    dirichlet_fun1 = soln[0] \n",
    "    neumann_fun1 = soln[1] \n",
    "    dirichlet_fun2 = soln[2] \n",
    "    neumann_fun2 = soln[3]  "
   ]
  },
  {
   "cell_type": "code",
   "execution_count": 11,
   "metadata": {
    "scrolled": true
   },
   "outputs": [
    {
     "name": "stdout",
     "output_type": "stream",
     "text": [
      "Solvation Energy: -71.152706 [kCal/mol]\n",
      "Total time: 388.49 [s]\n"
     ]
    }
   ],
   "source": [
    "#Calculation of the potential in the position of the atoms of the molecule.\n",
    "VF1 = bempp.api.operators.potential.laplace.single_layer(neumann_space1, np.transpose(PC)) \n",
    "KF1 = bempp.api.operators.potential.laplace.double_layer(dirichl_space1, np.transpose(PC))\n",
    "uF = VF1*neumann_fun1 - KF1*dirichlet_fun1 \n",
    "\n",
    "#Result of the total solvation energy.\n",
    "E_Solv = 0.5*4.*np.pi*332.064*np.sum(Q*uF).real \n",
    "print('Solvation Energy: {:7.6f} [kCal/mol]'.format(E_Solv) )\n",
    "\n",
    "#Total time.\n",
    "end = time.time()\n",
    "curr_time = (end - start)\n",
    "print(\"Total time: {:5.2f} [s]\".format(curr_time))"
   ]
  },
  {
   "cell_type": "code",
   "execution_count": null,
   "metadata": {},
   "outputs": [],
   "source": []
  }
 ],
 "metadata": {
  "kernelspec": {
   "display_name": "Python 3",
   "language": "python",
   "name": "python3"
  },
  "language_info": {
   "codemirror_mode": {
    "name": "ipython",
    "version": 3
   },
   "file_extension": ".py",
   "mimetype": "text/x-python",
   "name": "python",
   "nbconvert_exporter": "python",
   "pygments_lexer": "ipython3",
   "version": "3.8.6"
  }
 },
 "nbformat": 4,
 "nbformat_minor": 4
}
