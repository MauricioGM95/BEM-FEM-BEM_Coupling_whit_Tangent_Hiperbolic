{
 "cells": [
  {
   "cell_type": "markdown",
   "metadata": {},
   "source": [
    "# Coupling BEM-BEM-BEM"
   ]
  },
  {
   "cell_type": "markdown",
   "metadata": {},
   "source": [
    "<img src=\"2_Interfaces_BBB_EG.png\" width=\"500\" height=\"250\">"
   ]
  },
  {
   "cell_type": "markdown",
   "metadata": {},
   "source": [
    "To calculate the solvation energy of a solute using the BEM-BEM-BEM coupling, the following matrix system must be solved, which comes from solving the following PDE, including its border conditions:\n",
    "\\begin{equation} \n",
    "\\left\\{\\begin{matrix} \n",
    "     -\\epsilon_{m}\\nabla^{2} \\phi_{m}(x)=\\sum_{i=1}^{n_{c}}Q_{i}\\delta\\left (x-x_{i} \\right ) & x \\ \\in \\ \\Omega_{m} \\\\\n",
    "     -\\nabla^{2}\\phi_{i}(x)+\\kappa_{i}^{2}\\phi_{i}(x)\n",
    "     =0 \\ & x \\ \\in \\ \\Omega_{i} \\\\ \n",
    "     -\\nabla^{2}\\phi_{s}(x)+\\kappa_{s}^{2}\\phi_{s}(x)=0 & x \\ \\in \\ \\Omega_{s} \\\\\n",
    "     \\phi_{m}(x)= \\phi_{i}(x) & x \\ \\in \\ \\Gamma_{a} \\\\\n",
    "     \\epsilon_{m}\\partial_n^a \\phi_{m}(x)= \\epsilon_{i}\\partial_n^a \\phi_{i}(x) & x \\ \\in \\ \\Gamma_{a} \\\\\n",
    "     \\phi_{i}(x)= \\phi_{s}(x) & x \\ \\in \\ \\Gamma_{b} \\\\\n",
    "     \\epsilon_{i}\\partial_n^b \\phi_{i}(x)= \\epsilon_{s}\\partial_n^b \\phi_{s}(x) & x \\ \\in \\ \\Gamma_{b}\n",
    "\\end{matrix}\\right. \n",
    "\\end{equation}"
   ]
  },
  {
   "cell_type": "markdown",
   "metadata": {},
   "source": [
    "Where $\\Omega_{m}$ is the solute domain, $\\Omega_{i}$ is the Stern Layer, $\\Omega_{s}$ is the solvent domain, $\\Gamma_{a}$ is the inner interface and $\\Gamma_{b}$ is the outer interface. And its matrix system corresponds to:\n",
    "\\begin{equation}\n",
    "\\begin{bmatrix}\n",
    "\\frac{1}{2}I+K_{L,a}^{a} & -V_{L,a}^{a}  & 0 & 0\\\\ \n",
    "\\frac{1}{2}I-K_{I,a}^{a} & \\frac{\\epsilon_{m}}{\\epsilon_{i}}V_{I,a}^{a} &  K_{I,b}^{a} & -V_{I,b}^{a}\\\\ \n",
    "-K_{I,a}^{b} & \\frac{\\epsilon_{m}}{\\epsilon_{i}}V_{I,a}^{b} &  \\frac{1}{2}I+K_{I,b}^{b} & -V_{I,b}^{b}\\\\  \n",
    "0 & 0 &  \\frac{1}{2}I-K_{H,b}^{b} & \\frac{\\epsilon_{i}}{\\epsilon_{s}}V_{H,b}^{b} \n",
    "\\end{bmatrix} \\cdot\n",
    "\\begin{bmatrix}\n",
    "\\phi_{m}^{\\Gamma_{a}} \\\\\n",
    "\\partial_n \\phi_{m}^{\\Gamma_{a}}\\\\\n",
    "\\phi_{i}^{\\Gamma_{b}} \\\\\n",
    "\\partial_n \\phi_{i}^{\\Gamma_{b}}\\\\ \n",
    "\\end{bmatrix} =\n",
    "\\begin{bmatrix}\n",
    "\\frac{1}{4\\pi\\epsilon_{m}}\\sum_{n=1}^{n_{c}}\\frac{Q_{i}}{\\left \\|x_{\\Gamma_{a}}-x_{i}\\right \\|} \\\\\n",
    "0\\\\\n",
    "0 \\\\\n",
    "0 \\\\ \n",
    "\\end{bmatrix} \n",
    "\\end{equation}"
   ]
  },
  {
   "cell_type": "markdown",
   "metadata": {},
   "source": [
    "And when solving the matrix system, the solvation energy is calculated as:\n",
    "\\begin{equation} \n",
    "    \\Delta G_{Sol}=\\frac{1}{2}\\sum_{i=1}^{n_{c}}Q_{i} \\left ( V_L\\partial_n \\phi_m^{\\Gamma_{a}}(x_{i})-K_L\\phi_m^{\\Gamma_{a}}(x_{i}) \\right )\n",
    "\\end{equation}   "
   ]
  },
  {
   "cell_type": "markdown",
   "metadata": {},
   "source": [
    "## Implementation"
   ]
  },
  {
   "cell_type": "markdown",
   "metadata": {},
   "source": [
    "First we import the main libraries such as Numpy, Trimesh and Bempp, as well as files in Python to read the solute files, which are in \".pqr\" and \".off\" format."
   ]
  },
  {
   "cell_type": "code",
   "execution_count": 1,
   "metadata": {},
   "outputs": [],
   "source": [
    "import bempp.api\n",
    "import numpy as np \n",
    "import time\n",
    "import trimesh\n",
    "from readoff import *\n",
    "from readpqr import *\n",
    "start = time.time()"
   ]
  },
  {
   "cell_type": "markdown",
   "metadata": {},
   "source": [
    "Next, the physical conditions of the problem in each region are defined, such as pemitivity and\n",
    "Debye-Huckel parameter."
   ]
  },
  {
   "cell_type": "code",
   "execution_count": 2,
   "metadata": {},
   "outputs": [],
   "source": [
    "em = 4.           #[-] Interior electrical permittivity of the solute.\n",
    "es = 80.          #[-] Exterior electrical permittivity of the solvent.\n",
    "ei = (es+em)/2    #[-] Intermediate electrical permittivity of the intermediate domain.\n",
    "ks = 0.125        #[1/A] Inverse of the Debye-Huckel length of the fluid in the solvent.\n",
    "ki = ks*np.sqrt(es/(es+em))  #[1/A] Inverse of the Debye-Huckel length of the fluid in the intermediate domain."
   ]
  },
  {
   "cell_type": "markdown",
   "metadata": {},
   "source": [
    "Later, we choose the solution that we want to use to calculate the energy, where we import the surface mesh and the \".pqr\" file to obtain the information on the radii, charges and position of the solute atoms."
   ]
  },
  {
   "cell_type": "code",
   "execution_count": 3,
   "metadata": {},
   "outputs": [],
   "source": [
    "Mesh1 ='Sphere/Mallas_S/Sphere5R4.off'  #Path of the inner surface mesh of the solute for which the energy is to be calculated. In \"off\" format.\n",
    "Mesh2 ='Sphere/Mallas_S/Sphere8R4.off'  #Path of the outer surface mesh of the solute for which the energy is to be calculated. In \"off\" format.\n",
    "PQR = 'PQR/Sphere5Q3.pqr'        #Path of the position and charges of the solute for which the energy is to be calculated. In \"pqr\" format.\n",
    "PC,Q,R = readpqr(PQR)   "
   ]
  },
  {
   "cell_type": "markdown",
   "metadata": {},
   "source": [
    "In addition, we can choose the type of preconditioner to solve the matrix system, the type of assembly of the edge operators, parameters of the GMRES and the FMM if required."
   ]
  },
  {
   "cell_type": "code",
   "execution_count": 4,
   "metadata": {},
   "outputs": [],
   "source": [
    "#Choice to solve the matrix equation in BEM/BEM/BEM.\n",
    "#True: Use the Mass Matrix preconditioner.\n",
    "#False: Use the Block diagonal preconditioner.\n",
    "SF = False  #Strong form. \n",
    "    \n",
    "#Assembly of border operators.\n",
    "#fmm: For molecules with a greater number of vertices.\n",
    "#default_nonlocal: For molecules with a small number of vertices.    \n",
    "Assemble = 'default_nonlocal' \n",
    "\n",
    "#Important parameters of the GMRES.\n",
    "Tol =1e-6    #GMRES tolerance.\n",
    "Res =70      #Restart of the GMRES in each iteration.\n",
    "\n",
    "#Secondary parameters when working with the fmm assembly.\n",
    "bempp.api.GLOBAL_PARAMETERS.fmm.expansion_order = 5  \n",
    "bempp.api.GLOBAL_PARAMETERS.fmm.ncrit = 400          \n",
    "bempp.api.GLOBAL_PARAMETERS.quadrature.regular = 4  "
   ]
  },
  {
   "cell_type": "markdown",
   "metadata": {},
   "source": [
    "Next, we generate the surface mesh of the solute."
   ]
  },
  {
   "cell_type": "code",
   "execution_count": 5,
   "metadata": {},
   "outputs": [
    {
     "name": "stdout",
     "output_type": "stream",
     "text": [
      "Found 1 meshes\n"
     ]
    }
   ],
   "source": [
    "vertices_0,faces_0 = read_off(Mesh1) \n",
    "#In case the mesh has small gaps, with trimesh the information of the original mesh without the gaps is obtained.\n",
    "meshSP = trimesh.Trimesh(vertices = vertices_0, faces= faces_0) \n",
    "mesh_split = meshSP.split()\n",
    "print(\"Found %i meshes\"%len(mesh_split)) #1 mesh means no cavity.\n",
    "\n",
    "vertices_1 = mesh_split[0].vertices \n",
    "faces_1 = mesh_split[0].faces   \n",
    "grid1 = bempp.api.grid.grid.Grid(vertices_1.transpose(), faces_1.transpose()) #Creation of the inner surface mesh.\n",
    "\n",
    "vertices_2 ,faces_2 =read_off(Mesh2) \n",
    "grid2 = bempp.api.grid.grid.Grid(vertices_2.transpose(), faces_2.transpose()) #Creation of the outer surface mesh."
   ]
  },
  {
   "cell_type": "markdown",
   "metadata": {},
   "source": [
    "We make the Bempp function spaces of the potential and its derivative."
   ]
  },
  {
   "cell_type": "code",
   "execution_count": 6,
   "metadata": {},
   "outputs": [
    {
     "name": "stdout",
     "output_type": "stream",
     "text": [
      "DS1 dofs: 4591\n",
      "NS1 dofs: 4591\n",
      "DS2 dofs: 11924\n",
      "NS2 dofs: 11924\n"
     ]
    }
   ],
   "source": [
    "dirichl_space1 = bempp.api.function_space(grid1, \"P\", 1)  #Electrostatic potential at the inner interface.\n",
    "neumann_space1 = bempp.api.function_space(grid1, \"P\", 1)  #Derived from the electrostatic potential at the inner interface. \n",
    "dirichl_space2 = bempp.api.function_space(grid2, \"P\", 1)  #Electrostatic potential at the outer interface.\n",
    "neumann_space2 = bempp.api.function_space(grid2, \"P\", 1)  #Derived from the electrostatic potential at the outer interface. \n",
    "print(\"DS1 dofs: {0}\".format(dirichl_space1.global_dof_count))\n",
    "print(\"NS1 dofs: {0}\".format(neumann_space1.global_dof_count))\n",
    "print(\"DS2 dofs: {0}\".format(dirichl_space2.global_dof_count))\n",
    "print(\"NS2 dofs: {0}\".format(neumann_space2.global_dof_count))"
   ]
  },
  {
   "cell_type": "markdown",
   "metadata": {},
   "source": [
    "We create the boundary operators that we need for each domain."
   ]
  },
  {
   "cell_type": "code",
   "execution_count": 7,
   "metadata": {},
   "outputs": [],
   "source": [
    "#Identity operators.\n",
    "I1d = bempp.api.operators.boundary.sparse.identity(dirichl_space1, dirichl_space1, dirichl_space1) # 1\n",
    "I1n = bempp.api.operators.boundary.sparse.identity(dirichl_space1, neumann_space1, neumann_space1) # 1\n",
    "I2d = bempp.api.operators.boundary.sparse.identity(dirichl_space2, dirichl_space2, dirichl_space2) # 1\n",
    "I2n = bempp.api.operators.boundary.sparse.identity(dirichl_space2, neumann_space2, neumann_space2) # 1\n",
    "#Domain of the solute Ωm.\n",
    "KLaa = bempp.api.operators.boundary.laplace.double_layer(dirichl_space1, dirichl_space1, dirichl_space1, assembler=Assemble) #K\n",
    "VLaa = bempp.api.operators.boundary.laplace.single_layer(neumann_space1, dirichl_space1, dirichl_space1, assembler=Assemble) #V\n",
    "Z1ba = bempp.api.ZeroBoundaryOperator(dirichl_space2, dirichl_space1, dirichl_space1) #0\n",
    "Z2ba = bempp.api.ZeroBoundaryOperator(neumann_space2, dirichl_space1, dirichl_space1) #0\n",
    "#Intermediate domain Ωi at the inner interface.\n",
    "if ki==0:\n",
    "    KIaa = bempp.api.operators.boundary.laplace.double_layer(dirichl_space1, neumann_space1, neumann_space1, assembler=Assemble) #K\n",
    "    VIaa = bempp.api.operators.boundary.laplace.single_layer(neumann_space1, neumann_space1, neumann_space1, assembler=Assemble) #V  \n",
    "    KIba = bempp.api.operators.boundary.laplace.double_layer(dirichl_space2, neumann_space1, neumann_space1, assembler=Assemble) #K\n",
    "    VIba = bempp.api.operators.boundary.laplace.single_layer(neumann_space2, neumann_space1, neumann_space1, assembler=Assemble) #V\n",
    "else:\n",
    "    KIaa = bempp.api.operators.boundary.modified_helmholtz.double_layer(dirichl_space1, neumann_space1, neumann_space1, ki, assembler=Assemble) #K\n",
    "    VIaa = bempp.api.operators.boundary.modified_helmholtz.single_layer(neumann_space1, neumann_space1, neumann_space1, ki, assembler=Assemble) #V  \n",
    "    KIba = bempp.api.operators.boundary.modified_helmholtz.double_layer(dirichl_space2, neumann_space1, neumann_space1, ki, assembler=Assemble) #K\n",
    "    VIba = bempp.api.operators.boundary.modified_helmholtz.single_layer(neumann_space2, neumann_space1, neumann_space1, ki, assembler=Assemble) #V\n",
    "#Intermediate domain Ωi at the outer interface.\n",
    "if ki==0:\n",
    "    KIab = bempp.api.operators.boundary.laplace.double_layer(dirichl_space1, dirichl_space2, dirichl_space2, assembler=Assemble) #K\n",
    "    VIab = bempp.api.operators.boundary.laplace.single_layer(neumann_space1, dirichl_space2, dirichl_space2, assembler=Assemble) #V\n",
    "    KIbb = bempp.api.operators.boundary.laplace.double_layer(dirichl_space2, dirichl_space2, dirichl_space2, assembler=Assemble) #K\n",
    "    VIbb = bempp.api.operators.boundary.laplace.single_layer(neumann_space2, dirichl_space2, dirichl_space2, assembler=Assemble) #V\n",
    "else:\n",
    "    KIab = bempp.api.operators.boundary.modified_helmholtz.double_layer(dirichl_space1, dirichl_space2, dirichl_space2, ki,  assembler=Assemble) #K\n",
    "    VIab = bempp.api.operators.boundary.modified_helmholtz.single_layer(neumann_space1, dirichl_space2, dirichl_space2, ki, assembler=Assemble) #V\n",
    "    KIbb = bempp.api.operators.boundary.modified_helmholtz.double_layer(dirichl_space2, dirichl_space2, dirichl_space2, ki, assembler=Assemble) #K\n",
    "    VIbb = bempp.api.operators.boundary.modified_helmholtz.single_layer(neumann_space2, dirichl_space2, dirichl_space2, ki, assembler=Assemble) #V     \n",
    "#Domain of the solvent Ωs.\n",
    "Z1ab = bempp.api.ZeroBoundaryOperator(dirichl_space1, neumann_space2, neumann_space2) #0\n",
    "Z2ab = bempp.api.ZeroBoundaryOperator(neumann_space1, neumann_space2, neumann_space2) #0\n",
    "if ks==0:\n",
    "    KHbb = bempp.api.operators.boundary.laplace.double_layer(dirichl_space2, neumann_space2, neumann_space2, assembler=Assemble) #K\n",
    "    VHbb = bempp.api.operators.boundary.laplace.single_layer(neumann_space2, neumann_space2, neumann_space2, assembler=Assemble) #V\n",
    "else:\n",
    "    KHbb = bempp.api.operators.boundary.modified_helmholtz.double_layer(dirichl_space2, neumann_space2, neumann_space2, ks, assembler=Assemble) #K\n",
    "    VHbb = bempp.api.operators.boundary.modified_helmholtz.single_layer(neumann_space2, neumann_space2, neumann_space2, ks, assembler=Assemble) #V"
   ]
  },
  {
   "cell_type": "markdown",
   "metadata": {},
   "source": [
    "Later, we create the Coulomb potential function $\\phi_{c}^{\\Gamma_{a}}$ and with that, we construct the vector right head side $b$ of formulation.\n",
    "\\begin{equation}\n",
    "\\phi_{c}^{\\Gamma_{a}} =\\frac{1}{4\\pi\\epsilon_{m}}\\sum_{n=1}^{n_{c}}\\frac{Q_{i}}{\\left \\|x_{\\Gamma_{a}}-x_{i}\\right \\|} \\quad \\quad\n",
    "b=\\begin{bmatrix}\n",
    "\\phi_{c}^{\\Gamma_{a}} \\\\\n",
    "0 \\\\\n",
    "0 \\\\\n",
    "0 \\\\\n",
    "\\end{bmatrix}\n",
    "\\end{equation}"
   ]
  },
  {
   "cell_type": "code",
   "execution_count": 8,
   "metadata": {},
   "outputs": [],
   "source": [
    "@bempp.api.complex_callable(jit=False)\n",
    "def U_c(x, n, domain_index, result):\n",
    "    global Q,PC,em\n",
    "    result[:] = (1 / (4.*np.pi*em))  * np.sum( Q / np.linalg.norm( x - PC, axis=1))\n",
    "Uc1 = bempp.api.GridFunction(dirichl_space1, fun=U_c)  \n",
    "\n",
    "if SF==False:\n",
    "    # Rhs in Ωm.\n",
    "    rhs_M = (Uc1).projections(dirichl_space1) \n",
    "    # Rhs in Ωi at inner interface.\n",
    "    rhs_I1 = np.zeros(neumann_space1.global_dof_count) \n",
    "    # Rhs in Ωi at outer interface.\n",
    "    rhs_I2 = np.zeros(dirichl_space2.global_dof_count) \n",
    "    # Rhs in Ωs.\n",
    "    rhs_S = np.zeros(neumann_space2.global_dof_count) \n",
    "    # The combination of Rhs.\n",
    "    rhs = np.concatenate([rhs_M, rhs_I1, rhs_I2, rhs_S])\n",
    "else:\n",
    "    Uc2 = bempp.api.GridFunction(dirichl_space2, fun=U_c) \n",
    "    rhs = [I1d*Uc1, 0*I1n*Uc1, 0*I2d*Uc2, 0*I2n*Uc2] "
   ]
  },
  {
   "cell_type": "markdown",
   "metadata": {},
   "source": [
    "And we construct the global left 4x4 matrix $A$ of the formulation.   \n",
    "\\begin{equation}\n",
    "A=\\begin{bmatrix}\n",
    "\\frac{1}{2}I+K_{L,a}^{a} & -V_{L,a}^{a}  & 0 & 0\\\\ \n",
    "\\frac{1}{2}I-K_{I,a}^{a} & \\frac{\\epsilon_{m}}{\\epsilon_{i}}V_{I,a}^{a} &  K_{I,b}^{a} & -V_{I,b}^{a}\\\\ \n",
    "-K_{I,a}^{b} & \\frac{\\epsilon_{m}}{\\epsilon_{i}}V_{I,a}^{b} &  \\frac{1}{2}I+K_{I,b}^{b} & -V_{I,b}^{b}\\\\  \n",
    "0 & 0 &  \\frac{1}{2}I-K_{H,b}^{b} & \\frac{\\epsilon_{i}}{\\epsilon_{s}}V_{H,b}^{b} \n",
    "\\end{bmatrix}\n",
    "\\end{equation}"
   ]
  },
  {
   "cell_type": "code",
   "execution_count": 9,
   "metadata": {},
   "outputs": [],
   "source": [
    "if SF==False:\n",
    "    #Position of the 4x4 matrix.\n",
    "    blocks = [[None,None,None,None],[None,None,None,None],[None,None,None,None],[None,None,None,None]] \n",
    "    blocks[0][0] = (0.5*I1d+KLaa).weak_form()   \n",
    "    blocks[0][1] = -VLaa.weak_form()           \n",
    "    blocks[0][2] = Z1ba.weak_form()            \n",
    "    blocks[0][3] = Z2ba.weak_form()    \n",
    "    \n",
    "    blocks[1][0] = (0.5*I1n-KIaa).weak_form()  \n",
    "    blocks[1][1] = (em/ei)*VIaa.weak_form()    \n",
    "    blocks[1][2] = KIba.weak_form()            \n",
    "    blocks[1][3] = -VIba.weak_form()    \n",
    "    \n",
    "    blocks[2][0] = -KIab.weak_form()           \n",
    "    blocks[2][1] = (em/ei)*VIab.weak_form()    \n",
    "    blocks[2][2] = (0.5*I2d+KIbb).weak_form()  \n",
    "    blocks[2][3] = -VIbb.weak_form()    \n",
    "    \n",
    "    blocks[3][0] = Z1ab.weak_form()            \n",
    "    blocks[3][1] = Z2ab.weak_form()            \n",
    "    blocks[3][2] = (0.5*I2n-KHbb).weak_form()  \n",
    "    blocks[3][3] = (ei/es)*VHbb.weak_form()    \n",
    "    blocked = bempp.api.assembly.blocked_operator.BlockedDiscreteOperator(np.array(blocks)) \n",
    "    #Block diagonal preconditioner for BEM.\n",
    "    from preconditioners import *\n",
    "    P = BlockDiagonal_4x4(dirichl_space1, neumann_space1, dirichl_space2, neumann_space2, blocks, es,ei,em,ks,ki)\n",
    "else:\n",
    "    blocks = bempp.api.BlockedOperator(4,4)   \n",
    "    #Position of the 4x4 matrix.\n",
    "    blocks[0,0] = (0.5*I1d+KLaa)  \n",
    "    blocks[0,1] = -VLaa          \n",
    "    blocks[0,2] = Z1ba           \n",
    "    blocks[0,3] = Z2ba       \n",
    "    \n",
    "    blocks[1,0] = (0.5*I1n-KIaa) \n",
    "    blocks[1,1] = (em/ei)*VIaa   \n",
    "    blocks[1,2] = KIba           \n",
    "    blocks[1,3] = -VIba     \n",
    "    \n",
    "    blocks[2,0] = -KIab          \n",
    "    blocks[2,1] = (em/ei)*VIab   \n",
    "    blocks[2,2] = (0.5*I2d+KIbb) \n",
    "    blocks[2,3] = -VIbb      \n",
    "    \n",
    "    blocks[3,0] = Z1ab           \n",
    "    blocks[3,1] = Z2ab           \n",
    "    blocks[3,2] = (0.5*I2n-KHbb) \n",
    "    blocks[3,3] = (ei/es)*VHbb   "
   ]
  },
  {
   "cell_type": "markdown",
   "metadata": {},
   "source": [
    "Later, we solve the matrix system $Ax=b$ with GMRES together with its respective preconditioning an efficient solution. The solution is then divided into the parts associated with $\\phi_{m}^{\\Gamma_{a}}$, $\\partial_{n}\\phi_{m}^{\\Gamma_{a}}$, $\\phi_{i}^{\\Gamma_{b}}$ and $\\partial_{n}\\phi_{i}^{\\Gamma_{b}}$."
   ]
  },
  {
   "cell_type": "code",
   "execution_count": 10,
   "metadata": {
    "scrolled": true
   },
   "outputs": [
    {
     "name": "stdout",
     "output_type": "stream",
     "text": [
      "Number of GMRES iterations: 49\n",
      "Total time in GMRES: 54.33 [s]\n"
     ]
    }
   ],
   "source": [
    "#Iteration counter.\n",
    "it_count = 0\n",
    "def count_iterations(x):\n",
    "    global it_count\n",
    "    it_count += 1\n",
    "    if (it_count / 100) == (it_count // 100):\n",
    "        print(it_count,x)    \n",
    "        \n",
    "# Solution by GMRES.\n",
    "from scipy.sparse.linalg import gmres\n",
    "if SF==False:\n",
    "    start1 = time.time()\n",
    "    soln, info = gmres(blocked, rhs, M=P, callback=count_iterations,tol=Tol, restart=Res)  \n",
    "    end1 = time.time() \n",
    "else:\n",
    "    start1 = time.time()\n",
    "    soln, info, res, it_count = bempp.api.linalg.gmres(blocks, rhs, return_residuals=True, return_iteration_count=True, use_strong_form=True,tol=Tol, restart=Res)  \n",
    "    end1 = time.time() \n",
    "\n",
    "# Time to solve the equation.\n",
    "curr_time1 = (end1 - start1)\n",
    "print(\"Number of GMRES iterations: {0}\".format(it_count))\n",
    "print(\"Total time in GMRES: {:5.2f} [s]\".format(curr_time1))   "
   ]
  },
  {
   "cell_type": "markdown",
   "metadata": {},
   "source": [
    "Next, we make Bempp functions from the solution of $\\phi_{m}^{\\Gamma}$ and $\\partial_{n}\\phi_{m}^{\\Gamma}$."
   ]
  },
  {
   "cell_type": "code",
   "execution_count": 11,
   "metadata": {},
   "outputs": [],
   "source": [
    "if SF==False:   \n",
    "    soln_u1  = soln[:dirichl_space1.global_dof_count]\n",
    "    soln_du1 = soln[dirichl_space1.global_dof_count : dirichl_space1.global_dof_count + neumann_space1.global_dof_count]\n",
    "    soln_u2  = soln[dirichl_space1.global_dof_count + neumann_space1.global_dof_count : dirichl_space1.global_dof_count + neumann_space1.global_dof_count + dirichl_space2.global_dof_count]\n",
    "    soln_du2 = soln[dirichl_space1.global_dof_count + neumann_space1.global_dof_count + dirichl_space2.global_dof_count:]  \n",
    "    # Solution for Dirichlet data at inner surface.\n",
    "    dirichlet_fun1 = bempp.api.GridFunction(dirichl_space1, coefficients=soln_u1)\n",
    "    # Solution for Neumann data at inner surface.\n",
    "    neumann_fun1 = bempp.api.GridFunction(neumann_space1, coefficients=soln_du1)\n",
    "    # Solution for Dirichlet data at outer surface.\n",
    "    dirichlet_fun2 = bempp.api.GridFunction(dirichl_space2, coefficients=soln_u2)\n",
    "    # Solution for Neumann data at outer surface.\n",
    "    neumann_fun2 = bempp.api.GridFunction(neumann_space2, coefficients=soln_du2)\n",
    "else:\n",
    "    dirichlet_fun1 = soln[0] \n",
    "    neumann_fun1 = soln[1] \n",
    "    dirichlet_fun2 = soln[2] \n",
    "    neumann_fun2 = soln[3]  "
   ]
  },
  {
   "cell_type": "markdown",
   "metadata": {},
   "source": [
    "Finally we calculate the solvation energy for the BEM-BEM-BEM coupling, using the equation of the potential at the position of the solute atoms.\n",
    "\\begin{equation}\n",
    "\\phi_m(x) =V_L\\partial_{n}\\phi_m^{\\Gamma_{a}}(x)-K_L\\phi_m^{\\Gamma_{a}}(x)  \\quad \\quad\n",
    " \\Delta G_{Sol}=\\frac{1}{2}\\sum_{i=1}^{n_{c}}Q_{i}\\phi_{m}(x_i) \n",
    "\\end{equation}   "
   ]
  },
  {
   "cell_type": "code",
   "execution_count": 12,
   "metadata": {
    "scrolled": true
   },
   "outputs": [
    {
     "name": "stdout",
     "output_type": "stream",
     "text": [
      "Solvation Energy: -71.152706 [kCal/mol]\n",
      "Total time: 368.76 [s]\n"
     ]
    }
   ],
   "source": [
    "#Result of the total solvation energy.\n",
    "VF1 = bempp.api.operators.potential.laplace.single_layer(neumann_space1, np.transpose(PC)) \n",
    "KF1 = bempp.api.operators.potential.laplace.double_layer(dirichl_space1, np.transpose(PC))\n",
    "uF = VF1*neumann_fun1 - KF1*dirichlet_fun1 \n",
    "E_Solv = 0.5*4.*np.pi*332.064*np.sum(Q*uF).real \n",
    "print('Solvation Energy: {:7.6f} [kCal/mol]'.format(E_Solv) )\n",
    "\n",
    "#Total time.\n",
    "end = time.time()\n",
    "curr_time = (end - start)\n",
    "print(\"Total time: {:5.2f} [s]\".format(curr_time))"
   ]
  },
  {
   "cell_type": "code",
   "execution_count": null,
   "metadata": {},
   "outputs": [],
   "source": []
  }
 ],
 "metadata": {
  "kernelspec": {
   "display_name": "Python 3",
   "language": "python",
   "name": "python3"
  },
  "language_info": {
   "codemirror_mode": {
    "name": "ipython",
    "version": 3
   },
   "file_extension": ".py",
   "mimetype": "text/x-python",
   "name": "python",
   "nbconvert_exporter": "python",
   "pygments_lexer": "ipython3",
   "version": "3.8.6"
  }
 },
 "nbformat": 4,
 "nbformat_minor": 4
}
