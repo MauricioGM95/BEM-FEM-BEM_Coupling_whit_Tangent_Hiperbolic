{
 "cells": [
  {
   "cell_type": "markdown",
   "metadata": {},
   "source": [
    "# Coupling BEM-FEM-BEM with Cavity."
   ]
  },
  {
   "cell_type": "markdown",
   "metadata": {},
   "source": [
    "To calculate the solvation energy of a solute using the BEM-FEM-BEM with cavity, which is equivalent to the BEM-BEM-FEM-BEM coupling, the following matrix system must be solved, which comes from solving the following PDE, including its border conditions:\n",
    "\\begin{equation} \n",
    "\\left\\{\\begin{matrix} \n",
    "     -\\nabla^{2}\\phi_{s_{0}}(x)+\\kappa_{s}^{2}\\phi_{s_{0}}(x) =0 \\ & x \\ \\in \\ \\Omega_{s_{0}} \\\\ \n",
    "     -\\epsilon_{m}\\nabla^{2} \\phi_{m}(x)=\\sum_{i=1}^{n_{c}}Q_{i}\\delta\\left (x-x_{i} \\right ) & x \\ \\in \\ \\Omega_{m} \\\\\n",
    "     -\\nabla\\cdot(\\epsilon_{i}(x)\\nabla\\phi_{i}(x))+\\bar{\\kappa_{i}}^{2}(x)\\phi_{i}(x)\n",
    "     =0 \\ & x \\ \\in \\ \\Omega_{i} \\\\\n",
    "     -\\nabla^{2}\\phi_{s}(x)+\\kappa_{s}^{2}\\phi_{s}(x)=0 & x \\ \\in \\ \\Omega_{s} \\\\\n",
    "     \\phi_{s_{0}}(x)= \\phi_{m}(x) & x \\ \\in \\ \\Gamma_{c} \\\\\n",
    "     \\epsilon_{s}\\partial_n^c \\phi_{s_{0}}(x)= \\epsilon_{m}\\partial_n^c \\phi_{m}(x) & x \\ \\in \\ \\Gamma_{c} \\\\\n",
    "     \\phi_{m}(x)= \\phi_{i}(x) & x \\ \\in \\ \\Gamma_{a} \\\\\n",
    "     \\epsilon_{m}\\partial_n^a \\phi_{m}(x)= \\epsilon_{i}(x)\\partial_n^a \\phi_{i}(x) & x \\ \\in \\ \\Gamma_{a} \\\\\n",
    "     \\phi_{i}(x)= \\phi_{s}(x) & x \\ \\in \\ \\Gamma_{b} \\\\\n",
    "     \\epsilon_{i}(x)\\partial_n^b \\phi_{i}(x)= \\epsilon_{s}\\partial_n^b \\phi_{s}(x) & x \\ \\in \\ \\Gamma_{b}\n",
    "\\end{matrix}\\right.\n",
    "\\end{equation}"
   ]
  },
  {
   "cell_type": "markdown",
   "metadata": {},
   "source": [
    "Where $\\Omega_{m}$ is the solute domain, $\\Omega_{i}$ is the Stern Layer, $\\Omega_{s}$ is the solvent domain, $\\Omega_{s_0}$ is the cavity domain, $\\Gamma_{a}$ is the inner interface, $\\Gamma_{b}$ is the outer interface and $\\Gamma_{c}$ is the cavity-solute interface. And its matrix system corresponds to:\n",
    "\\begin{equation}\n",
    "\\begin{bmatrix}\n",
    "\\frac{\\epsilon_{m}}{\\epsilon_{s}}V_{H,c}^{c} & \\frac{1}{2}I-K_{H,c}^{c} & 0 & 0 & 0\\\\ \n",
    "-V_{L,c}^{c} & \\frac{1}{2}I+K_{L,c}^{c} & V_{L,a}^{c} & -K_{L,a}^{c} & 0\\\\ \n",
    "-V_{L,c}^{a} & K_{L,c}^{a} & V_{L,a}^{a} & \\frac{1}{2}I-K_{L,a}^{a} & 0\\\\ \n",
    "0 & 0 &-\\epsilon_{m}M_{\\Gamma_{a}} & \\epsilon_{i}(x)A_{\\Omega_{i}}+\\bar{\\kappa_{i}}^{2}(x)M_{\\Omega_{i}} & -\\epsilon_{s}M_{\\Gamma_{b}}\\\\ \n",
    "0 & 0 & 0 & \\frac{1}{2}I-K_{H}^{b} & V_{H}^{b}\n",
    "\\end{bmatrix} \\cdot\n",
    "\\begin{bmatrix}\n",
    "\\partial_n \\phi_{m}^{\\Gamma_{c}}\\\\ \n",
    "\\phi_{m}^{\\Gamma_{c}} \\\\\n",
    "\\partial_n \\phi_{m}^{\\Gamma_{a}}\\\\ \n",
    "\\phi_{i}^{\\Omega_{i}} \\\\\n",
    "\\partial_n \\phi_{s}^{\\Gamma_{b}} \\\\ \n",
    "\\end{bmatrix} =\n",
    "\\begin{bmatrix}\n",
    "0 \\\\\n",
    "\\frac{1}{4\\pi\\epsilon_{m}}\\sum_{n=1}^{n_{c}}\\frac{Q_{i}}{\\left \\|x_{\\Gamma_{c}}-x_{i}\\right \\|} \\\\ \n",
    "\\frac{1}{4\\pi\\epsilon_{m}}\\sum_{n=1}^{n_{c}}\\frac{Q_{i}}{\\left \\|x_{\\Gamma_{a}}-x_{i}\\right \\|} \\\\ \n",
    "0\\\\ \n",
    "0 \\\\\n",
    "\\end{bmatrix}\n",
    "\\end{equation}"
   ]
  },
  {
   "cell_type": "markdown",
   "metadata": {},
   "source": [
    "Where $\\epsilon_i(x)$ and $\\bar{\\kappa_{i}}^{2}(x)$, corresponds to the behavior of the permittivity and the modified Debye-Huckel parameter in the FEM domain in $\\Omega_{i}$, where for this coupling, we have the constant function, the linear function and the hyperbolic tangent.\n",
    "\\begin{equation} \n",
    "\\textbf{Constant}\\left\\{ \n",
    "\\begin{matrix}\n",
    "\\epsilon_i(x)=\\epsilon_i  \\\\ \n",
    "\\bar{\\kappa_{i}}^{2}(x) =\\epsilon_{i}\\kappa_{i}^{2} \\\\\n",
    "\\end{matrix} \\right. \\quad\n",
    "\\textbf{Linear}\\left\\{ \n",
    "\\begin{matrix}\n",
    "\\epsilon_i(x)=\\epsilon_m + (\\epsilon_s -\\epsilon_m )\\alpha(x)  \\\\ \n",
    "\\bar{\\kappa_{i}}^{2}(x) =\\epsilon_{s}\\kappa_{s}^{2}\\alpha(x) \\\\\n",
    "\\end{matrix} \\right. \\quad\n",
    "\\textbf{Hyperbolic Tangent}\\left\\{ \n",
    "\\begin{matrix}\n",
    "S(x,k_{p}) = \\frac{1}{2}-\\frac{1}{2}tanh\\left (k_{p}\\left (\\alpha(x)-\\frac{1}{2} \\right )\\right ) \\\\ \n",
    "\\epsilon_i(x)=S(x,k_{p})\\epsilon_m +(1-S(x ,k_{p}))\\epsilon_s \\\\\n",
    "\\bar{\\kappa_{i}}^{2}(x) = (1-S(x ,k_{p}))\\epsilon_{s}\\kappa_{s}^{2} \n",
    "\\end{matrix} \\right.\n",
    "\\end{equation}"
   ]
  },
  {
   "cell_type": "markdown",
   "metadata": {},
   "source": [
    "And when solving the matrix system, the solvation energy is calculated as:\n",
    "\\begin{equation} \n",
    "    \\Delta G_{Sol}=\\frac{1}{2}\\sum_{i=1}^{n_{c}}Q_{i} \\left ( V_L\\partial_n \\phi_m^{\\Gamma_{c}}(x_{i})-K_L\\phi_m^{\\Gamma_{c}}(x_{i})+K_L\\phi_i^{\\Gamma_{a}}(x_{i}) - V_L\\partial_n \\phi_m^{\\Gamma_{a}}(x_{i})\\right )\n",
    "\\end{equation}   "
   ]
  },
  {
   "cell_type": "markdown",
   "metadata": {},
   "source": [
    "## Implementation"
   ]
  },
  {
   "cell_type": "markdown",
   "metadata": {},
   "source": [
    "First we import the main libraries such as Numpy, Trimesh, Bempp and Dolfin, as well as files in Python to read the solute files, which are in \".pqr\" and \".off\" format."
   ]
  },
  {
   "cell_type": "code",
   "execution_count": 1,
   "metadata": {},
   "outputs": [],
   "source": [
    "import bempp.api\n",
    "import numpy as np \n",
    "import dolfin\n",
    "from readoff import *\n",
    "from readpqr import *\n",
    "import trimesh\n",
    "import time\n",
    "start = time.time()"
   ]
  },
  {
   "cell_type": "markdown",
   "metadata": {},
   "source": [
    "Next, the physical conditions of the problem in each region are defined, such as pemitivity and\n",
    "Debye-Huckel parameter."
   ]
  },
  {
   "cell_type": "code",
   "execution_count": 2,
   "metadata": {},
   "outputs": [],
   "source": [
    "em = 4.           #[-] Interior electrical permittivity of the solute.\n",
    "es = 80.          #[-] Exterior electrical permittivity of the solvent.\n",
    "ks = 0.125        #[1/A] Inverse of the Debey-Huckel length of the fluid in the solvent."
   ]
  },
  {
   "cell_type": "markdown",
   "metadata": {},
   "source": [
    "We choice of variable permittivity method in the intermediate domain, along with other parameters necessary for each function."
   ]
  },
  {
   "cell_type": "code",
   "execution_count": 3,
   "metadata": {},
   "outputs": [],
   "source": [
    "# Variable function.\n",
    "# 'C' if it is Constant.\n",
    "# 'VL' if it is for Linear variable.\n",
    "# 'VTH' if it is by Hyperbolic Tangent variable.\n",
    "Va = 'VTH' \n",
    "\n",
    "#For the case of Hyperbolic Tangent.\n",
    "kp = 'N'         #[-] Transition slope of the Hyperbolic Tangent from 0 to infinity. 'N'for kp tending to infinity.\n",
    "#For the constant.\n",
    "ei = (es+em)/2              #[-] Intermediate electrical permittivity of the intermediate domain.\n",
    "ki = ks*np.sqrt(es/(es+em)) #[1/A] Inverse of the Debey-Huckel length of the fluid in the intermediate domain."
   ]
  },
  {
   "cell_type": "markdown",
   "metadata": {},
   "source": [
    "Later, we choose the solution that we want to use to calculate the energy, where we import the volumetric mesh, the \".pqr\" file to obtain the information on the radii, charges and position of the solute atoms, and a text file to with the alpha values to work with the variable function, if it necessary."
   ]
  },
  {
   "cell_type": "code",
   "execution_count": 4,
   "metadata": {},
   "outputs": [],
   "source": [
    "MeshV = 'Mallas_V/outputTetMeshSphere58R4T11.xml'  #Location of the volumetric mesh of the solute for which the energy is to be calculated. In \"xml\" format.\n",
    "PQR  =  'PQR/Sphere5Q3.pqr'              #Location of the position and charges of the solute for which the energy is to be calculated. In \"pqr\" format.\n",
    "FileA = 'Lista_A/Alfa_Sphere58R4T11.txt' #Location of the solute alpha values file to work with variable permittivities. In \"txt\" format. If not necessary, place ''.\n",
    "Mesh_C = 'Mallas_S/SphereCavityR4.off' #Location of the original mesh with cavities or a mesh with only cavities.\n",
    "PC,Q,R = readpqr(PQR) "
   ]
  },
  {
   "cell_type": "markdown",
   "metadata": {},
   "source": [
    "In addition, we can choose the type of assembly of the edge operators, parameters of the GMRES and the FMM if required."
   ]
  },
  {
   "cell_type": "code",
   "execution_count": 5,
   "metadata": {},
   "outputs": [],
   "source": [
    "#Assembly of border operators.\n",
    "#fmm: For molecules with a greater number of vertices.\n",
    "#default_nonlocal: For molecules with a small number of vertices.    \n",
    "Assemble = 'default_nonlocal' \n",
    "\n",
    "#Important parameters of the GMRES.\n",
    "Tol =1e-6    #GMRES tolerance.\n",
    "Res =100     #Restart of the GMRES in each iteration.\n",
    "\n",
    "#Secondary parameters when working with the fmm assembly.\n",
    "bempp.api.GLOBAL_PARAMETERS.fmm.expansion_order = 5  \n",
    "bempp.api.GLOBAL_PARAMETERS.fmm.ncrit = 400          \n",
    "bempp.api.GLOBAL_PARAMETERS.quadrature.regular = 4  "
   ]
  },
  {
   "cell_type": "markdown",
   "metadata": {},
   "source": [
    "We generate a volumetric mesh with Dolfin. Later, the boundary mesh will be extracted from this."
   ]
  },
  {
   "cell_type": "code",
   "execution_count": 6,
   "metadata": {},
   "outputs": [],
   "source": [
    "from dolfin import Mesh\n",
    "mesh = Mesh(MeshV)  #Creation of the volumetric mesh."
   ]
  },
  {
   "cell_type": "markdown",
   "metadata": {},
   "source": [
    "Next, we generate the surface mesh of the cavity."
   ]
  },
  {
   "cell_type": "code",
   "execution_count": 7,
   "metadata": {},
   "outputs": [
    {
     "name": "stdout",
     "output_type": "stream",
     "text": [
      "Found 1 meshes\n"
     ]
    }
   ],
   "source": [
    "V3,F3 = read_off(Mesh_C) \n",
    "#In case the mesh has small gaps, with trimesh the information of the original mesh without the gaps is obtained.\n",
    "meshSP = trimesh.Trimesh(vertices = V3, faces= F3) \n",
    "mesh_split = meshSP.split()\n",
    "print(\"Found %i meshes\"%len(mesh_split)) \n",
    "\n",
    "if len(mesh_split)>=2:\n",
    "    #Sort surface meshes of the cavities by number of vertices.\n",
    "    LMS = []\n",
    "    for i in range(len(mesh_split)):\n",
    "        LMS.append(len(mesh_split[i].vertices))\n",
    "    IMS = np.argsort(LMS)[::-1]  \n",
    "    #Unite the information from the individual meshes of the cavities into a single surface mesh. \n",
    "    MS = mesh_split[IMS[1]]\n",
    "    if len(mesh_split)>2: \n",
    "        for i in range(len(mesh_split)-2):\n",
    "            MS = MS + mesh_split[IMS[i+2]]\n",
    "    verts3 = MS.vertices \n",
    "    faces3 = MS.faces  \n",
    "elif len(mesh_split)==1:   #Optional cavity mesh if in an '.off' file.\n",
    "    verts3 = mesh_split[0].vertices \n",
    "    faces3 = mesh_split[0].faces \n",
    "grid3 = bempp.api.grid.grid.Grid(verts3.transpose(), faces3.transpose()) #Creation of the surface mesh with cavities.\n",
    "\n",
    "#Generate functional spaces of the potential and its derivative in the cavity.\n",
    "bempp_space0 = bempp.api.function_space(grid3, \"P\", 1)  #Electrostatic potential at the inner interface.\n",
    "bempp_space3 = bempp.api.function_space(grid3, \"P\", 1)  #Derived from the electrostatic potential at the inner interface."
   ]
  },
  {
   "cell_type": "markdown",
   "metadata": {},
   "source": [
    "We make the Bempp function spaces. The function $\\textbf{fenics_to_bempp_trace_data}$ will extract the $\\textbf{trace_space}$ from the Dolfin space and create the matrix $\\textbf{trace_matrix}$, which maps between the dofs (degrees of freedom) in Dolfin and Bempp."
   ]
  },
  {
   "cell_type": "code",
   "execution_count": 8,
   "metadata": {},
   "outputs": [],
   "source": [
    "from bempp.api.external import fenics\n",
    "fenics_space = dolfin.FunctionSpace(mesh, \"CG\", 1)  #Electrostatic potential at the interface and domain of the solute.\n",
    "trace_space, trace_matrix = \\\n",
    "    fenics.fenics_to_bempp_trace_data(fenics_space) #Global trace space to work in BEM and FEM simultaneously."
   ]
  },
  {
   "cell_type": "markdown",
   "metadata": {},
   "source": [
    "Later, we process to separate the $\\textbf{trace_space}$ for the case of the inner surface mesh and the outer surface mesh."
   ]
  },
  {
   "cell_type": "code",
   "execution_count": 9,
   "metadata": {},
   "outputs": [
    {
     "name": "stdout",
     "output_type": "stream",
     "text": [
      "Found 2 meshes\n",
      "FEM dofs: 50529\n",
      "BEM1 dofs: 4591\n",
      "BEM2 dofs: 11924\n",
      "Tra1 dofs: 4591\n",
      "Tra2 dofs: 11924\n",
      "TraL dofs: 16515\n",
      "BEM0 dofs: 180\n",
      "BEM3 dofs: 180\n"
     ]
    }
   ],
   "source": [
    "#Code to identify vertices and faces of the inner and outer mesh.\n",
    "faces_0 = trace_space.grid.elements\n",
    "vertices_0 = trace_space.grid.vertices\n",
    "meshSP = trimesh.Trimesh(vertices = vertices_0.transpose(), faces= faces_0.transpose())\n",
    "mesh_split = meshSP.split()\n",
    "print(\"Found %i meshes\"%len(mesh_split))\n",
    "vertices_Ref = len(mesh_split[0].vertices)\n",
    "faces_Ref = len(mesh_split[0].faces)\n",
    "\n",
    "#Obtaining the inner surface mesh.\n",
    "faces_1 = faces_0.transpose()[:faces_Ref]\n",
    "vertices_1 = vertices_0.transpose()[:vertices_Ref]\n",
    "grid1 = bempp.api.grid.grid.Grid(vertices_1.transpose(), faces_1.transpose())\n",
    "bempp_space1 = bempp.api.function_space(grid1, \"P\", 1) # Derived from the electrostatic potential at the inner interface.\n",
    "trace_space1 = bempp.api.function_space(grid1, \"P\", 1) # Trace space to work at inner BEM and FEM simultaneously.\n",
    "\n",
    "#Obtaining the outer surface mesh.\n",
    "faces_2 = faces_0.transpose()[faces_Ref:]\n",
    "vertices_2 = vertices_0.transpose()[vertices_Ref:]\n",
    "grid2 = bempp.api.grid.grid.Grid(vertices_2.transpose(), (faces_2-len(vertices_1)).transpose())\n",
    "bempp_space2 = bempp.api.function_space(grid2, \"P\", 1) # Derived from the electrostatic potential at the upper interface.\n",
    "trace_space2 = bempp.api.function_space(grid2, \"P\", 1) # Trace space to work at outer BEM and FEM simultaneously.\n",
    "\n",
    "#Element visualization.\n",
    "print(\"FEM dofs: {0}\".format(mesh.num_vertices()))\n",
    "print(\"BEM1 dofs: {0}\".format(bempp_space1.global_dof_count))\n",
    "print(\"BEM2 dofs: {0}\".format(bempp_space2.global_dof_count))\n",
    "print(\"Tra1 dofs: {0}\".format(trace_space1.global_dof_count))\n",
    "print(\"Tra2 dofs: {0}\".format(trace_space2.global_dof_count))\n",
    "print(\"TraL dofs: {0}\".format(trace_space.global_dof_count))\n",
    "print(\"BEM0 dofs: {0}\".format(bempp_space0.global_dof_count))\n",
    "print(\"BEM3 dofs: {0}\".format(bempp_space3.global_dof_count))"
   ]
  },
  {
   "cell_type": "markdown",
   "metadata": {},
   "source": [
    "And, we process to separate the $\\textbf{trace_matrix}$ for the case of the inner surface mesh and the outer surface mesh."
   ]
  },
  {
   "cell_type": "code",
   "execution_count": 10,
   "metadata": {},
   "outputs": [],
   "source": [
    "Nodos = np.zeros(trace_space.global_dof_count)\n",
    "Lista_Vertices = []\n",
    "\n",
    "#Procedure to locate the vertices of the lower trace in the global trace.\n",
    "for i in range(len(trace_space1.grid.vertices.T)):\n",
    "    valores = np.linalg.norm(trace_space1.grid.vertices[:, i] - trace_space.grid.vertices.T,axis= 1)\n",
    "    index = np.argmin(valores)\n",
    "    Lista_Vertices.append(index)\n",
    "    \n",
    "Nodos[Lista_Vertices] = 1\n",
    "trace_matrix1 = trace_matrix[Nodos.astype(bool)]\n",
    "trace_matrix2 = trace_matrix[np.logical_not(Nodos)]"
   ]
  },
  {
   "cell_type": "markdown",
   "metadata": {},
   "source": [
    "We create the boundary operators that we need for each domain. "
   ]
  },
  {
   "cell_type": "code",
   "execution_count": 11,
   "metadata": {},
   "outputs": [],
   "source": [
    "#Identity operators.\n",
    "I3 = bempp.api.operators.boundary.sparse.identity(bempp_space0, bempp_space3, bempp_space3) # 1\n",
    "I0 = bempp.api.operators.boundary.sparse.identity(bempp_space0, bempp_space0, bempp_space0) # 1\n",
    "I1 = bempp.api.operators.boundary.sparse.identity(trace_space1, bempp_space1, bempp_space1) # 1\n",
    "I2 = bempp.api.operators.boundary.sparse.identity(trace_space2, bempp_space2, bempp_space2) # 1\n",
    "\n",
    "#Domain in the cavity in BEM.\n",
    "if ks==0:\n",
    "    V3 = bempp.api.operators.boundary.laplace.single_layer(bempp_space3, bempp_space3, bempp_space3, assembler=Assemble) #V \n",
    "    K3 = bempp.api.operators.boundary.laplace.double_layer(bempp_space0, bempp_space3, bempp_space3, assembler=Assemble) #K \n",
    "else:\n",
    "    V3 = bempp.api.operators.boundary.modified_helmholtz.single_layer(bempp_space3, bempp_space3, bempp_space3, ks, assembler=Assemble) #V\n",
    "    K3 = bempp.api.operators.boundary.modified_helmholtz.double_layer(bempp_space0, bempp_space3, bempp_space3, ks, assembler=Assemble) #K\n",
    "Z3 = bempp.api.ZeroBoundaryOperator(bempp_space1, bempp_space3, bempp_space3) #0\n",
    "Z31 = bempp.api.ZeroBoundaryOperator(trace_space1, bempp_space3, bempp_space3) #0\n",
    "Z32 = bempp.api.ZeroBoundaryOperator(bempp_space2, bempp_space3, bempp_space3) #0\n",
    "\n",
    "#Domain of the solute Ωm in the inner mesh of BEM.\n",
    "V0 = bempp.api.operators.boundary.laplace.single_layer(bempp_space3, bempp_space0, bempp_space0, assembler=Assemble) #V \n",
    "K0 = bempp.api.operators.boundary.laplace.double_layer(bempp_space0, bempp_space0, bempp_space0, assembler=Assemble) #K \n",
    "V01 = bempp.api.operators.boundary.laplace.single_layer(bempp_space1, bempp_space0, bempp_space0, assembler=Assemble) #V \n",
    "K01 = bempp.api.operators.boundary.laplace.double_layer(trace_space1, bempp_space0, bempp_space0, assembler=Assemble) #K \n",
    "Z0 = bempp.api.ZeroBoundaryOperator(bempp_space2, bempp_space0, bempp_space0) #0\n",
    "\n",
    "#Domain of the solute Ωm in the outer mesh of BEM.\n",
    "V10 = bempp.api.operators.boundary.laplace.single_layer(bempp_space3, bempp_space1, bempp_space1, assembler=Assemble) #V \n",
    "K10 = bempp.api.operators.boundary.laplace.double_layer(bempp_space0, bempp_space1, bempp_space1, assembler=Assemble) #K \n",
    "V1 = bempp.api.operators.boundary.laplace.single_layer(bempp_space1, bempp_space1, bempp_space1, assembler=Assemble) #V\n",
    "K1 = bempp.api.operators.boundary.laplace.double_layer(trace_space1, bempp_space1, bempp_space1, assembler=Assemble) #K\n",
    "Z1 = bempp.api.ZeroBoundaryOperator(bempp_space2, bempp_space1, bempp_space1) #0\n",
    "\n",
    "#Intermediate domain in FEM.\n",
    "ZF1 = bempp.api.ZeroBoundaryOperator(bempp_space3, trace_space1, trace_space1) #0\n",
    "ZF0 = bempp.api.ZeroBoundaryOperator(bempp_space0, trace_space1, trace_space1) #0\n",
    "mass1 = bempp.api.operators.boundary.sparse.identity(bempp_space1, trace_space1, trace_space1) # 1\n",
    "mass2 = bempp.api.operators.boundary.sparse.identity(bempp_space2, trace_space2, trace_space2) # 1\n",
    "\n",
    "#Domain of the solvent Ωs in BEM.\n",
    "Z22 = bempp.api.ZeroBoundaryOperator(bempp_space3, bempp_space2, bempp_space2) #0\n",
    "Z21 = bempp.api.ZeroBoundaryOperator(bempp_space0, bempp_space2, bempp_space2) #0\n",
    "Z2 = bempp.api.ZeroBoundaryOperator(bempp_space1, bempp_space2, bempp_space2) #0\n",
    "if ks==0:\n",
    "    K2 = bempp.api.operators.boundary.laplace.double_layer(trace_space2, bempp_space2, bempp_space2, assembler=Assemble) #K\n",
    "    V2 = bempp.api.operators.boundary.laplace.single_layer(bempp_space2, bempp_space2, bempp_space2, assembler=Assemble) #V  \n",
    "else:\n",
    "    K2 = bempp.api.operators.boundary.modified_helmholtz.double_layer(trace_space2, bempp_space2, bempp_space2, ks, assembler=Assemble) #K\n",
    "    V2 = bempp.api.operators.boundary.modified_helmholtz.single_layer(bempp_space2, bempp_space2, bempp_space2, ks, assembler=Assemble) #V"
   ]
  },
  {
   "cell_type": "markdown",
   "metadata": {},
   "source": [
    "Aditionaly, we create the Dolfin function spaces."
   ]
  },
  {
   "cell_type": "code",
   "execution_count": 12,
   "metadata": {},
   "outputs": [],
   "source": [
    "u = dolfin.TrialFunction(fenics_space)\n",
    "v = dolfin.TestFunction(fenics_space)"
   ]
  },
  {
   "cell_type": "markdown",
   "metadata": {},
   "source": [
    "Then, we create the different variable functions of the intermediate domain for the BEM-FEM-BEM coupling with cavity, such as the constant, the linear and the hyperbolic tangent.\n",
    "\\begin{equation} \n",
    "\\textbf{Constant}\\left\\{ \n",
    "\\begin{matrix}\n",
    "\\epsilon_i(x)=\\epsilon_i  \\\\ \n",
    "\\bar{\\kappa_{i}}^{2}(x) =\\epsilon_{i}\\kappa_{i}^{2} \\\\\n",
    "\\end{matrix} \\right. \\quad\n",
    "\\textbf{Linear}\\left\\{ \n",
    "\\begin{matrix}\n",
    "\\epsilon_i(x)=\\epsilon_m + (\\epsilon_s -\\epsilon_m )\\alpha(x)  \\\\ \n",
    "\\bar{\\kappa_{i}}^{2}(x) =\\epsilon_{s}\\kappa_{s}^{2}\\alpha(x) \\\\\n",
    "\\end{matrix} \\right. \\quad\n",
    "\\textbf{Hyperbolic Tangent}\\left\\{ \n",
    "\\begin{matrix}\n",
    "S(x,k_{p}) = \\frac{1}{2}-\\frac{1}{2}tanh\\left (k_{p}\\left (\\alpha(x)-\\frac{1}{2} \\right )\\right ) \\\\ \n",
    "\\epsilon_i(x)=S(x,k_{p})\\epsilon_m +(1-S(x ,k_{p}))\\epsilon_s \\\\\n",
    "\\bar{\\kappa_{i}}^{2}(x) = (1-S(x ,k_{p}))\\epsilon_{s}\\kappa_{s}^{2} \n",
    "\\end{matrix} \\right.\n",
    "\\end{equation}"
   ]
  },
  {
   "cell_type": "code",
   "execution_count": 13,
   "metadata": {},
   "outputs": [],
   "source": [
    "#Definition of the variable functions of the intermediate domain.\n",
    "def Lista_Alfa(File): #Function to obtain the alpha parameter of the text and save it in a list.\n",
    "    L_Alfa = []\n",
    "    with open(File,\"r\") as f:  \n",
    "        lines = f.readlines()\n",
    "    for line in lines:\n",
    "        line = line.split()\n",
    "        L_Alfa.append(float(line[0]))\n",
    "    return L_Alfa\n",
    "\n",
    "#Case ei by variable by Hyperbolic Tangent. \n",
    "class Fun_ei_Tangente_Hiperbolica(dolfin.UserExpression):  \n",
    "    def __init__(self,kp,L_Alfa,**kwargs):\n",
    "        super().__init__(**kwargs)\n",
    "    def eval_cell(self, v, x, ufc_cell):\n",
    "        alfa = L_Alfa[ufc_cell.index]\n",
    "        if kp=='N':  #Optional for the Hyperbolic Tangent function with kp equal to infinity.\n",
    "            if alfa<0.5:\n",
    "                v[0] = 1\n",
    "            else:\n",
    "                v[0] = 0        \n",
    "        else:\n",
    "            v[0] = 0.5-0.5*np.tanh(kp*(alfa-0.5)) #Hyperbolic tangent function for kp other than infinity.         \n",
    "    def value_shape(self):\n",
    "        return ()  \n",
    "\n",
    "#Case ei for Linear variable.\n",
    "class Fun_ei_Lineal(dolfin.UserExpression):  \n",
    "    def __init__(self,L_Alfa,**kwargs):\n",
    "        super().__init__(**kwargs)\n",
    "    def eval_cell(self, v, x, ufc_cell):\n",
    "        v[0] = L_Alfa[ufc_cell.index]  #The calculated alpha corresponds to the same linear interpolation between the two surface meshes.\n",
    "    def value_shape(self):\n",
    "        return ()  \n",
    "\n",
    "if Va=='C':  #Constant Case.\n",
    "    EI = ei\n",
    "    K  = EI*ki**2\n",
    "elif Va=='VL':  #Linear variable case.\n",
    "    L_Alfa = Lista_Alfa(FileA) \n",
    "    S = Fun_ei_Lineal(L_Alfa,degree=0)\n",
    "    EI = em+(es-em)*S \n",
    "    K  = S*(es*ks**2)\n",
    "elif Va=='VTH': #Case of variable by Hyperbolic Tangent.\n",
    "    L_Alfa = Lista_Alfa(FileA) \n",
    "    S = Fun_ei_Tangente_Hiperbolica(kp,L_Alfa,degree=0)\n",
    "    EI = es+(em-es)*S\n",
    "    K = (1-S)*(es*ks**2)"
   ]
  },
  {
   "cell_type": "markdown",
   "metadata": {},
   "source": [
    "Later, we create the Coulomb potential function $\\phi_{c}^{\\Gamma}$ and with that, we construct the vector right head side $b$ of formulation.\n",
    "\\begin{equation}\n",
    "\\phi_{c}^{\\Gamma} =\\frac{1}{4\\pi\\epsilon_{m}}\\sum_{n=1}^{n_{c}}\\frac{Q_{i}}{\\left \\|x_{\\Gamma}-x_{i}\\right \\|} \\quad \\quad\n",
    "b=\\begin{bmatrix}\n",
    "0 \\\\\n",
    "\\phi_{c}^{\\Gamma_{c}} \\\\\n",
    "\\phi_{c}^{\\Gamma_{a}} \\\\\n",
    "0 \\\\\n",
    "0 \\\\\n",
    "\\end{bmatrix}\n",
    "\\end{equation}"
   ]
  },
  {
   "cell_type": "code",
   "execution_count": 14,
   "metadata": {
    "scrolled": true
   },
   "outputs": [],
   "source": [
    "@bempp.api.complex_callable(jit=False)\n",
    "def U_c(x, n, domain_index, result):\n",
    "    global Q,PC,em\n",
    "    result[:] = (1 / (4.*np.pi*em))  * np.sum( Q / np.linalg.norm( x - PC, axis=1))\n",
    "Uc0 = bempp.api.GridFunction(bempp_space0, fun=U_c)\n",
    "Uc1 = bempp.api.GridFunction(bempp_space1, fun=U_c)\n",
    "\n",
    "# Rhs in Ωs0 cavity in BEM.\n",
    "rhs_bem3 = np.zeros(bempp_space3.global_dof_count) \n",
    "# Rhs in Ωm inner mesh in BEM.\n",
    "rhs_bem0 = (Uc0).projections(bempp_space0)\n",
    "# Rhs in Ωm outer mesh in BEM.\n",
    "rhs_bem1 = (Uc1).projections(bempp_space1)\n",
    "# Rhs in Ωi in FEM.\n",
    "rhs_fem =  np.zeros(mesh.num_vertices()) \n",
    "# Rhs in Ωs in BEM.\n",
    "rhs_bem2 = np.zeros(bempp_space2.global_dof_count) \n",
    "# The combination of rhs.\n",
    "rhs = np.concatenate([rhs_bem3, rhs_bem0, rhs_bem1, rhs_fem, rhs_bem2])"
   ]
  },
  {
   "cell_type": "markdown",
   "metadata": {},
   "source": [
    "And we construct the global left 5x5 matrix $A$ of the formulation.   \n",
    "\\begin{equation}\n",
    "A=\\begin{bmatrix}\n",
    "\\frac{\\epsilon_{m}}{\\epsilon_{s}}V_{H,c}^{c} & \\frac{1}{2}I-K_{H,c}^{c} & 0 & 0 & 0\\\\ \n",
    "-V_{L,c}^{c} & \\frac{1}{2}I+K_{L,c}^{c} & V_{L,a}^{c} & -K_{L,a}^{c} & 0\\\\ \n",
    "-V_{L,c}^{a} & K_{L,c}^{a} & V_{L,a}^{a} & \\frac{1}{2}I-K_{L,a}^{a} & 0\\\\ \n",
    "0 & 0 &-\\epsilon_{m}M_{\\Gamma_{a}} & \\epsilon_{i}(x)A_{\\Omega_{i}}+\\bar{\\kappa_{i}}^{2}(x)M_{\\Omega_{i}} & -\\epsilon_{s}M_{\\Gamma_{b}}\\\\ \n",
    "0 & 0 & 0 & \\frac{1}{2}I-K_{H}^{b} & V_{H}^{b}\n",
    "\\end{bmatrix}\n",
    "\\end{equation}"
   ]
  },
  {
   "cell_type": "code",
   "execution_count": 15,
   "metadata": {},
   "outputs": [],
   "source": [
    "from bempp.api.external.fenics import FenicsOperator\n",
    "from scipy.sparse.linalg import LinearOperator\n",
    "from bempp.api.assembly.blocked_operator import BlockedDiscreteOperator\n",
    "blocks = [[None,None,None,None,None],[None,None,None,None,None],[None,None,None,None,None],[None,None,None,None,None],[None,None,None,None,None]]\n",
    "\n",
    "trace_op1 = LinearOperator(trace_matrix1.shape, lambda x:trace_matrix1*x)\n",
    "trace_op2 = LinearOperator(trace_matrix2.shape, lambda x:trace_matrix2*x)\n",
    "A = FenicsOperator((EI*dolfin.inner(dolfin.nabla_grad(u),dolfin.nabla_grad(v))+ K*u*v) * dolfin.dx)\n",
    "\n",
    "#Position of the 5x5 matrix.\n",
    "blocks[0][0] = V3.weak_form()*(em/es)                 \n",
    "blocks[0][1] = (0.5*I3-K3).weak_form()                \n",
    "blocks[0][2] = Z3.weak_form()                         \n",
    "blocks[0][3] = Z31.weak_form()*trace_op1              \n",
    "blocks[0][4] = Z32.weak_form()                        \n",
    "\n",
    "blocks[1][0] = -V0.weak_form()                       \n",
    "blocks[1][1] = (0.5*I0+K0).weak_form()               \n",
    "blocks[1][2] = V01.weak_form()                      \n",
    "blocks[1][3] = -K01.weak_form()*trace_op1            \n",
    "blocks[1][4] = Z0.weak_form()                        \n",
    "\n",
    "blocks[2][0] = -V10.weak_form()                     \n",
    "blocks[2][1] = K10.weak_form()                      \n",
    "blocks[2][2] = V1.weak_form()                       \n",
    "blocks[2][3] = (0.5*I1-K1).weak_form()*trace_op1    \n",
    "blocks[2][4] = Z1.weak_form()                       \n",
    "\n",
    "blocks[3][0] = trace_matrix1.T*ZF1.weak_form().A               \n",
    "blocks[3][1] = trace_matrix1.T*ZF0.weak_form().A               \n",
    "blocks[3][2] = -trace_matrix1.T *em*mass1.weak_form().A        \n",
    "blocks[3][3] =  A.weak_form()                                  \n",
    "blocks[3][4] = -trace_matrix2.T *es*mass2.weak_form().A        \n",
    "\n",
    "blocks[4][0] = Z22.weak_form()                         \n",
    "blocks[4][1] = Z21.weak_form()                         \n",
    "blocks[4][2] = Z2.weak_form()                          \n",
    "blocks[4][3] = (0.5*I2-K2).weak_form()*trace_op2       \n",
    "blocks[4][4] = V2.weak_form()                          \n",
    "blocked = bempp.api.assembly.blocked_operator.BlockedDiscreteOperator(np.array(blocks))  "
   ]
  },
  {
   "cell_type": "markdown",
   "metadata": {},
   "source": [
    "For BEM-FEM-BEM coupling with cavity, we constructed the respective Mass Matrix preconditioner."
   ]
  },
  {
   "cell_type": "code",
   "execution_count": 16,
   "metadata": {},
   "outputs": [
    {
     "name": "stderr",
     "output_type": "stream",
     "text": [
      "/home/mauricioguerrero/Software/miniconda3/envs/bempp_prod/lib/python3.8/site-packages/scipy/sparse/linalg/dsolve/linsolve.py:318: SparseEfficiencyWarning: splu requires CSC matrix format\n",
      "  warn('splu requires CSC matrix format', SparseEfficiencyWarning)\n"
     ]
    }
   ],
   "source": [
    "from bempp.api.assembly.discrete_boundary_operator import InverseSparseDiscreteBoundaryOperator\n",
    "from scipy.sparse.linalg import LinearOperator\n",
    "from scipy.sparse import diags\n",
    "\n",
    "P1 = InverseSparseDiscreteBoundaryOperator(\n",
    "    bempp.api.operators.boundary.sparse.identity(\n",
    "        bempp_space3, bempp_space3, bempp_space3).weak_form())\n",
    "\n",
    "P2 = InverseSparseDiscreteBoundaryOperator(\n",
    "    bempp.api.operators.boundary.sparse.identity(\n",
    "        bempp_space0, bempp_space0, bempp_space0).weak_form())\n",
    "\n",
    "P3 = InverseSparseDiscreteBoundaryOperator(\n",
    "    bempp.api.operators.boundary.sparse.identity(\n",
    "        bempp_space1, bempp_space1, bempp_space1).weak_form())\n",
    "    \n",
    "P4 = diags(1./(blocked[3,3].A).diagonal())\n",
    "    \n",
    "P5 = InverseSparseDiscreteBoundaryOperator(\n",
    "    bempp.api.operators.boundary.sparse.identity(\n",
    "        bempp_space2, bempp_space2, bempp_space2).weak_form())\n",
    "\n",
    "def apply_prec(x):\n",
    "    \"\"\"Apply the block diagonal preconditioner\"\"\"\n",
    "    m1 = P1.shape[0]\n",
    "    m2 = P2.shape[0]\n",
    "    m3 = P3.shape[0]\n",
    "    m4 = P4.shape[0]\n",
    "    m5 = P5.shape[0]\n",
    "    n1 = P1.shape[1]\n",
    "    n2 = P2.shape[1]\n",
    "    n3 = P3.shape[1]\n",
    "    n4 = P4.shape[1]\n",
    "    n5 = P5.shape[1]\n",
    " \n",
    "    res1 = P1.dot(x[:n1])\n",
    "    res2 = P2.dot(x[n1: n1+n2])\n",
    "    res3 = P3.dot(x[n1+n2:  n1+n2+n3])\n",
    "    res4 = P4.dot(x[n1+n2+n3: n1+n2+n3+n4])\n",
    "    res5 = P5.dot(x[n1+n2+n3+n4:])\n",
    "    return np.concatenate([res1, res2, res3, res4, res5])\n",
    "\n",
    "p_shape = (P1.shape[0] + P2.shape[0] + P3.shape[0]+ P4.shape[0] + P5.shape[0], P1.shape[1] + P2.shape[1] + P3.shape[1]+ P4.shape[1] + P5.shape[1])\n",
    "P = LinearOperator(p_shape, apply_prec, dtype=np.dtype('complex128'))"
   ]
  },
  {
   "cell_type": "markdown",
   "metadata": {},
   "source": [
    "Later, we solve the matrix system $Ax=b$ with GMRES together with its respective preconditioning an efficient solution. The solution is then divided into the parts associated with  $\\partial_{n}\\phi_{m}^{\\Gamma_{c}}$, $\\phi_{m}^{\\Gamma_{c}}$, $\\partial_{n}\\phi_{m}^{\\Gamma_{a}}$, $\\phi_{i}^{\\Omega_{i}}$ and $\\partial_{n}\\phi_{s}^{\\Gamma_{b}}$."
   ]
  },
  {
   "cell_type": "code",
   "execution_count": 17,
   "metadata": {
    "scrolled": false
   },
   "outputs": [
    {
     "name": "stdout",
     "output_type": "stream",
     "text": [
      "100 2.4061209299062574e-05\n",
      "200 1.0723059118213043e-07\n",
      "Number of GMRES iterations: 258\n",
      "Total time in GMRES: 92.63 [s]\n"
     ]
    }
   ],
   "source": [
    "#Iteration counter.\n",
    "it_count = 0\n",
    "def count_iterations(x):\n",
    "    global it_count\n",
    "    it_count += 1\n",
    "    if (it_count / 100) == (it_count // 100):\n",
    "        print(it_count,x)\n",
    "\n",
    "# Solution by GMRES.\n",
    "from scipy.sparse.linalg import gmres\n",
    "start1 = time.time()\n",
    "soln, info = gmres(blocked, rhs, M=P, callback=count_iterations,tol=Tol, restart=Res) \n",
    "end1 = time.time() \n",
    "\n",
    "# Time to solve the equation.\n",
    "curr_time1 = (end1 - start1)\n",
    "print(\"Number of GMRES iterations: {0}\".format(it_count))\n",
    "print(\"Total time in GMRES: {:5.2f} [s]\".format(curr_time1))  "
   ]
  },
  {
   "cell_type": "markdown",
   "metadata": {},
   "source": [
    "Next, we make Bempp and Dolfin functions from the solution of $\\partial_{n}\\phi_{m}^{\\Gamma_{c}}$, $\\phi_{m}^{\\Gamma_{c}}$, $\\partial_{n}\\phi_{m}^{\\Gamma_{a}}$ and $\\phi_{i}^{\\Omega_{i}}$, including the transformation from $\\phi_{i}^{\\Omega_{i}}$ to $\\phi_{i}^{\\Gamma_{a}}$."
   ]
  },
  {
   "cell_type": "code",
   "execution_count": 18,
   "metadata": {},
   "outputs": [],
   "source": [
    "soln_bem3 = soln[:bempp_space3.global_dof_count]\n",
    "soln_bem0 = soln[bempp_space3.global_dof_count : bempp_space3.global_dof_count + bempp_space0.global_dof_count]\n",
    "soln_bem1 = soln[bempp_space3.global_dof_count + bempp_space0.global_dof_count : bempp_space3.global_dof_count + bempp_space0.global_dof_count + bempp_space1.global_dof_count]\n",
    "soln_fem  = soln[bempp_space3.global_dof_count + bempp_space0.global_dof_count + bempp_space1.global_dof_count : bempp_space3.global_dof_count + bempp_space0.global_dof_count + bempp_space1.global_dof_count + mesh.num_vertices()]\n",
    "soln_bem2 = soln[bempp_space3.global_dof_count + bempp_space0.global_dof_count + bempp_space1.global_dof_count + mesh.num_vertices():]\n",
    "\n",
    "# Calculate the solution of the real potential in the FEM domain in the intermediate region.\n",
    "u = dolfin.Function(fenics_space)\n",
    "u.vector()[:] = np.ascontiguousarray(np.real(soln_fem)) \n",
    "\n",
    "# Solution for Dirichlet data in the inner interface.\n",
    "dirichlet_data1 = trace_matrix1 * soln_fem\n",
    "dirichlet_fun1 = bempp.api.GridFunction(trace_space1, coefficients=dirichlet_data1)\n",
    "# Solution for Neumann data in the inner interface.\n",
    "neumann_fun1 = bempp.api.GridFunction(bempp_space1, coefficients=soln_bem1)\n",
    "\n",
    "# Solution for Dirichlet data in the outer interface.\n",
    "dirichlet_data2 = trace_matrix2 * soln_fem\n",
    "dirichlet_fun2 = bempp.api.GridFunction(trace_space2, coefficients=dirichlet_data2)\n",
    "# Solution for Neumann data in the outer interface.\n",
    "neumann_fun2 = bempp.api.GridFunction(bempp_space2, coefficients=soln_bem2)\n",
    "\n",
    "# Solution for Dirichlet data in the cavity.\n",
    "dirichlet_fun0 = bempp.api.GridFunction(bempp_space0, coefficients=soln_bem0)\n",
    "# Solution for Neumann data in the cavity.\n",
    "neumann_fun0 = bempp.api.GridFunction(bempp_space3, coefficients=soln_bem3)"
   ]
  },
  {
   "cell_type": "markdown",
   "metadata": {},
   "source": [
    "Finally we calculate the solvation energy for the BEM-FEM-BEM coupling with cavity, using the equation of the potential at the position of the solute atoms.\n",
    "\\begin{equation}\n",
    "\\phi_m(x) =V_L\\partial_n \\phi_m^{\\Gamma_{c}}(x)-K_L\\phi_m^{\\Gamma_{c}}(x)+K_L\\phi_i^{\\Gamma_{a}}(x) - V_L\\partial_n \\phi_m^{\\Gamma_{a}}(x)  \\quad \\quad\n",
    " \\Delta G_{Sol}=\\frac{1}{2}\\sum_{i=1}^{n_{c}}Q_{i}\\phi_{m}(x_i) \n",
    "\\end{equation} "
   ]
  },
  {
   "cell_type": "code",
   "execution_count": 19,
   "metadata": {
    "scrolled": true
   },
   "outputs": [
    {
     "name": "stdout",
     "output_type": "stream",
     "text": [
      "Solvation Energy: -92.515857 [kCal/mol]\n",
      "Total time: 185.54 [s]\n"
     ]
    }
   ],
   "source": [
    "#Result of the total solvation energy.\n",
    "VF0 = bempp.api.operators.potential.laplace.single_layer(bempp_space3, np.transpose(PC)) \n",
    "KF0 = bempp.api.operators.potential.laplace.double_layer(bempp_space0, np.transpose(PC))\n",
    "VF1 = bempp.api.operators.potential.laplace.single_layer(bempp_space1, np.transpose(PC)) \n",
    "KF1 = bempp.api.operators.potential.laplace.double_layer(trace_space1, np.transpose(PC))\n",
    "uF = VF0*neumann_fun0 - KF0*dirichlet_fun0 + KF1*dirichlet_fun1 - VF1*neumann_fun1 \n",
    "E_Solv = 0.5*4.*np.pi*332.064*np.sum(Q*uF).real \n",
    "print('Solvation Energy: {:7.6f} [kCal/mol]'.format(E_Solv) )\n",
    "\n",
    "#Total time.\n",
    "end = time.time()\n",
    "curr_time = (end - start)\n",
    "print(\"Total time: {:5.2f} [s]\".format(curr_time))"
   ]
  },
  {
   "cell_type": "code",
   "execution_count": null,
   "metadata": {},
   "outputs": [],
   "source": []
  }
 ],
 "metadata": {
  "kernelspec": {
   "display_name": "Python 3",
   "language": "python",
   "name": "python3"
  },
  "language_info": {
   "codemirror_mode": {
    "name": "ipython",
    "version": 3
   },
   "file_extension": ".py",
   "mimetype": "text/x-python",
   "name": "python",
   "nbconvert_exporter": "python",
   "pygments_lexer": "ipython3",
   "version": "3.8.6"
  }
 },
 "nbformat": 4,
 "nbformat_minor": 4
}
