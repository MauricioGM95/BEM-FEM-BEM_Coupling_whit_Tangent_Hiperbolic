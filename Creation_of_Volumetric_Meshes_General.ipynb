{
 "cells": [
  {
   "cell_type": "markdown",
   "metadata": {},
   "source": [
    "# Creation of volumetric meshes in .xml format"
   ]
  },
  {
   "cell_type": "markdown",
   "metadata": {},
   "source": [
    "First we import the main libraries such as Numpy, and we call the .py files to create the .xml files."
   ]
  },
  {
   "cell_type": "code",
   "execution_count": null,
   "metadata": {},
   "outputs": [],
   "source": [
    "import numpy as np \n",
    "import time\n",
    "from Codigos_Adicionales import *\n",
    "from Codigos_BEM_y_FEM_Generalizadas import *"
   ]
  },
  {
   "cell_type": "markdown",
   "metadata": {},
   "source": [
    "### Creation of the .xml file of the sphere in general"
   ]
  },
  {
   "cell_type": "code",
   "execution_count": null,
   "metadata": {},
   "outputs": [],
   "source": [
    "#Code to generate volumetric meshes.\n",
    "LG = ['R0','R1','R2','R3','R4']\n",
    "LG1 = ['','T11']\n",
    "LG2 = ['2M','3M']\n",
    "\n",
    "start = time.time()\n",
    "f1=open(\"Informacion_Mallas_Volumetricas_Esfera.txt\",\"w\")\n",
    "for i in range(len(LG)): \n",
    "    file0 = LG[i] \n",
    "    F1 = 'Sphere5'+file0 +'.off'  #Inner mesh\n",
    "    F2 = 'Sphere65'+file0 +'.off' #Outer mesh\n",
    "    F3 = 'Sphere8'+file0 +'.off'  #Intermediate mesh (optional)\n",
    "    Tm = 1.1  #Minimum characteristic length of the tetrahedron\n",
    "    FS = 'Sphere/Mallas_S/'  #Path where the surface mesh is\n",
    "    FSV = 'Sphere/Mallas_V/' #Path to save the volumetric mesh\n",
    "    Vol = ''  #Maximum volume for the tetrahedron.\n",
    "    for j in range(len(LG1)):\n",
    "        ff = LG1[j] \n",
    "        F = LG2[j]  #Mesh creation model\n",
    "        file1 ='Sphere58'+file0+ff  #File name   \n",
    "        V0,L = MallaVolumetrica(file1,F1,F2,F3,F,Tm,Vol,FS,FSV) \n",
    "        f1.write(file0+\" \"+str(V0)+\" \"+str(L)+ \"\\n\")\n",
    "f1.close()\n",
    "end = time.time()\n",
    "curr_time = (end - start)   \n",
    "print(\"Total program time: {:5.2f} [s]\".format(curr_time))"
   ]
  },
  {
   "cell_type": "markdown",
   "metadata": {},
   "source": [
    "### Creation of the .xml file of the FreeSolv Database"
   ]
  },
  {
   "cell_type": "code",
   "execution_count": null,
   "metadata": {},
   "outputs": [],
   "source": [
    "#Reading the text file.\n",
    "LG = []\n",
    "with open(\"Moleculas_Mobley.txt\",\"r\") as f:\n",
    "    lines = f.readlines()\n",
    "for line in lines:\n",
    "    line = line.split()\n",
    "    LG.append(line[0])\n",
    "print(LG)\n",
    "\n",
    "#Code to generate volumetric meshes.\n",
    "start = time.time()\n",
    "f1=open(\"Informacion_Mallas_Volumetricas_Mobley_D8.txt\",\"w\")\n",
    "for i in range(len(LG)): \n",
    "    file0 = LG[i] \n",
    "    file1 =file0 +'D8' #File name  \n",
    "    F1 = file0 +'D8.off' #Inner mesh\n",
    "    F2 = file0 +'R3D8.off'  #Outer mesh\n",
    "    F3 = file0 +'R15D8.off' #Intermediate mesh (optional)\n",
    "    F = '3M' #Mesh creation model\n",
    "    Tm = 1.1 #Minimum characteristic length of the tetrahedron\n",
    "    FS = 'Mobley/Mallas_S/'  #Path where the surface mesh is\n",
    "    FSV = 'Mobley/Mallas_V/' #Path to save the volumetric mesh\n",
    "    Vol = ''  #Maximum volume for the tetrahedron.\n",
    "    print(i,file1) \n",
    "    V0,L = MallaVolumetrica(file1,F1,F2,F3,F,Tm,Vol,FS,FSV) \n",
    "    f1.write(file0+\" \"+str(V0)+\" \"+str(L)+ \"\\n\")\n",
    "f1.close()\n",
    "end = time.time()\n",
    "curr_time = (end - start)   \n",
    "print(\"Total program time: {:5.2f} [s]\".format(curr_time))"
   ]
  },
  {
   "cell_type": "markdown",
   "metadata": {},
   "source": [
    "### Creation of the .xml file of the complex and proteins for 1EMV, 1BRS, 1JTG, 1BEB and 1A3N"
   ]
  },
  {
   "cell_type": "code",
   "execution_count": null,
   "metadata": {},
   "outputs": [],
   "source": [
    "#Reading the text file.\n",
    "TG0 = ['1emvAmber','1brsAmber','1jtgAmber','1bebAmber','1a3nAmber']\n",
    "TG1 = ['','P1','P2']\n",
    "LG = []\n",
    "for i in range(len(TG0)):\n",
    "    for j in range(len(TG1)):\n",
    "        LG.append(TG0[i]+TG1[j])  \n",
    "\n",
    "#Code to generate volumetric meshes.         \n",
    "start = time.time()\n",
    "f1=open(\"Informacion_Mallas_Volumetricas_Moleculas_de_Union_1.txt\",\"w\")\n",
    "for i in range(len(LG)): \n",
    "    file0 = LG[i] \n",
    "    file1 =file0 +'D8' #File name   \n",
    "    F1 = file0 +'D8.off' #Inner mesh\n",
    "    F2 = file0 +'R3D8.off' #Outer mesh\n",
    "    F3 = file0 +'R15D8.off' #Intermediate mesh (optional)\n",
    "    F = '3M' #Mesh creation model\n",
    "    Tm = 1.2 #Minimum characteristic length of the tetrahedron\n",
    "    FS = 'Binding_Energy/Mallas_S/'  #Path where the surface mesh is\n",
    "    FSV = 'Binding_Energy/Mallas_V/' #Path to save the volumetric mesh\n",
    "    Vol = ''  #Volumen maximo para el tetrahedro.\n",
    "    print(i,file1) \n",
    "    V0,L = MallaVolumetrica(file1,F1,F2,F3,F,Tm,Vol,FS,FSV) \n",
    "    f1.write(file0+\" \"+str(V0)+\" \"+str(L)+ \"\\n\")\n",
    "f1.close()\n",
    "end = time.time()\n",
    "curr_time = (end - start)   \n",
    "print(\"Total program time: {:5.2f} [s]\".format(curr_time))"
   ]
  },
  {
   "cell_type": "markdown",
   "metadata": {},
   "source": [
    "### Creation of the .xml file of the complex, ligand and protein for 1BBZ and 1SE0"
   ]
  },
  {
   "cell_type": "code",
   "execution_count": null,
   "metadata": {},
   "outputs": [],
   "source": [
    "#Reading the text file.\n",
    "LG = ['L1SE0','1SE0','1SE0-L','L1BBZ','1BBZ','1BBZ-L']\n",
    "\n",
    "#Code to generate volumetric meshes. \n",
    "start = time.time()\n",
    "f1=open(\"Informacion_Mallas_Volumetricas_Moleculas_de_Union_2.txt\",\"w\")\n",
    "for i in range(len(LG)): \n",
    "    file0 = LG[i] \n",
    "    file1 =file0 +'D8' #File name  \n",
    "    F1 = file0 +'D8.off' #Inner mesh\n",
    "    F2 = file0 +'R3D8.off' #Outer mesh\n",
    "    F3 = file0 +'R15D8.off' #Intermediate mesh (optional)\n",
    "    F = '3M' #Mesh creation model\n",
    "    Tm = 1.2 #Minimum characteristic length of the tetrahedron\n",
    "    FS = 'Binding_Energy/Mallas_S2/'  #Path where the surface mesh is\n",
    "    FSV = 'Binding_Energy/Mallas_V2/' #Path to save the volumetric mesh\n",
    "    Vol = ''  #Maximum volume for the tetrahedron.\n",
    "    print(i,file1) \n",
    "    V0,L = MallaVolumetrica(file1,F1,F2,F3,F,Tm,Vol,FS,FSV) \n",
    "    f1.write(file0+\" \"+str(V0)+\" \"+str(L)+ \"\\n\")\n",
    "f1.close()\n",
    "end = time.time()\n",
    "curr_time = (end - start)   \n",
    "print(\"Total program time: {:5.2f} [s]\".format(curr_time))"
   ]
  },
  {
   "cell_type": "code",
   "execution_count": null,
   "metadata": {},
   "outputs": [],
   "source": []
  }
 ],
 "metadata": {
  "kernelspec": {
   "display_name": "Python 3",
   "language": "python",
   "name": "python3"
  },
  "language_info": {
   "codemirror_mode": {
    "name": "ipython",
    "version": 3
   },
   "file_extension": ".py",
   "mimetype": "text/x-python",
   "name": "python",
   "nbconvert_exporter": "python",
   "pygments_lexer": "ipython3",
   "version": "3.8.6"
  }
 },
 "nbformat": 4,
 "nbformat_minor": 4
}
