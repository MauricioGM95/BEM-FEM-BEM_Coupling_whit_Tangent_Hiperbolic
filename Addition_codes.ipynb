{
 "cells": [
  {
   "cell_type": "markdown",
   "metadata": {},
   "source": [
    "# Additional codes"
   ]
  },
  {
   "cell_type": "markdown",
   "metadata": {},
   "source": [
    "### Calculation of the energy transformation constant and  inverse of the Debey-Huckel length"
   ]
  },
  {
   "cell_type": "code",
   "execution_count": 1,
   "metadata": {},
   "outputs": [
    {
     "name": "stdout",
     "output_type": "stream",
     "text": [
      "332.0636817823835\n",
      "0.12510196683109323\n"
     ]
    }
   ],
   "source": [
    "import numpy as np \n",
    "qe = 1.60217646e-19  # Charge of an electron [C]\n",
    "Na = 6.0221415e23    # Avogadro constant [1/mol]\n",
    "E0 = 8.854187818e-12 # Vacuum permittivity [C^2/Jm]\n",
    "m2A = 10**10         # Transformation of length units from meter to Angstrom [A/m]\n",
    "Kcal2J = 4184        # Transformation of energy units from kilocalories to Joule [Kcal/J]\n",
    "I = 0.150            # Ionic strength of the electrolyte [mol/L]\n",
    "es =80               # Exterior electrical permittivity of the solvent [-]\n",
    "KB = 1.380649e-23    # Boltzmann constant [J/K]\n",
    "T = 303              # Absolute temperature [K]        \n",
    "L2m3 = 1000          # Transformation of volume units from liter to cubic meter [L/m^3]\n",
    "\n",
    "#Calculation of the energy transformation constant\n",
    "C = qe**2*Na*m2A/(4*np.pi*E0*Kcal2J)   #[Kcal*A/mol]\n",
    "\n",
    "#Calculation of inverse of the Debye-Huckel length of the fluid in the solvent.\n",
    "ks = np.sqrt((2*Na*I*L2m3*qe**2)/(E0*es*T*KB*m2A**2)) #[1/A]\n",
    "\n",
    "print(C)\n",
    "print(ks)"
   ]
  },
  {
   "cell_type": "markdown",
   "metadata": {},
   "source": [
    "### Code to read information from a text file."
   ]
  },
  {
   "cell_type": "code",
   "execution_count": null,
   "metadata": {},
   "outputs": [],
   "source": [
    "#Option to display specific data from a text file\n",
    "with open(\"Sphere/Datos_Global_TanH_Esfera58_Prueba.txt\",\"r\") as f:\n",
    "    lines = f.readlines()\n",
    "for line in lines:\n",
    "    line = line.split()\n",
    "    if line[4] == 'R0':\n",
    "        print(line[0])"
   ]
  },
  {
   "cell_type": "markdown",
   "metadata": {},
   "source": [
    "### Coulomb energy calculation of the complex and proteins for 1EMV, 1BRS, 1JTG, 1BEB and 1A3N"
   ]
  },
  {
   "cell_type": "code",
   "execution_count": null,
   "metadata": {},
   "outputs": [],
   "source": [
    "#Reading the text file.\n",
    "TG0 = ['1emvAmber','1brsAmber','1jtgAmber','1bebAmber','1a3nAmber']\n",
    "TG1 = ['','P1','P2']\n",
    "LG = []\n",
    "for i in range(len(TG0)):\n",
    "    for j in range(len(TG1)):\n",
    "        LG.append(TG0[i]+TG1[j])  \n",
    "        \n",
    "em =2 #[-] Interior electrical permittivity of the solute.\n",
    "\n",
    "#Coulomb energy calculation.\n",
    "from Codigos_BEM_y_FEM_No_Regularizado import *\n",
    "for i in range(len(LG)):\n",
    "    F0='Binding_Energy/PQR/'+str(LG[i])+'.pqr'  #Path where the pqr is located. \n",
    "    EC=ECoulomb(F0,em)\n",
    "    print(EC,LG[i])"
   ]
  },
  {
   "cell_type": "markdown",
   "metadata": {},
   "source": [
    "### Coulomb energy calculation of the complex, ligand and protein for 1BBZ and 1SE0"
   ]
  },
  {
   "cell_type": "code",
   "execution_count": null,
   "metadata": {},
   "outputs": [],
   "source": [
    "#Reading the text file. \n",
    "LG = ['L1SE0','1SE0','1SE0-L','L1BBZ','1BBZ','1BBZ-L']\n",
    "\n",
    "em =2 #[-] Interior electrical permittivity of the solute.\n",
    "\n",
    "#Coulomb energy calculation.\n",
    "from Codigos_BEM_y_FEM_No_Regularizado import *\n",
    "for i in range(len(LG)):\n",
    "    F0='Binding_Energy/PQR2/'+str(LG[i])+'.pqr' #Path where the pqr is located.  \n",
    "    EC=ECoulomb(F0,em)\n",
    "    print(EC,LG[i])"
   ]
  },
  {
   "cell_type": "code",
   "execution_count": null,
   "metadata": {},
   "outputs": [],
   "source": []
  }
 ],
 "metadata": {
  "kernelspec": {
   "display_name": "Python 3",
   "language": "python",
   "name": "python3"
  },
  "language_info": {
   "codemirror_mode": {
    "name": "ipython",
    "version": 3
   },
   "file_extension": ".py",
   "mimetype": "text/x-python",
   "name": "python",
   "nbconvert_exporter": "python",
   "pygments_lexer": "ipython3",
   "version": "3.8.6"
  }
 },
 "nbformat": 4,
 "nbformat_minor": 4
}
